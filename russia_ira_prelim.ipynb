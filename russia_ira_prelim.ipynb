{
 "cells": [
  {
   "cell_type": "code",
   "execution_count": null,
   "id": "590dda38",
   "metadata": {},
   "outputs": [],
   "source": [
    "import pandas as pd\n",
    "from googletrans import Translator\n",
    "from pandas import DataFrame\n",
    "import matplotlib.pyplot as plt\n",
    "import numpy as np\n",
    "import ipywidgets as widgets\n",
    "import math\n",
    "from IPython.display import clear_output\n",
    "from datetime import datetime\n",
    "from time import mktime\n",
    "import time\n",
    "import calendar\n",
    "import seaborn as sn\n",
    "import matplotlib as mpl\n",
    "from IPython.display import clear_output\n",
    "from IPython.display import display\n",
    "import os\n",
    "\n",
    "pd.options.mode.chained_assignment = None\n",
    "pd.set_option('display.max_rows', 10000)\n",
    "pd.set_option('display.max_columns', 100000)"
   ]
  },
  {
   "cell_type": "code",
   "execution_count": null,
   "id": "607c797a",
   "metadata": {},
   "outputs": [],
   "source": [
    "#os.chdir('/Users/drishti')\n",
    "#df = pd.read_csv('russia_eng.csv')\n",
    "#df = df[df.tweet_language == 'en']\n",
    "#df = df[df.is_retweet == 0]"
   ]
  },
  {
   "cell_type": "code",
   "execution_count": null,
   "id": "dd7d758b",
   "metadata": {},
   "outputs": [],
   "source": [
    "txt_file = open(\"racewords.txt\", \"r\")\n",
    "file_content = txt_file.read()\n",
    "words = file_content.split()\n",
    "words"
   ]
  },
  {
   "cell_type": "code",
   "execution_count": null,
   "id": "f951ca05",
   "metadata": {},
   "outputs": [],
   "source": [
    "directory = 'data/'\n",
    "file_name = 'russia_eng.csv'"
   ]
  },
  {
   "cell_type": "code",
   "execution_count": null,
   "id": "209d7be4",
   "metadata": {},
   "outputs": [],
   "source": [
    "# load the file\n",
    "tp = pd.read_csv(directory + file_name, low_memory=False, chunksize=10000)\n",
    "df = pd.concat(tp, ignore_index=True)\n",
    "\n",
    "# if loaded the file with retweets\n",
    "# df = df.loc[df['is_retweet'] == False]"
   ]
  },
  {
   "cell_type": "code",
   "execution_count": null,
   "id": "a4bdc023",
   "metadata": {},
   "outputs": [],
   "source": [
    "# define the columns to use as the variables\n",
    "hashtags = df['hashtags']"
   ]
  },
  {
   "cell_type": "code",
   "execution_count": null,
   "id": "7474cbf3",
   "metadata": {},
   "outputs": [],
   "source": [
    "# preprocess step, convert string to list\n",
    "def create_list(tags):\n",
    "    if tags == '[]':\n",
    "        new_list = []\n",
    "        return new_list\n",
    "    else:\n",
    "        new_list = tags.replace('[','').replace(']','')\n",
    "        new_list = new_list.split(', ')\n",
    "        new_list = [item.strip('\\'') for item in new_list] \n",
    "    final_list = []\n",
    "    for i in range(len(new_list)):\n",
    "        if new_list[i] in words:\n",
    "            final_list.append(new_list[i])\n",
    "    return final_list\n",
    "\n",
    "for idx in range(len(hashtags)):\n",
    "    try:\n",
    "        new_list = create_list(hashtags[idx])\n",
    "        if (new_list != []):\n",
    "            print(new_list)\n",
    "        hashtags.iloc[idx] = new_list\n",
    "    except Exception as e:\n",
    "        hashtags.iloc[idx] = []"
   ]
  },
  {
   "cell_type": "code",
   "execution_count": null,
   "id": "1761c662",
   "metadata": {},
   "outputs": [],
   "source": [
    "\n",
    "# frequency dictionary\n",
    "tag_freq = {}\n",
    "for tag_list in hashtags:\n",
    "    if((type(tag_list) is not float)):\n",
    "        for t in tag_list: # iterate through each tag in the list\n",
    "            if len(t) != 0: # if tag is word\n",
    "                if t in tag_freq: # if tag already exists in tag_freq\n",
    "                    tag_freq[t] += 1\n",
    "                else: # if tag is first seen in tag_freq\n",
    "                    tag_freq[t] = 1\n",
    "sorted_tag_freq = sorted(tag_freq.items(), key=lambda x: x[1], reverse=True)"
   ]
  },
  {
   "cell_type": "code",
   "execution_count": null,
   "id": "93bc18aa",
   "metadata": {},
   "outputs": [],
   "source": [
    "# configuring what to display for the pie chart\n",
    "extra = sorted_tag_freq[5:]\n",
    "extra_sum = 0\n",
    "\n",
    "for x in extra:\n",
    "    extra_sum += x[1]\n",
    "    \n",
    "# the number of tags to display\n",
    "tags_disp = sorted_tag_freq[0:4]\n",
    "\n",
    "# uncomment below to graph top hashtags with others\n",
    "tags_disp.append(('others', extra_sum))\n",
    "\n",
    "labels, count = list(zip(*tags_disp))\n",
    "percent = []\n",
    "for i in count:\n",
    "    percent.append(i*100./sum(list(count)))\n",
    "legend_labels = ['{0} - {1:1.2f} %'.format(i,j) for i,j in zip(labels, percent)]"
   ]
  },
  {
   "cell_type": "code",
   "execution_count": null,
   "id": "72439f8e",
   "metadata": {},
   "outputs": [],
   "source": [
    "mpl.style.use('default')\n",
    "fig1, ax1 = plt.subplots()\n",
    "colors = list(plt.cm.tab10(np.arange(10))) + ['brown']\n",
    "pie = ax1.pie(count, labels=labels, startangle=90, radius=1, colors=colors)\n",
    "plt.legend(pie[0], legend_labels, loc=\"center\", bbox_to_anchor=(2,0))\n",
    "plt.show()"
   ]
  }
 ],
 "metadata": {
  "kernelspec": {
   "display_name": "Python 3 (ipykernel)",
   "language": "python",
   "name": "python3"
  },
  "language_info": {
   "codemirror_mode": {
    "name": "ipython",
    "version": 3
   },
   "file_extension": ".py",
   "mimetype": "text/x-python",
   "name": "python",
   "nbconvert_exporter": "python",
   "pygments_lexer": "ipython3",
   "version": "3.9.15"
  }
 },
 "nbformat": 4,
 "nbformat_minor": 5
}
