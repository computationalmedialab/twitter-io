{
 "cells": [
  {
   "cell_type": "code",
   "execution_count": null,
   "metadata": {},
   "outputs": [],
   "source": [
    "import pandas as pd\n",
    "from googletrans import Translator\n",
    "from pandas import DataFrame\n",
    "import matplotlib.pyplot as plt\n",
    "import numpy as np\n",
    "import ipywidgets as widgets\n",
    "import math\n",
    "from IPython.display import clear_output\n",
    "from datetime import datetime\n",
    "from time import mktime\n",
    "import time\n",
    "import calendar\n",
    "import seaborn as sn\n",
    "import matplotlib as mpl\n",
    "from IPython.display import clear_output\n",
    "from IPython.display import display\n",
    "\n",
    "pd.options.mode.chained_assignment = None\n",
    "pd.set_option('display.max_rows', 100000)\n",
    "pd.set_option('display.max_columns', 1000000)"
   ]
  },
  {
   "cell_type": "markdown",
   "metadata": {},
   "source": [
    "### Initial setting"
   ]
  },
  {
   "cell_type": "code",
   "execution_count": null,
   "metadata": {},
   "outputs": [],
   "source": [
    "directory = 'data/'\n",
    "file_name = 'iran_2021_eng.csv'"
   ]
  },
  {
   "cell_type": "code",
   "execution_count": null,
   "metadata": {},
   "outputs": [],
   "source": [
    "# load the file\n",
    "tp = pd.read_csv(directory + file_name, low_memory=False, chunksize=10000)\n",
    "df = pd.concat(tp, ignore_index=True)"
   ]
  },
  {
   "cell_type": "code",
   "execution_count": null,
   "metadata": {},
   "outputs": [],
   "source": [
    "# if loaded the file with retweets\n",
    "df = df.loc[df['is_retweet'] == False]\n",
    "df = df.loc[df['tweet_language'] == 'en']"
   ]
  },
  {
   "cell_type": "code",
   "execution_count": null,
   "metadata": {
    "scrolled": true
   },
   "outputs": [],
   "source": [
    "txt_file = open(\"data/racewords.txt\", \"r\")\n",
    "file_content = txt_file.read()\n",
    "words = file_content.split()"
   ]
  },
  {
   "cell_type": "markdown",
   "metadata": {},
   "source": [
    "### Hashtag Distribution"
   ]
  },
  {
   "cell_type": "markdown",
   "metadata": {},
   "source": [
    "Make sure this cell is run only once before continuing"
   ]
  },
  {
   "cell_type": "code",
   "execution_count": null,
   "metadata": {},
   "outputs": [],
   "source": [
    "# define the columns to use as the variables\n",
    "hashtags = df['hashtags']"
   ]
  },
  {
   "cell_type": "code",
   "execution_count": null,
   "metadata": {
    "scrolled": true
   },
   "outputs": [],
   "source": [
    "# preprocess step, convert string to list\n",
    "def create_list(tags):\n",
    "    new_list = []\n",
    "    if type(tags) == str:\n",
    "        if tags != '[]':\n",
    "            new_list = tags.replace('[','').replace(']','')\n",
    "            new_list = new_list.split(', ')\n",
    "            new_list = [item.strip('\\'') for item in new_list]\n",
    "    final_list = []\n",
    "    for i in range(len(new_list)):\n",
    "        current_tag = new_list[i].lower()\n",
    "        for w in words:\n",
    "            if w in current_tag:\n",
    "                final_list.append(current_tag)\n",
    "                \n",
    "    return final_list\n",
    "\n",
    "for idx in range(len(hashtags)):\n",
    "    try:\n",
    "        new_list = create_list(hashtags[idx])\n",
    "        hashtags.iloc[idx] = new_list\n",
    "    except Exception as e:\n",
    "#         print(e)\n",
    "        hashtags.iloc[idx] = []"
   ]
  },
  {
   "cell_type": "code",
   "execution_count": null,
   "metadata": {},
   "outputs": [],
   "source": [
    "for idx in df.index:\n",
    "    if((type(hashtags[idx]) is not float)): # checking NaN\n",
    "        for tag_idx in range(len(hashtags[idx])):\n",
    "            tag = hashtags[idx][tag_idx] # current hashtag\n",
    "            tag = tag.replace('#','')\n",
    "            \n",
    "            if len(tag) > 0:\n",
    "                hashtags[idx][tag_idx] = tag.lower()"
   ]
  },
  {
   "cell_type": "code",
   "execution_count": null,
   "metadata": {},
   "outputs": [],
   "source": [
    "# frequency dictionary\n",
    "tag_freq = {}\n",
    "for tag_list in hashtags:\n",
    "    if((type(tag_list) is not float)):\n",
    "        for t in tag_list: # iterate through each tag in the list\n",
    "            if len(t) != 0: # if tag is word\n",
    "                if t in tag_freq: # if tag already exists in tag_freq\n",
    "                    tag_freq[t] += 1\n",
    "                else: # if tag is first seen in tag_freq\n",
    "                    tag_freq[t] = 1\n",
    "sorted_tag_freq = sorted(tag_freq.items(), key=lambda x: x[1], reverse=True)"
   ]
  },
  {
   "cell_type": "code",
   "execution_count": null,
   "metadata": {
    "scrolled": false
   },
   "outputs": [],
   "source": [
    "# configuring what to display for the pie chart\n",
    "extra = sorted_tag_freq[5:]\n",
    "extra_sum = 0\n",
    "\n",
    "for x in extra:\n",
    "    extra_sum += x[1]\n",
    "    \n",
    "# the number of tags to display\n",
    "tags_disp = sorted_tag_freq[0:9]\n",
    "\n",
    "# uncomment below to graph top hashtags with others\n",
    "tags_disp.append(('others', extra_sum))\n",
    "\n",
    "labels, count = list(zip(*tags_disp))\n",
    "percent = []\n",
    "for i in count:\n",
    "    percent.append(i*100./sum(list(count)))\n",
    "legend_labels = ['{0} - {1:1.2f} %'.format(i,j) for i,j in zip(labels, percent)]"
   ]
  },
  {
   "cell_type": "markdown",
   "metadata": {},
   "source": [
    "#### Pie Graph"
   ]
  },
  {
   "cell_type": "code",
   "execution_count": null,
   "metadata": {},
   "outputs": [],
   "source": [
    "mpl.style.use('default')\n",
    "fig1, ax1 = plt.subplots()\n",
    "colors = list(plt.cm.tab10(np.arange(10))) + ['brown']\n",
    "pie = ax1.pie(count, labels=labels, startangle=90, radius=1, colors=colors)\n",
    "plt.legend(pie[0], legend_labels, loc=\"center\", bbox_to_anchor=(2,0))\n",
    "plt.show()"
   ]
  },
  {
   "cell_type": "markdown",
   "metadata": {},
   "source": [
    "### Calendar"
   ]
  },
  {
   "cell_type": "code",
   "execution_count": null,
   "metadata": {},
   "outputs": [],
   "source": [
    "tweet_time = df['tweet_time']"
   ]
  },
  {
   "cell_type": "code",
   "execution_count": null,
   "metadata": {},
   "outputs": [],
   "source": [
    "rows_to_delete = []\n",
    "for i in range(len(df)):\n",
    "    if type(tweet_time[i]) is float or len(tweet_time[i]) < 2:\n",
    "        rows_to_delete.append(i)"
   ]
  },
  {
   "cell_type": "code",
   "execution_count": null,
   "metadata": {},
   "outputs": [],
   "source": [
    "df.drop(df.index[rows_to_delete], inplace=True)"
   ]
  },
  {
   "cell_type": "code",
   "execution_count": null,
   "metadata": {},
   "outputs": [],
   "source": [
    "time_list = []\n",
    "for time_idx in tweet_time.index:\n",
    "    try:\n",
    "        time_list.append(tweet_time[time_idx][:-6])\n",
    "    except Exception as e:\n",
    "        print(time_idx)\n",
    "        time_list.append(\"***********\")"
   ]
  },
  {
   "cell_type": "code",
   "execution_count": null,
   "metadata": {},
   "outputs": [],
   "source": [
    "# tag and time pair\n",
    "tag_time = {}\n",
    "for idx in range(len(df)):\n",
    "    if((type(hashtags[idx]) is not float)):\n",
    "        for t in hashtags[idx]:\n",
    "            if len(t) != 0:\n",
    "                if t in tag_time:\n",
    "                    try:\n",
    "                        tag_time[t].append(time_list[idx][0:-3])\n",
    "                    except:\n",
    "                        print(idx)\n",
    "                else:\n",
    "                    tag_time[t] = [time_list[idx][0:-3]]\n",
    "sorted_tag_time = sorted(tag_time.items(), key=lambda x: len(x[1]), reverse=True)"
   ]
  },
  {
   "cell_type": "markdown",
   "metadata": {},
   "source": [
    "Start from here"
   ]
  },
  {
   "cell_type": "code",
   "execution_count": null,
   "metadata": {},
   "outputs": [],
   "source": [
    "# date1 = min(time_list)\n",
    "date1 = '2019-01-01'\n",
    "date2 = max(time_list)"
   ]
  },
  {
   "cell_type": "code",
   "execution_count": null,
   "metadata": {},
   "outputs": [],
   "source": [
    "# change last date to next month's first day\n",
    "date2_datetime = datetime.strptime(date2, '%Y-%m-%d') # change last date to datetime object\n",
    "new_month = (date2_datetime.month + 1) % 12 # increment last date's month by one\n",
    "new_year = date2_datetime.year + 1\n",
    "date2_datetime = date2_datetime.replace(year=new_year, month=new_month)\n",
    "# change datetime object to string again\n",
    "date3 = datetime.strftime(date2_datetime, '%Y-%m-%d')"
   ]
  },
  {
   "cell_type": "code",
   "execution_count": null,
   "metadata": {},
   "outputs": [],
   "source": [
    "# create dataframe for calendar\n",
    "date_index = pd.date_range(date1, date3).format(formatter=lambda x: x.strftime('%Y-%m'))"
   ]
  },
  {
   "cell_type": "code",
   "execution_count": null,
   "metadata": {},
   "outputs": [],
   "source": [
    "zeros = np.zeros([len(date_index), len(tag_time)], dtype=int)\n",
    "cal = pd.DataFrame(zeros, index=date_index)\n",
    "cal.columns = tag_time.keys()\n",
    "tags, time = zip(*sorted_tag_time)"
   ]
  },
  {
   "cell_type": "code",
   "execution_count": null,
   "metadata": {},
   "outputs": [],
   "source": [
    "# dates outside the range\n",
    "old_date = []\n",
    "\n",
    "for tag in tag_time: # for each hashtag\n",
    "    # get all the dates of hashtag occurrences\n",
    "    x = DataFrame(tag_time[tag])\n",
    "    # group the same date together to get its count\n",
    "    x = x.groupby(x[0]).size()\n",
    "    # set cal's value to date's count\n",
    "    for date in x.index:\n",
    "        try:\n",
    "            cal.loc[date][tag] = x.loc[date]\n",
    "        except Exception as e:\n",
    "            old_date.append(e)"
   ]
  },
  {
   "cell_type": "markdown",
   "metadata": {},
   "source": [
    "WARNING: Don't use this cell again after running next cell instead run a cell named \"Start from here\""
   ]
  },
  {
   "cell_type": "code",
   "execution_count": null,
   "metadata": {},
   "outputs": [],
   "source": [
    "# create the list for x axis with converting datetime object to string\n",
    "datetime_axis = pd.date_range(start='2019-01-01', end=date3, freq='MS')\n",
    "\n",
    "x_axis = []\n",
    "for dt in datetime_axis:\n",
    "    x_axis.append(datetime.strftime(dt, '%Y-%m'))"
   ]
  },
  {
   "cell_type": "code",
   "execution_count": null,
   "metadata": {},
   "outputs": [],
   "source": [
    "import matplotlib.dates as mdates\n",
    "\n",
    "slider = widgets.IntRangeSlider(\n",
    "    value=[0, 10],\n",
    "    min=0,\n",
    "    max=10,\n",
    "    step=1,\n",
    "    description='Range:',\n",
    "    disabled=False,\n",
    "    continuous_update=False,\n",
    "    orientation='horizontal',\n",
    "    readout=True,\n",
    "    readout_format='d',\n",
    ")\n",
    "\n",
    "box = widgets.SelectMultiple(\n",
    "    options=tags[0:10],\n",
    "    rows=10,\n",
    "    value=tags[0:1],\n",
    "    description='Keywords',\n",
    "    disabled=False\n",
    ")\n",
    "\n",
    "def on_value_change(change):\n",
    "    if(len(change['new']) == 0):\n",
    "        pass\n",
    "    elif type(change['new'][0]) == int:\n",
    "        draw_graph(list(tags[change['new'][0]:change['new'][1]]))\n",
    "    elif type(change['new'][0]) == str:\n",
    "        draw_graph(list(change['new']))   \n",
    "    clear_output(wait=True)\n",
    "    display(slider, box)\n",
    "\n",
    "def draw_graph(labl):\n",
    "    fig = plt.figure()\n",
    "    ax = fig.add_axes([0,0,2,1])\n",
    "    plt.plot(cal[labl])\n",
    "    myFmt = mdates.DateFormatter('%Y-%m')\n",
    "    ax.xaxis.set_major_formatter(myFmt)\n",
    "    ax.set_xticks(x_axis)\n",
    "    plt.legend(labl)\n",
    "    \n",
    "slider.observe(on_value_change, 'value')\n",
    "box.observe(on_value_change, 'value')\n",
    "display(slider, box)"
   ]
  },
  {
   "cell_type": "markdown",
   "metadata": {},
   "source": [
    "### Table and Heatmap"
   ]
  },
  {
   "cell_type": "code",
   "execution_count": null,
   "metadata": {},
   "outputs": [],
   "source": [
    "def draw_table(labl):\n",
    "    cal.index = pd.to_datetime(cal.index,format='%Y-%m-%d')\n",
    "    cal.set_index(cal.index)\n",
    "    cal_month = cal.groupby([(cal.index.year),(cal.index.month)]).sum()\n",
    "    index=pd.MultiIndex.from_tuples([(x[0], calendar.month_abbr[x[1]]) for x in cal_month.index]) \n",
    "\n",
    "    cal_month = cal_month[labl]\n",
    "    cal_month_top = cal_month.set_index(index)\n",
    "    display(cal_month_top)\n",
    "    \n",
    "    corrMatrix = cal_month.corr()\n",
    "    np.fill_diagonal(corrMatrix.values, 0)\n",
    "#     corrMatrix\n",
    "    sn.heatmap(corrMatrix, annot=True, cmap=\"Greys\")\n",
    "    plt.show()\n",
    "\n",
    "def on_value_change_table(change):\n",
    "    clear_output(wait=True)\n",
    "    display(slider_table, box_table)\n",
    "    \n",
    "    if(len(change['new']) == 0):\n",
    "        pass\n",
    "    elif type(change['new'][0]) == int:\n",
    "        draw_table(list(tags[change['new'][0]:change['new'][1]]))\n",
    "    elif type(change['new'][0]) == str:\n",
    "        draw_table(list(change['new']))\n",
    "    \n",
    "slider_table = widgets.IntRangeSlider(\n",
    "    value=[0, 50],\n",
    "    min=0,\n",
    "    max=50,\n",
    "    step=1,\n",
    "    description='Range:',\n",
    "    disabled=False,\n",
    "    continuous_update=False,\n",
    "    orientation='horizontal',\n",
    "    readout=True,\n",
    "    readout_format='d',\n",
    ")\n",
    "\n",
    "box_table = widgets.SelectMultiple(\n",
    "    options=tags[0:50],\n",
    "    rows=10,\n",
    "    value=[tags[0]],\n",
    "    description='Keywords',\n",
    "    disabled=False\n",
    ")\n",
    "\n",
    "slider_table.observe(on_value_change_table, 'value')\n",
    "box_table.observe(on_value_change_table, 'value')\n",
    "display(slider_table, box_table)"
   ]
  }
 ],
 "metadata": {
  "interpreter": {
   "hash": "65f7d52e08a06d2aa2236642883807802aa7261af3d2a3645a4a6e3ae8e25db3"
  },
  "kernelspec": {
   "display_name": "Python 3 (ipykernel)",
   "language": "python",
   "name": "python3"
  },
  "language_info": {
   "codemirror_mode": {
    "name": "ipython",
    "version": 3
   },
   "file_extension": ".py",
   "mimetype": "text/x-python",
   "name": "python",
   "nbconvert_exporter": "python",
   "pygments_lexer": "ipython3",
   "version": "3.9.15"
  },
  "widgets": {
   "application/vnd.jupyter.widget-state+json": {
    "state": {
     "010c42ea2c27420196662c9e12ca6db5": {
      "model_module": "@jupyter-widgets/controls",
      "model_module_version": "1.5.0",
      "model_name": "SliderStyleModel",
      "state": {
       "description_width": ""
      }
     },
     "01397153642f4972af0fd59889c1acac": {
      "model_module": "@jupyter-widgets/controls",
      "model_module_version": "1.5.0",
      "model_name": "IntRangeSliderModel",
      "state": {
       "_model_name": "IntRangeSliderModel",
       "_view_name": "IntRangeSliderView",
       "continuous_update": false,
       "description": "Range:",
       "layout": "IPY_MODEL_0f4099bff9de44d48eaf52e857bb008f",
       "max": 10,
       "style": "IPY_MODEL_bec8efab80f54bd0a01232738268895b",
       "value": [
        0,
        10
       ]
      }
     },
     "0188b92727264c60836babc42e8a99cf": {
      "model_module": "@jupyter-widgets/controls",
      "model_module_version": "1.5.0",
      "model_name": "SelectMultipleModel",
      "state": {
       "_options_labels": [
        "BlackLivesMatter",
        "racism",
        "LGBT",
        "PoliceBrutality",
        "Diversity",
        "blacklivesmatter",
        "BlackLove",
        "LGBTQ",
        "BlackHistoryMonth",
        "BlackTwitter",
        "HumanRights",
        "blackexcellence",
        "BlackTwitterMovement",
        "police",
        "SayNoToRacism",
        "policebrutality",
        "Blacktwitter",
        "love",
        "BlackExcellence",
        "CHANGE",
        "Police",
        "Trump",
        "Africa",
        "racist",
        "TuesdayThoughts",
        "blackgirlsrock",
        "blackandproud",
        "women",
        "MondayMotivation",
        "blackhistorymonth",
        "black",
        "blackisbeautiful",
        "blackgirlmagic",
        "loveislove",
        "blacklove",
        "mondaythoughts",
        "TuesdayMotivation",
        "PoliceState",
        "girlpower",
        "FridayFeeling",
        "cops",
        "Sustainability",
        "BLM",
        "blacks",
        "blackhistory",
        "FridayThoughts",
        "ThursdayMotivation",
        "saynotoracism",
        "FridayMotivation",
        "WednesdayWisdom"
       ],
       "description": "Keywords",
       "index": [
        18
       ],
       "layout": "IPY_MODEL_f856e570a5514927ae3554bc34dc67b0",
       "rows": 10,
       "style": "IPY_MODEL_a405a5ea911b47cfa9b0fa02485accb7"
      }
     },
     "0241528170b54eb5b3eae67345240865": {
      "model_module": "@jupyter-widgets/controls",
      "model_module_version": "1.5.0",
      "model_name": "SelectMultipleModel",
      "state": {
       "_options_labels": [
        "BlackLivesMatter",
        "racism",
        "LGBT",
        "PoliceBrutality",
        "Diversity",
        "blacklivesmatter",
        "BlackLove",
        "LGBTQ",
        "BlackHistoryMonth",
        "BlackTwitter"
       ],
       "description": "Keywords",
       "index": [
        0
       ],
       "layout": "IPY_MODEL_0f1ffd38e0d0401b902ef421198a186b",
       "rows": 10,
       "style": "IPY_MODEL_6632272538df4dc1a91d97f594035c60"
      }
     },
     "02e454a8bf3f435fb063227ef3985337": {
      "model_module": "@jupyter-widgets/base",
      "model_module_version": "1.2.0",
      "model_name": "LayoutModel",
      "state": {}
     },
     "032fd85b47e64c90ae46ab715f388b99": {
      "model_module": "@jupyter-widgets/controls",
      "model_module_version": "1.5.0",
      "model_name": "TextModel",
      "state": {
       "description": "Hashtag:",
       "layout": "IPY_MODEL_ecaafdb8dcdb47888f87f3f850e23485",
       "style": "IPY_MODEL_14a7b713263d4540992b375f5088f1c6",
       "value": "BLM"
      }
     },
     "03b0342921d542ac8417376698427b29": {
      "model_module": "@jupyter-widgets/base",
      "model_module_version": "1.2.0",
      "model_name": "LayoutModel",
      "state": {}
     },
     "03d664aeae2949818fde7adc5db2d26b": {
      "model_module": "@jupyter-widgets/controls",
      "model_module_version": "1.5.0",
      "model_name": "IntRangeSliderModel",
      "state": {
       "_model_name": "IntRangeSliderModel",
       "_view_name": "IntRangeSliderView",
       "continuous_update": false,
       "description": "Range:",
       "layout": "IPY_MODEL_b713db3effbb46898396e30d9027030f",
       "max": 10,
       "style": "IPY_MODEL_5383f95263eb4cf3b9ee10d4380a859c",
       "value": [
        0,
        10
       ]
      }
     },
     "03de69ae54eb40bd92580e12d90dd4a6": {
      "model_module": "@jupyter-widgets/base",
      "model_module_version": "1.2.0",
      "model_name": "LayoutModel",
      "state": {}
     },
     "03f738e364254bf7bef6daf85bcdd09d": {
      "model_module": "@jupyter-widgets/controls",
      "model_module_version": "1.5.0",
      "model_name": "TextModel",
      "state": {
       "description": "Enter ID:",
       "layout": "IPY_MODEL_b0e8d523ae724df78a1f0e2f861efbc9",
       "style": "IPY_MODEL_861cd7c71c3645b388f0126a8fec45f0",
       "value": "+dqWn63XKrwrFoWwXLd2+4J0ehNMZ5TIZ+6uhBMVGZE="
      }
     },
     "0411e5878c8d4f0a86942a9a587e9e2e": {
      "model_module": "@jupyter-widgets/base",
      "model_module_version": "1.2.0",
      "model_name": "LayoutModel",
      "state": {}
     },
     "048757702f334a38af53445381a7b4d4": {
      "model_module": "@jupyter-widgets/controls",
      "model_module_version": "1.5.0",
      "model_name": "ButtonStyleModel",
      "state": {}
     },
     "04f56223eb3a4fd9bfcb8b39ece929d9": {
      "model_module": "@jupyter-widgets/controls",
      "model_module_version": "1.5.0",
      "model_name": "TextModel",
      "state": {
       "description": "Hashtag:",
       "layout": "IPY_MODEL_5f9b77bcb9184aefaa8cedbbb9087866",
       "style": "IPY_MODEL_c458058493c84c9493647cd1bd5f7716"
      }
     },
     "05d9dd484ce747d98495992caf2aa00b": {
      "model_module": "@jupyter-widgets/base",
      "model_module_version": "1.2.0",
      "model_name": "LayoutModel",
      "state": {}
     },
     "07da63dfd1b94b4680aaf3b31e39f7f3": {
      "model_module": "@jupyter-widgets/base",
      "model_module_version": "1.2.0",
      "model_name": "LayoutModel",
      "state": {}
     },
     "08cc605d39754799ae43637176429611": {
      "model_module": "@jupyter-widgets/base",
      "model_module_version": "1.2.0",
      "model_name": "LayoutModel",
      "state": {}
     },
     "0935152384dc421e870bc28d10183a13": {
      "model_module": "@jupyter-widgets/base",
      "model_module_version": "1.2.0",
      "model_name": "LayoutModel",
      "state": {}
     },
     "0981eed63793424088f8da787ae46806": {
      "model_module": "@jupyter-widgets/base",
      "model_module_version": "1.2.0",
      "model_name": "LayoutModel",
      "state": {}
     },
     "09bd8e9165554d30941f1a8d97a1e4da": {
      "model_module": "@jupyter-widgets/base",
      "model_module_version": "1.2.0",
      "model_name": "LayoutModel",
      "state": {}
     },
     "09c9a3e49e6a469694981d2c9fa24393": {
      "model_module": "@jupyter-widgets/controls",
      "model_module_version": "1.5.0",
      "model_name": "DescriptionStyleModel",
      "state": {
       "description_width": ""
      }
     },
     "0b7bdd7e1514436c91e2f545cb8f2654": {
      "model_module": "@jupyter-widgets/controls",
      "model_module_version": "1.5.0",
      "model_name": "TextModel",
      "state": {
       "description": "Hashtag:",
       "layout": "IPY_MODEL_f30ef6a503be4269b9d5f7691d7f84e5",
       "style": "IPY_MODEL_87c696f1cb5c47c7a0167d87fa65b7a0",
       "value": "BLM"
      }
     },
     "0bb8028304dd48c8b447c1e73767502e": {
      "model_module": "@jupyter-widgets/controls",
      "model_module_version": "1.5.0",
      "model_name": "DescriptionStyleModel",
      "state": {
       "description_width": ""
      }
     },
     "0be643315c7f4fe1926a2151525dbd81": {
      "model_module": "@jupyter-widgets/base",
      "model_module_version": "1.2.0",
      "model_name": "LayoutModel",
      "state": {}
     },
     "0c081fac609d4abda0b16f8e9c7c45ad": {
      "model_module": "@jupyter-widgets/base",
      "model_module_version": "1.2.0",
      "model_name": "LayoutModel",
      "state": {}
     },
     "0c6fdeb3de4e49339469296124c70777": {
      "model_module": "@jupyter-widgets/base",
      "model_module_version": "1.2.0",
      "model_name": "LayoutModel",
      "state": {}
     },
     "0e6d482d995c46388d68e151cc997dbe": {
      "model_module": "@jupyter-widgets/base",
      "model_module_version": "1.2.0",
      "model_name": "LayoutModel",
      "state": {}
     },
     "0f0b22b8cdf14dc394907664f11df1ac": {
      "model_module": "@jupyter-widgets/base",
      "model_module_version": "1.2.0",
      "model_name": "LayoutModel",
      "state": {}
     },
     "0f1ffd38e0d0401b902ef421198a186b": {
      "model_module": "@jupyter-widgets/base",
      "model_module_version": "1.2.0",
      "model_name": "LayoutModel",
      "state": {}
     },
     "0f3f86802b4540a0a3f8424b8c0c053a": {
      "model_module": "@jupyter-widgets/base",
      "model_module_version": "1.2.0",
      "model_name": "LayoutModel",
      "state": {}
     },
     "0f405496f25840fabdb4fb00ddb549b0": {
      "model_module": "@jupyter-widgets/controls",
      "model_module_version": "1.5.0",
      "model_name": "DescriptionStyleModel",
      "state": {
       "description_width": ""
      }
     },
     "0f4099bff9de44d48eaf52e857bb008f": {
      "model_module": "@jupyter-widgets/base",
      "model_module_version": "1.2.0",
      "model_name": "LayoutModel",
      "state": {}
     },
     "0f5e3883fdad46c3af22063235cbcf86": {
      "model_module": "@jupyter-widgets/controls",
      "model_module_version": "1.5.0",
      "model_name": "SelectMultipleModel",
      "state": {
       "_options_labels": [
        "BlackLivesMatter",
        "racism",
        "LGBT",
        "PoliceBrutality",
        "Diversity",
        "blacklivesmatter",
        "BlackLove",
        "LGBTQ",
        "BlackHistoryMonth",
        "BlackTwitter",
        "HumanRights",
        "blackexcellence",
        "BlackTwitterMovement",
        "police",
        "SayNoToRacism",
        "policebrutality",
        "Blacktwitter",
        "love",
        "BlackExcellence",
        "CHANGE",
        "Police",
        "Trump",
        "Africa",
        "racist",
        "TuesdayThoughts",
        "blackgirlsrock",
        "blackandproud",
        "women",
        "MondayMotivation",
        "blackhistorymonth",
        "black",
        "blackisbeautiful",
        "blackgirlmagic",
        "loveislove",
        "blacklove",
        "mondaythoughts",
        "TuesdayMotivation",
        "PoliceState",
        "girlpower",
        "FridayFeeling",
        "cops",
        "Sustainability",
        "BLM",
        "blacks",
        "blackhistory",
        "FridayThoughts",
        "ThursdayMotivation",
        "saynotoracism",
        "FridayMotivation",
        "WednesdayWisdom"
       ],
       "description": "Keywords",
       "index": [
        0
       ],
       "layout": "IPY_MODEL_4db5139fe4ac411db49d7e52e83f1902",
       "rows": 10,
       "style": "IPY_MODEL_adff90f587464ef187992cc2f89c8dc8"
      }
     },
     "0fcf461fc44c484a904c1c32175cbdd3": {
      "model_module": "@jupyter-widgets/base",
      "model_module_version": "1.2.0",
      "model_name": "LayoutModel",
      "state": {}
     },
     "103ed9e685a54bd386c04a95dd941f60": {
      "model_module": "@jupyter-widgets/controls",
      "model_module_version": "1.5.0",
      "model_name": "TextModel",
      "state": {
       "description": "Hashtag:",
       "layout": "IPY_MODEL_32a0854c215645deb79c47a34e4373cf",
       "style": "IPY_MODEL_31972e951c16496797cdb86f0bfc70c5",
       "value": "blm"
      }
     },
     "1055537fe03c4d22814ef69e3141ea27": {
      "model_module": "@jupyter-widgets/base",
      "model_module_version": "1.2.0",
      "model_name": "LayoutModel",
      "state": {}
     },
     "1056af4adc5a4a48bff721903c74236c": {
      "model_module": "@jupyter-widgets/base",
      "model_module_version": "1.2.0",
      "model_name": "LayoutModel",
      "state": {}
     },
     "107d6a143ace4a0ea966eda4eadb2366": {
      "model_module": "@jupyter-widgets/controls",
      "model_module_version": "1.5.0",
      "model_name": "DescriptionStyleModel",
      "state": {
       "description_width": ""
      }
     },
     "108148a4cd7047b7902a4fe849299d61": {
      "model_module": "@jupyter-widgets/controls",
      "model_module_version": "1.5.0",
      "model_name": "SelectMultipleModel",
      "state": {
       "_options_labels": [
        "BlackLivesMatter",
        "racism",
        "LGBT",
        "PoliceBrutality",
        "Diversity",
        "blacklivesmatter",
        "BlackLove",
        "LGBTQ",
        "BlackHistoryMonth",
        "BlackTwitter",
        "HumanRights",
        "blackexcellence",
        "BlackTwitterMovement",
        "police",
        "SayNoToRacism",
        "policebrutality",
        "Blacktwitter",
        "love",
        "BlackExcellence",
        "CHANGE",
        "Police",
        "Trump",
        "Africa",
        "racist",
        "TuesdayThoughts",
        "blackgirlsrock",
        "blackandproud",
        "women",
        "MondayMotivation",
        "blackhistorymonth",
        "black",
        "blackisbeautiful",
        "blackgirlmagic",
        "loveislove",
        "blacklove",
        "mondaythoughts",
        "TuesdayMotivation",
        "PoliceState",
        "girlpower",
        "FridayFeeling",
        "cops",
        "Sustainability",
        "BLM",
        "blacks",
        "blackhistory",
        "FridayThoughts",
        "ThursdayMotivation",
        "saynotoracism",
        "FridayMotivation",
        "WednesdayWisdom"
       ],
       "description": "Keywords",
       "index": [
        0
       ],
       "layout": "IPY_MODEL_f399668ad0e24b6cb753e4966bd2a84f",
       "rows": 10,
       "style": "IPY_MODEL_7931a90caaa24543a3c40c1d73158db6"
      }
     },
     "10d48c483ff04ae9b2fbff73559ee94c": {
      "model_module": "@jupyter-widgets/controls",
      "model_module_version": "1.5.0",
      "model_name": "ButtonStyleModel",
      "state": {}
     },
     "12a5f99d232b455b9558708b837fad28": {
      "model_module": "@jupyter-widgets/controls",
      "model_module_version": "1.5.0",
      "model_name": "TextModel",
      "state": {
       "description": "Enter ID:",
       "layout": "IPY_MODEL_0f0b22b8cdf14dc394907664f11df1ac",
       "style": "IPY_MODEL_45a9672042784463bdee3d50bef0ec4b"
      }
     },
     "1306fd1d977d4f4cac3d4e7ba152a847": {
      "model_module": "@jupyter-widgets/controls",
      "model_module_version": "1.5.0",
      "model_name": "IntRangeSliderModel",
      "state": {
       "_model_name": "IntRangeSliderModel",
       "_view_name": "IntRangeSliderView",
       "continuous_update": false,
       "description": "Range:",
       "layout": "IPY_MODEL_903c5189483d475289c4dbf867d0396e",
       "max": 10,
       "style": "IPY_MODEL_908dbb0907c940889eccee07210d70e6",
       "value": [
        0,
        10
       ]
      }
     },
     "1335486f9b824417995a1738ca7d0758": {
      "model_module": "@jupyter-widgets/base",
      "model_module_version": "1.2.0",
      "model_name": "LayoutModel",
      "state": {}
     },
     "13617f5ea8cc42889c4447663a121ad5": {
      "model_module": "@jupyter-widgets/controls",
      "model_module_version": "1.5.0",
      "model_name": "ButtonModel",
      "state": {
       "description": "Clear Output",
       "layout": "IPY_MODEL_a2fefbc6844f4ec59ad02237fe4eb226",
       "style": "IPY_MODEL_e6e004cfb90c4c46a9515082b4e02301"
      }
     },
     "1365b1d6ec214578bf8f45106eb01d6b": {
      "model_module": "@jupyter-widgets/controls",
      "model_module_version": "1.5.0",
      "model_name": "TextModel",
      "state": {
       "description": "Hashtag:",
       "layout": "IPY_MODEL_4cb4cc1c97444fe4b4b71a1ff172e97d",
       "style": "IPY_MODEL_0bb8028304dd48c8b447c1e73767502e",
       "value": "BLM"
      }
     },
     "13dbc926292f4bd2bde95acf4fc5c24f": {
      "model_module": "@jupyter-widgets/base",
      "model_module_version": "1.2.0",
      "model_name": "LayoutModel",
      "state": {}
     },
     "149aaa4e05284dd3835f2f85faed8a18": {
      "model_module": "@jupyter-widgets/base",
      "model_module_version": "1.2.0",
      "model_name": "LayoutModel",
      "state": {}
     },
     "14a7b713263d4540992b375f5088f1c6": {
      "model_module": "@jupyter-widgets/controls",
      "model_module_version": "1.5.0",
      "model_name": "DescriptionStyleModel",
      "state": {
       "description_width": ""
      }
     },
     "14a92590d954491cb03a673562636c66": {
      "model_module": "@jupyter-widgets/controls",
      "model_module_version": "1.5.0",
      "model_name": "SliderStyleModel",
      "state": {
       "description_width": ""
      }
     },
     "15aabdcd4973417da3a7d2ac371dc1d1": {
      "model_module": "@jupyter-widgets/base",
      "model_module_version": "1.2.0",
      "model_name": "LayoutModel",
      "state": {}
     },
     "163e9af70d124fa6953ea1776611ec78": {
      "model_module": "@jupyter-widgets/controls",
      "model_module_version": "1.5.0",
      "model_name": "TextModel",
      "state": {
       "description": "Enter ID:",
       "layout": "IPY_MODEL_b96f5df204874218883bc56a46516249",
       "style": "IPY_MODEL_7e9f28d98589472cbda552c29498f31d",
       "value": "PvMtU8hSwydfwGdw7yuVC5yBPXjIE7+pZi0m0X7UtQ="
      }
     },
     "17d2ff8344434d01a1d1a1affc76464d": {
      "model_module": "@jupyter-widgets/controls",
      "model_module_version": "1.5.0",
      "model_name": "TextModel",
      "state": {
       "description": "Find Hashtag:",
       "layout": "IPY_MODEL_dc35e968ccb9418c814a57514dfd3bea",
       "style": "IPY_MODEL_865670ba8f5e41b396d58698c49087dd"
      }
     },
     "17fce48c8c7c4578b232683a0bb746da": {
      "model_module": "@jupyter-widgets/controls",
      "model_module_version": "1.5.0",
      "model_name": "DescriptionStyleModel",
      "state": {
       "description_width": ""
      }
     },
     "1939ac5c6a394b7ba9ccfdf93bfae98d": {
      "model_module": "@jupyter-widgets/base",
      "model_module_version": "1.2.0",
      "model_name": "LayoutModel",
      "state": {}
     },
     "1a45b1e8fb05489d80123e3816e67e2d": {
      "model_module": "@jupyter-widgets/controls",
      "model_module_version": "1.5.0",
      "model_name": "ButtonStyleModel",
      "state": {}
     },
     "1a81ab85efdf413bbe07d501a92f7d59": {
      "model_module": "@jupyter-widgets/controls",
      "model_module_version": "1.5.0",
      "model_name": "DescriptionStyleModel",
      "state": {
       "description_width": ""
      }
     },
     "1ac7a1cbb6b444839a53839629a6e195": {
      "model_module": "@jupyter-widgets/controls",
      "model_module_version": "1.5.0",
      "model_name": "DescriptionStyleModel",
      "state": {
       "description_width": ""
      }
     },
     "1b341dfb304f4b8cb537a0a7a0e7c225": {
      "model_module": "@jupyter-widgets/controls",
      "model_module_version": "1.5.0",
      "model_name": "IntRangeSliderModel",
      "state": {
       "_model_name": "IntRangeSliderModel",
       "_view_name": "IntRangeSliderView",
       "continuous_update": false,
       "description": "Range:",
       "layout": "IPY_MODEL_13dbc926292f4bd2bde95acf4fc5c24f",
       "max": 10,
       "style": "IPY_MODEL_8185f6e7bc20443a9ced3ebf5056bc2a",
       "value": [
        0,
        10
       ]
      }
     },
     "1b3e45b7fb2c4d71af38f035057f5881": {
      "model_module": "@jupyter-widgets/controls",
      "model_module_version": "1.5.0",
      "model_name": "SliderStyleModel",
      "state": {
       "description_width": ""
      }
     },
     "1bb375035aed472b94fc8e4fe88dc1bf": {
      "model_module": "@jupyter-widgets/controls",
      "model_module_version": "1.5.0",
      "model_name": "SelectMultipleModel",
      "state": {
       "_options_labels": [
        "BlackLivesMatter",
        "racism",
        "LGBT",
        "PoliceBrutality",
        "Diversity",
        "blacklivesmatter",
        "BlackLove",
        "LGBTQ",
        "BlackHistoryMonth",
        "BlackTwitter"
       ],
       "description": "Keywords",
       "index": [
        5
       ],
       "layout": "IPY_MODEL_2965708eae7c42daa3f2b4086a2dc06b",
       "rows": 10,
       "style": "IPY_MODEL_8ccf5615de134144a9adb506a26e7e09"
      }
     },
     "1c08ab583a6a4a129025bb198492567b": {
      "model_module": "@jupyter-widgets/base",
      "model_module_version": "1.2.0",
      "model_name": "LayoutModel",
      "state": {}
     },
     "1c95a51cdd79436e8d030122aabcc86f": {
      "model_module": "@jupyter-widgets/controls",
      "model_module_version": "1.5.0",
      "model_name": "ButtonStyleModel",
      "state": {}
     },
     "1cc53e013dc241549e973b21a197e22d": {
      "model_module": "@jupyter-widgets/controls",
      "model_module_version": "1.5.0",
      "model_name": "ButtonModel",
      "state": {
       "description": "Clear Output",
       "layout": "IPY_MODEL_f57f31014e6e44549a6db7fe293cbdc2",
       "style": "IPY_MODEL_32ae00581036462b864201899ba3b37c"
      }
     },
     "1d1b3b07d3d44c16b31452ed91586ffe": {
      "model_module": "@jupyter-widgets/controls",
      "model_module_version": "1.5.0",
      "model_name": "ButtonModel",
      "state": {
       "description": "Clear Output",
       "layout": "IPY_MODEL_9d6b2192aee14df6927ea5728bab55e3",
       "style": "IPY_MODEL_f8e242d2f18b4243ba5f210d5f12a48f"
      }
     },
     "1d81913cf53842529aa6de363feb82f9": {
      "model_module": "@jupyter-widgets/controls",
      "model_module_version": "1.5.0",
      "model_name": "ButtonStyleModel",
      "state": {}
     },
     "1ed4feacafbd4f4e8049b05916ef6175": {
      "model_module": "@jupyter-widgets/controls",
      "model_module_version": "1.5.0",
      "model_name": "TextModel",
      "state": {
       "description": "Hashtag:",
       "layout": "IPY_MODEL_d6df7848d5f648deb3ceef1345efcfa4",
       "style": "IPY_MODEL_abcc8667872340a498a6d95ceec420a6",
       "value": "BLM"
      }
     },
     "1fa2fae3c082472987f49440ac3c4700": {
      "model_module": "@jupyter-widgets/controls",
      "model_module_version": "1.5.0",
      "model_name": "IntRangeSliderModel",
      "state": {
       "_model_name": "IntRangeSliderModel",
       "_view_name": "IntRangeSliderView",
       "continuous_update": false,
       "description": "Range:",
       "layout": "IPY_MODEL_9f982d4093084e3c9622cd09d7e66803",
       "max": 50,
       "style": "IPY_MODEL_ba70cfb3f0c348ef841f090c94a11359",
       "value": [
        0,
        50
       ]
      }
     },
     "1fb6bd3d80fb460e9dce33fe1c15e4d5": {
      "model_module": "@jupyter-widgets/base",
      "model_module_version": "1.2.0",
      "model_name": "LayoutModel",
      "state": {}
     },
     "21823e52e3ec431cb47af9fbcaea52bd": {
      "model_module": "@jupyter-widgets/controls",
      "model_module_version": "1.5.0",
      "model_name": "ButtonModel",
      "state": {
       "description": "Clear Output",
       "layout": "IPY_MODEL_05d9dd484ce747d98495992caf2aa00b",
       "style": "IPY_MODEL_a6cebc6a5097496d8325420018e4ddde"
      }
     },
     "219bcd015d484b729d4f34ec5f009d69": {
      "model_module": "@jupyter-widgets/controls",
      "model_module_version": "1.5.0",
      "model_name": "TextModel",
      "state": {
       "description": "Enter ID:",
       "layout": "IPY_MODEL_b391dc8a38174205852d3abf466286d5",
       "style": "IPY_MODEL_5ce0fdc3e7d546e1b8b002375f1f61d5"
      }
     },
     "21fbed8eb8934eb4aaf5791b0ef5e027": {
      "model_module": "@jupyter-widgets/base",
      "model_module_version": "1.2.0",
      "model_name": "LayoutModel",
      "state": {}
     },
     "21ff29a94b2a482a83b343b325bd7c9e": {
      "model_module": "@jupyter-widgets/controls",
      "model_module_version": "1.5.0",
      "model_name": "IntRangeSliderModel",
      "state": {
       "_model_name": "IntRangeSliderModel",
       "_view_name": "IntRangeSliderView",
       "continuous_update": false,
       "description": "Range:",
       "layout": "IPY_MODEL_a127c8eb84c4497bba2c376b7d7cbc8e",
       "max": 10,
       "style": "IPY_MODEL_010c42ea2c27420196662c9e12ca6db5",
       "value": [
        0,
        10
       ]
      }
     },
     "241bf27c792d4e2c9647f934beee62e4": {
      "model_module": "@jupyter-widgets/controls",
      "model_module_version": "1.5.0",
      "model_name": "ButtonStyleModel",
      "state": {}
     },
     "24c351e54cac4fc8ade4677ebba69079": {
      "model_module": "@jupyter-widgets/controls",
      "model_module_version": "1.5.0",
      "model_name": "SliderStyleModel",
      "state": {
       "description_width": ""
      }
     },
     "2509f041768b47a697b147db49463857": {
      "model_module": "@jupyter-widgets/controls",
      "model_module_version": "1.5.0",
      "model_name": "DescriptionStyleModel",
      "state": {
       "description_width": ""
      }
     },
     "26369e0505fe4086b664ccf9de58dbb9": {
      "model_module": "@jupyter-widgets/controls",
      "model_module_version": "1.5.0",
      "model_name": "IntRangeSliderModel",
      "state": {
       "_model_name": "IntRangeSliderModel",
       "_view_name": "IntRangeSliderView",
       "continuous_update": false,
       "description": "Range:",
       "layout": "IPY_MODEL_5b4cb5e0b62c44b3848b6e2c33328e92",
       "max": 50,
       "style": "IPY_MODEL_6e5fb6e0b3bc4930b3bb7fe96bae779c",
       "value": [
        0,
        50
       ]
      }
     },
     "26f40736dbda414686c46291e1bdb337": {
      "model_module": "@jupyter-widgets/controls",
      "model_module_version": "1.5.0",
      "model_name": "ButtonStyleModel",
      "state": {}
     },
     "273b1aa577a546aaa1b28a023ec8f827": {
      "model_module": "@jupyter-widgets/base",
      "model_module_version": "1.2.0",
      "model_name": "LayoutModel",
      "state": {}
     },
     "27ae967845524daeb608e1598790ae50": {
      "model_module": "@jupyter-widgets/controls",
      "model_module_version": "1.5.0",
      "model_name": "DescriptionStyleModel",
      "state": {
       "description_width": ""
      }
     },
     "27d5c4bcdf5849fb95888f543dc4752d": {
      "model_module": "@jupyter-widgets/controls",
      "model_module_version": "1.5.0",
      "model_name": "SliderStyleModel",
      "state": {
       "description_width": ""
      }
     },
     "2965708eae7c42daa3f2b4086a2dc06b": {
      "model_module": "@jupyter-widgets/base",
      "model_module_version": "1.2.0",
      "model_name": "LayoutModel",
      "state": {}
     },
     "29c8a6162722447691e2f6528f45bcdd": {
      "model_module": "@jupyter-widgets/base",
      "model_module_version": "1.2.0",
      "model_name": "LayoutModel",
      "state": {}
     },
     "29db180c153e41f7b7c2d9850e24389e": {
      "model_module": "@jupyter-widgets/controls",
      "model_module_version": "1.5.0",
      "model_name": "SelectMultipleModel",
      "state": {
       "_options_labels": [
        "BlackLivesMatter",
        "racism",
        "LGBT",
        "PoliceBrutality",
        "Diversity",
        "blacklivesmatter",
        "BlackLove",
        "LGBTQ",
        "BlackHistoryMonth",
        "BlackTwitter"
       ],
       "description": "Keywords",
       "index": [
        3
       ],
       "layout": "IPY_MODEL_75d70d2bb234417a8bc62ca8d3bd4826",
       "rows": 10,
       "style": "IPY_MODEL_107d6a143ace4a0ea966eda4eadb2366"
      }
     },
     "2ad9da8eb0e8401093f3913d593f23a6": {
      "model_module": "@jupyter-widgets/controls",
      "model_module_version": "1.5.0",
      "model_name": "SelectMultipleModel",
      "state": {
       "_options_labels": [
        "BlackLivesMatter",
        "racism",
        "LGBT",
        "PoliceBrutality",
        "Diversity",
        "blacklivesmatter",
        "BlackLove",
        "LGBTQ",
        "BlackHistoryMonth",
        "BlackTwitter"
       ],
       "description": "Keywords",
       "index": [
        2
       ],
       "layout": "IPY_MODEL_63fc149e07bd4a7a90b8ba3d53954ce0",
       "rows": 10,
       "style": "IPY_MODEL_be33c4fdea0e4b669bcd9350e2a3a501"
      }
     },
     "2b48bd84b5e04e20b9a906a585856333": {
      "model_module": "@jupyter-widgets/base",
      "model_module_version": "1.2.0",
      "model_name": "LayoutModel",
      "state": {}
     },
     "2bd2f4d23e9f4a919eaffbbff4c66c86": {
      "model_module": "@jupyter-widgets/base",
      "model_module_version": "1.2.0",
      "model_name": "LayoutModel",
      "state": {}
     },
     "2c44a16ecd514f34ad7d02b7ae2e7beb": {
      "model_module": "@jupyter-widgets/controls",
      "model_module_version": "1.5.0",
      "model_name": "DescriptionStyleModel",
      "state": {
       "description_width": ""
      }
     },
     "2c8ba03eeeec49cba4dc25e21a270437": {
      "model_module": "@jupyter-widgets/controls",
      "model_module_version": "1.5.0",
      "model_name": "IntRangeSliderModel",
      "state": {
       "_model_name": "IntRangeSliderModel",
       "_view_name": "IntRangeSliderView",
       "continuous_update": false,
       "description": "Range:",
       "layout": "IPY_MODEL_5f5cee0e2f424812bc42750acbdd316d",
       "max": 10,
       "style": "IPY_MODEL_7c91b7eb9be14c629b22ecce039197fa",
       "value": [
        0,
        10
       ]
      }
     },
     "2d52291e8e9d420ab749e75f51e177f0": {
      "model_module": "@jupyter-widgets/base",
      "model_module_version": "1.2.0",
      "model_name": "LayoutModel",
      "state": {}
     },
     "2d5c3fa620934f40841216d1a94c8ceb": {
      "model_module": "@jupyter-widgets/controls",
      "model_module_version": "1.5.0",
      "model_name": "TextModel",
      "state": {
       "description": "Enter ID:",
       "layout": "IPY_MODEL_fa8eceb9f3274af98a3349c7484f8089",
       "style": "IPY_MODEL_f2d48046054045dcac347d2388cba208",
       "value": "0biUYz0EYY+ffddjSD8tf7+drN978R+BsJ84PRzqqI="
      }
     },
     "2df3db36e9e24073816e22df083a9385": {
      "model_module": "@jupyter-widgets/controls",
      "model_module_version": "1.5.0",
      "model_name": "SliderStyleModel",
      "state": {
       "description_width": ""
      }
     },
     "2e19cfc1d1f9409380b2e5be916b623a": {
      "model_module": "@jupyter-widgets/controls",
      "model_module_version": "1.5.0",
      "model_name": "DescriptionStyleModel",
      "state": {
       "description_width": ""
      }
     },
     "2e1eba699e16469ca94796eb958b6b79": {
      "model_module": "@jupyter-widgets/controls",
      "model_module_version": "1.5.0",
      "model_name": "SelectMultipleModel",
      "state": {
       "_options_labels": [
        "BlackLivesMatter",
        "racism",
        "LGBT",
        "PoliceBrutality",
        "Diversity",
        "blacklivesmatter",
        "BlackLove",
        "LGBTQ",
        "BlackHistoryMonth",
        "BlackTwitter"
       ],
       "description": "Keywords",
       "index": [
        1
       ],
       "layout": "IPY_MODEL_507282f386754763bc654a60e9c792ef",
       "rows": 10,
       "style": "IPY_MODEL_d106dc610622432e9ad0ee882e2f83bb"
      }
     },
     "2e4bf83da6a14c18aae96168a43fde1b": {
      "model_module": "@jupyter-widgets/controls",
      "model_module_version": "1.5.0",
      "model_name": "SliderStyleModel",
      "state": {
       "description_width": ""
      }
     },
     "2ebb484d75f14531b31a12d9440c13d0": {
      "model_module": "@jupyter-widgets/controls",
      "model_module_version": "1.5.0",
      "model_name": "DescriptionStyleModel",
      "state": {
       "description_width": ""
      }
     },
     "2ebdc05f456048789a93f6999ba2f22f": {
      "model_module": "@jupyter-widgets/base",
      "model_module_version": "1.2.0",
      "model_name": "LayoutModel",
      "state": {}
     },
     "2fa3d0aa16fa4c57889e55ad12b8bfbe": {
      "model_module": "@jupyter-widgets/controls",
      "model_module_version": "1.5.0",
      "model_name": "ButtonStyleModel",
      "state": {}
     },
     "3003ddd3541e4aed9408036185654c76": {
      "model_module": "@jupyter-widgets/base",
      "model_module_version": "1.2.0",
      "model_name": "LayoutModel",
      "state": {}
     },
     "30074aef6c25445c860b6096b865701c": {
      "model_module": "@jupyter-widgets/controls",
      "model_module_version": "1.5.0",
      "model_name": "ButtonModel",
      "state": {
       "description": "Clear Output",
       "layout": "IPY_MODEL_0be643315c7f4fe1926a2151525dbd81",
       "style": "IPY_MODEL_7702d105e1ff4e049f7e74fff3d69a95"
      }
     },
     "301a80bf672b4ba99dfe61b18d6929e8": {
      "model_module": "@jupyter-widgets/controls",
      "model_module_version": "1.5.0",
      "model_name": "TextModel",
      "state": {
       "description": "Hashtag:",
       "layout": "IPY_MODEL_a5dd8d083f734ebd8b09de800cfebdd6",
       "style": "IPY_MODEL_3d1fb581856341c992fed7414f1239da",
       "value": "blm"
      }
     },
     "3088f39ffa43400b9a825dcb4694bf40": {
      "model_module": "@jupyter-widgets/base",
      "model_module_version": "1.2.0",
      "model_name": "LayoutModel",
      "state": {}
     },
     "30c09a45af1b4cbc8d82c2a2ffb8925e": {
      "model_module": "@jupyter-widgets/controls",
      "model_module_version": "1.5.0",
      "model_name": "DescriptionStyleModel",
      "state": {
       "description_width": ""
      }
     },
     "31972e951c16496797cdb86f0bfc70c5": {
      "model_module": "@jupyter-widgets/controls",
      "model_module_version": "1.5.0",
      "model_name": "DescriptionStyleModel",
      "state": {
       "description_width": ""
      }
     },
     "320d1636585f4eb9a5c03c218b4a7f28": {
      "model_module": "@jupyter-widgets/controls",
      "model_module_version": "1.5.0",
      "model_name": "ButtonStyleModel",
      "state": {}
     },
     "32a0854c215645deb79c47a34e4373cf": {
      "model_module": "@jupyter-widgets/base",
      "model_module_version": "1.2.0",
      "model_name": "LayoutModel",
      "state": {}
     },
     "32ae00581036462b864201899ba3b37c": {
      "model_module": "@jupyter-widgets/controls",
      "model_module_version": "1.5.0",
      "model_name": "ButtonStyleModel",
      "state": {}
     },
     "3348459f206743c7a59e3f4c87f17b06": {
      "model_module": "@jupyter-widgets/controls",
      "model_module_version": "1.5.0",
      "model_name": "SliderStyleModel",
      "state": {
       "description_width": ""
      }
     },
     "34d725703944446fbe53ca0761ce51fd": {
      "model_module": "@jupyter-widgets/controls",
      "model_module_version": "1.5.0",
      "model_name": "DescriptionStyleModel",
      "state": {
       "description_width": ""
      }
     },
     "3525a43c8d9644cda42a3b3696fa6683": {
      "model_module": "@jupyter-widgets/controls",
      "model_module_version": "1.5.0",
      "model_name": "ButtonStyleModel",
      "state": {}
     },
     "36cddba36f09490786b889b37fd6c1d9": {
      "model_module": "@jupyter-widgets/base",
      "model_module_version": "1.2.0",
      "model_name": "LayoutModel",
      "state": {}
     },
     "36ef67b7ee2a42f2810167c8ef43b7c1": {
      "model_module": "@jupyter-widgets/controls",
      "model_module_version": "1.5.0",
      "model_name": "DescriptionStyleModel",
      "state": {
       "description_width": ""
      }
     },
     "375736c5d4ee4b82ae37b4ea8406b738": {
      "model_module": "@jupyter-widgets/base",
      "model_module_version": "1.2.0",
      "model_name": "LayoutModel",
      "state": {}
     },
     "377b5a777aa04409bb1841524ebbebb3": {
      "model_module": "@jupyter-widgets/controls",
      "model_module_version": "1.5.0",
      "model_name": "ButtonStyleModel",
      "state": {}
     },
     "37b9250b17e5493b974941627e965ab2": {
      "model_module": "@jupyter-widgets/base",
      "model_module_version": "1.2.0",
      "model_name": "LayoutModel",
      "state": {}
     },
     "37ca871af7f8440d8a4ea67d67c1782e": {
      "model_module": "@jupyter-widgets/controls",
      "model_module_version": "1.5.0",
      "model_name": "SliderStyleModel",
      "state": {
       "description_width": ""
      }
     },
     "38995adab52f4ee69085c2028e950caa": {
      "model_module": "@jupyter-widgets/controls",
      "model_module_version": "1.5.0",
      "model_name": "TextModel",
      "state": {
       "description": "Hashtag:",
       "layout": "IPY_MODEL_daa5e65f75a64e3a98dba7236282bdce",
       "style": "IPY_MODEL_a3999a21b9094dbba3ac46fcb0b40f41",
       "value": "blm"
      }
     },
     "38ddd83fa7144da6b21258e29b37df46": {
      "model_module": "@jupyter-widgets/controls",
      "model_module_version": "1.5.0",
      "model_name": "DescriptionStyleModel",
      "state": {
       "description_width": ""
      }
     },
     "3938baf8921c4cf4ba91f9cc3b2c24a1": {
      "model_module": "@jupyter-widgets/base",
      "model_module_version": "1.2.0",
      "model_name": "LayoutModel",
      "state": {}
     },
     "39b002adad834f4e858437695889bb48": {
      "model_module": "@jupyter-widgets/controls",
      "model_module_version": "1.5.0",
      "model_name": "DescriptionStyleModel",
      "state": {
       "description_width": ""
      }
     },
     "3acec286fe514c349eaf9bec20cddce6": {
      "model_module": "@jupyter-widgets/controls",
      "model_module_version": "1.5.0",
      "model_name": "TextModel",
      "state": {
       "description": "Enter ID:",
       "layout": "IPY_MODEL_fcae234df5704057bed180feb666cfd1",
       "style": "IPY_MODEL_f50dd1e7fa2943b59e62676dae82dcfc",
       "value": "0biUYz0EYY+ffddjSD8tf7+drN978R+BsJ84PRzqqI="
      }
     },
     "3aff11d2a14e4c2b9a1185ebe36154b2": {
      "model_module": "@jupyter-widgets/controls",
      "model_module_version": "1.5.0",
      "model_name": "ButtonStyleModel",
      "state": {}
     },
     "3b0e1e121c6943a098395054d413e441": {
      "model_module": "@jupyter-widgets/controls",
      "model_module_version": "1.5.0",
      "model_name": "SelectMultipleModel",
      "state": {
       "_options_labels": [
        "BlackLivesMatter",
        "racism",
        "LGBT",
        "PoliceBrutality",
        "Diversity",
        "blacklivesmatter",
        "BlackLove",
        "LGBTQ",
        "BlackHistoryMonth",
        "BlackTwitter"
       ],
       "description": "Keywords",
       "index": [
        1,
        2,
        3,
        4
       ],
       "layout": "IPY_MODEL_1c08ab583a6a4a129025bb198492567b",
       "rows": 10,
       "style": "IPY_MODEL_4af3e466da69473baaf7eed5db696a74"
      }
     },
     "3d1fb581856341c992fed7414f1239da": {
      "model_module": "@jupyter-widgets/controls",
      "model_module_version": "1.5.0",
      "model_name": "DescriptionStyleModel",
      "state": {
       "description_width": ""
      }
     },
     "3d22c0a0bd584d05b68c1190174ad319": {
      "model_module": "@jupyter-widgets/controls",
      "model_module_version": "1.5.0",
      "model_name": "ButtonModel",
      "state": {
       "description": "Clear Output",
       "layout": "IPY_MODEL_4a6c9e305adb4f0f98f0805f65cd3df9",
       "style": "IPY_MODEL_73b3175e8f404935b6d26943fb4b4632"
      }
     },
     "3d447ba63e184c9e8714c3f80285f5f7": {
      "model_module": "@jupyter-widgets/base",
      "model_module_version": "1.2.0",
      "model_name": "LayoutModel",
      "state": {}
     },
     "3e91b22cbec945cc8ef8d089b898a94c": {
      "model_module": "@jupyter-widgets/controls",
      "model_module_version": "1.5.0",
      "model_name": "ButtonModel",
      "state": {
       "description": "Clear Output",
       "layout": "IPY_MODEL_a29ada3ac20c4e98be602ab60dcbf859",
       "style": "IPY_MODEL_3aff11d2a14e4c2b9a1185ebe36154b2"
      }
     },
     "3f7645b4289a4b38b3f306896404daac": {
      "model_module": "@jupyter-widgets/controls",
      "model_module_version": "1.5.0",
      "model_name": "ButtonModel",
      "state": {
       "description": "Clear Output",
       "layout": "IPY_MODEL_a14278e906fe43a69df86cfe2635b8c4",
       "style": "IPY_MODEL_aa6cdc1539b54a28b2b6753d15d5fd10"
      }
     },
     "3f93fcd56a0049c49b804c3e393922e5": {
      "model_module": "@jupyter-widgets/base",
      "model_module_version": "1.2.0",
      "model_name": "LayoutModel",
      "state": {}
     },
     "407ec5110c4743708b9d05b91b66e0ea": {
      "model_module": "@jupyter-widgets/controls",
      "model_module_version": "1.5.0",
      "model_name": "SelectMultipleModel",
      "state": {
       "_options_labels": [
        "BlackLivesMatter",
        "racism",
        "LGBT",
        "PoliceBrutality",
        "Diversity",
        "blacklivesmatter",
        "BlackLove",
        "LGBTQ",
        "BlackHistoryMonth",
        "BlackTwitter",
        "HumanRights",
        "blackexcellence",
        "BlackTwitterMovement",
        "police",
        "SayNoToRacism",
        "policebrutality",
        "Blacktwitter",
        "love",
        "BlackExcellence",
        "CHANGE",
        "Police",
        "Trump",
        "Africa",
        "racist",
        "TuesdayThoughts",
        "blackgirlsrock",
        "blackandproud",
        "women",
        "MondayMotivation",
        "blackhistorymonth",
        "black",
        "blackisbeautiful",
        "blackgirlmagic",
        "loveislove",
        "blacklove",
        "mondaythoughts",
        "TuesdayMotivation",
        "PoliceState",
        "girlpower",
        "FridayFeeling",
        "cops",
        "Sustainability",
        "BLM",
        "blacks",
        "blackhistory",
        "FridayThoughts",
        "ThursdayMotivation",
        "saynotoracism",
        "FridayMotivation",
        "WednesdayWisdom"
       ],
       "description": "Keywords",
       "index": [
        0,
        1,
        2,
        3,
        4,
        5,
        6
       ],
       "layout": "IPY_MODEL_e0314755138a49c7bc226fadf91a2d87",
       "rows": 10,
       "style": "IPY_MODEL_53eba785d1a542ee9d337e22d8eb8c14"
      }
     },
     "411bb69cd0c748198ea03c791f85d78c": {
      "model_module": "@jupyter-widgets/controls",
      "model_module_version": "1.5.0",
      "model_name": "ButtonStyleModel",
      "state": {}
     },
     "41784a453aba4b709dde1d32d2fba8b6": {
      "model_module": "@jupyter-widgets/base",
      "model_module_version": "1.2.0",
      "model_name": "LayoutModel",
      "state": {}
     },
     "4278429fdb7e4e5c804e37cf161b5d8d": {
      "model_module": "@jupyter-widgets/controls",
      "model_module_version": "1.5.0",
      "model_name": "DescriptionStyleModel",
      "state": {
       "description_width": ""
      }
     },
     "431da73adc4f4111b564b41c14dbc6a8": {
      "model_module": "@jupyter-widgets/controls",
      "model_module_version": "1.5.0",
      "model_name": "TextModel",
      "state": {
       "description": "Hashtag:",
       "layout": "IPY_MODEL_780c273ed5a54f4aabb28431b9f52140",
       "style": "IPY_MODEL_98f619b423854b38ad53de3ae315a634",
       "value": "blm"
      }
     },
     "43b04ea8c3b9479383f8819a9dc3637e": {
      "model_module": "@jupyter-widgets/controls",
      "model_module_version": "1.5.0",
      "model_name": "DescriptionStyleModel",
      "state": {
       "description_width": ""
      }
     },
     "43bde92b651b4dc9aae3709be7bec2f9": {
      "model_module": "@jupyter-widgets/controls",
      "model_module_version": "1.5.0",
      "model_name": "ButtonStyleModel",
      "state": {}
     },
     "44359d1831fc434d9363a9cce56ab81e": {
      "model_module": "@jupyter-widgets/controls",
      "model_module_version": "1.5.0",
      "model_name": "TextModel",
      "state": {
       "description": "Enter ID:",
       "layout": "IPY_MODEL_1056af4adc5a4a48bff721903c74236c",
       "style": "IPY_MODEL_a9136dbe876f48fc9e2b5f9710c626db"
      }
     },
     "448fd530caee487c9f2d24ca0eab8dfb": {
      "model_module": "@jupyter-widgets/base",
      "model_module_version": "1.2.0",
      "model_name": "LayoutModel",
      "state": {}
     },
     "44a01aebda4f410e880c2a02006a7387": {
      "model_module": "@jupyter-widgets/controls",
      "model_module_version": "1.5.0",
      "model_name": "TextModel",
      "state": {
       "description": "Enter ID:",
       "layout": "IPY_MODEL_d4d95a76b3f14994a5a39f6d22e2c8c8",
       "style": "IPY_MODEL_43b04ea8c3b9479383f8819a9dc3637e"
      }
     },
     "44dd84c52ad64fbc90de6390970b3e0c": {
      "model_module": "@jupyter-widgets/base",
      "model_module_version": "1.2.0",
      "model_name": "LayoutModel",
      "state": {}
     },
     "4528115effb34288815dbc8ff9ca485c": {
      "model_module": "@jupyter-widgets/base",
      "model_module_version": "1.2.0",
      "model_name": "LayoutModel",
      "state": {}
     },
     "4533493475df476b94d2cba719e5a2e8": {
      "model_module": "@jupyter-widgets/base",
      "model_module_version": "1.2.0",
      "model_name": "LayoutModel",
      "state": {}
     },
     "457834f520cd4b79b44b6d1698280803": {
      "model_module": "@jupyter-widgets/base",
      "model_module_version": "1.2.0",
      "model_name": "LayoutModel",
      "state": {}
     },
     "45a9672042784463bdee3d50bef0ec4b": {
      "model_module": "@jupyter-widgets/controls",
      "model_module_version": "1.5.0",
      "model_name": "DescriptionStyleModel",
      "state": {
       "description_width": ""
      }
     },
     "463718fa9f684e2b9a56458ed0962d18": {
      "model_module": "@jupyter-widgets/base",
      "model_module_version": "1.2.0",
      "model_name": "LayoutModel",
      "state": {}
     },
     "467eec5d3f8548598c5322e951f2ac25": {
      "model_module": "@jupyter-widgets/controls",
      "model_module_version": "1.5.0",
      "model_name": "IntRangeSliderModel",
      "state": {
       "_model_name": "IntRangeSliderModel",
       "_view_name": "IntRangeSliderView",
       "continuous_update": false,
       "description": "Range:",
       "layout": "IPY_MODEL_aad852161ad941cbb58ef5d88d9deabb",
       "max": 10,
       "style": "IPY_MODEL_8444268365aa406b81f652887acb912c",
       "value": [
        0,
        10
       ]
      }
     },
     "46b92eadaeb64b32b51c1447dea61f0b": {
      "model_module": "@jupyter-widgets/base",
      "model_module_version": "1.2.0",
      "model_name": "LayoutModel",
      "state": {}
     },
     "46dad00fabd94323ac76690b58d86719": {
      "model_module": "@jupyter-widgets/base",
      "model_module_version": "1.2.0",
      "model_name": "LayoutModel",
      "state": {}
     },
     "47723a2a34e44de59d9b68d7d03a523c": {
      "model_module": "@jupyter-widgets/controls",
      "model_module_version": "1.5.0",
      "model_name": "DescriptionStyleModel",
      "state": {
       "description_width": ""
      }
     },
     "479b255ff7084db0953431ca002a0a01": {
      "model_module": "@jupyter-widgets/controls",
      "model_module_version": "1.5.0",
      "model_name": "IntRangeSliderModel",
      "state": {
       "_model_name": "IntRangeSliderModel",
       "_view_name": "IntRangeSliderView",
       "continuous_update": false,
       "description": "Range:",
       "layout": "IPY_MODEL_a162862f75d347caadcb836cc9749bf5",
       "max": 10,
       "style": "IPY_MODEL_4c30c46a4b7f44189a9d9fc3e1149b0f",
       "value": [
        0,
        10
       ]
      }
     },
     "480c56e777a147fda525e7672ff0ab96": {
      "model_module": "@jupyter-widgets/controls",
      "model_module_version": "1.5.0",
      "model_name": "TextModel",
      "state": {
       "description": "Hashtag:",
       "layout": "IPY_MODEL_74afe3c67eff4b87acfaafe6a2fee059",
       "style": "IPY_MODEL_8bd298d3adb24dd4a9a558819f5c6f53",
       "value": "blm"
      }
     },
     "48455f5d6fff47bca5aa8fe216e9e7fe": {
      "model_module": "@jupyter-widgets/base",
      "model_module_version": "1.2.0",
      "model_name": "LayoutModel",
      "state": {}
     },
     "48f9282903584c8fa9fe01df8414dfa9": {
      "model_module": "@jupyter-widgets/base",
      "model_module_version": "1.2.0",
      "model_name": "LayoutModel",
      "state": {}
     },
     "491801881d9246b4851118c631997199": {
      "model_module": "@jupyter-widgets/base",
      "model_module_version": "1.2.0",
      "model_name": "LayoutModel",
      "state": {}
     },
     "494b22fda27e49719248f925d34ce832": {
      "model_module": "@jupyter-widgets/base",
      "model_module_version": "1.2.0",
      "model_name": "LayoutModel",
      "state": {}
     },
     "4a38ed13e49b4b1facad7adad74b91b1": {
      "model_module": "@jupyter-widgets/base",
      "model_module_version": "1.2.0",
      "model_name": "LayoutModel",
      "state": {}
     },
     "4a6c9e305adb4f0f98f0805f65cd3df9": {
      "model_module": "@jupyter-widgets/base",
      "model_module_version": "1.2.0",
      "model_name": "LayoutModel",
      "state": {}
     },
     "4ae0c7e6bbf649d785efebaed4c6cb0d": {
      "model_module": "@jupyter-widgets/base",
      "model_module_version": "1.2.0",
      "model_name": "LayoutModel",
      "state": {}
     },
     "4af3e466da69473baaf7eed5db696a74": {
      "model_module": "@jupyter-widgets/controls",
      "model_module_version": "1.5.0",
      "model_name": "DescriptionStyleModel",
      "state": {
       "description_width": ""
      }
     },
     "4b5ec593e3614fee9a253f631a9637e4": {
      "model_module": "@jupyter-widgets/base",
      "model_module_version": "1.2.0",
      "model_name": "LayoutModel",
      "state": {}
     },
     "4b676dc7556d479e9ef8f8ce4ea6c335": {
      "model_module": "@jupyter-widgets/controls",
      "model_module_version": "1.5.0",
      "model_name": "DescriptionStyleModel",
      "state": {
       "description_width": ""
      }
     },
     "4b90c65eb0f14c478650e2ede018c16d": {
      "model_module": "@jupyter-widgets/controls",
      "model_module_version": "1.5.0",
      "model_name": "DescriptionStyleModel",
      "state": {
       "description_width": ""
      }
     },
     "4c30c46a4b7f44189a9d9fc3e1149b0f": {
      "model_module": "@jupyter-widgets/controls",
      "model_module_version": "1.5.0",
      "model_name": "SliderStyleModel",
      "state": {
       "description_width": ""
      }
     },
     "4c6c4bb289604ca9980a58174f6c9f36": {
      "model_module": "@jupyter-widgets/controls",
      "model_module_version": "1.5.0",
      "model_name": "TextModel",
      "state": {
       "description": "Hashtag:",
       "layout": "IPY_MODEL_9aaee31310f34e7d939076cee230bf14",
       "style": "IPY_MODEL_ba637a052b6f458da13a44f285126b50",
       "value": "BLM"
      }
     },
     "4cb4cc1c97444fe4b4b71a1ff172e97d": {
      "model_module": "@jupyter-widgets/base",
      "model_module_version": "1.2.0",
      "model_name": "LayoutModel",
      "state": {}
     },
     "4d061bee7a774dfda2c015ee29adb7ba": {
      "model_module": "@jupyter-widgets/controls",
      "model_module_version": "1.5.0",
      "model_name": "TextModel",
      "state": {
       "description": "Hashtag:",
       "layout": "IPY_MODEL_ec3ced2a97d14a1b96658f22585fb180",
       "style": "IPY_MODEL_eaec56eb199540269710d802580bdbc3"
      }
     },
     "4db5139fe4ac411db49d7e52e83f1902": {
      "model_module": "@jupyter-widgets/base",
      "model_module_version": "1.2.0",
      "model_name": "LayoutModel",
      "state": {}
     },
     "4e68f6165516495eb2fc487687b3cdba": {
      "model_module": "@jupyter-widgets/controls",
      "model_module_version": "1.5.0",
      "model_name": "SelectMultipleModel",
      "state": {
       "_options_labels": [
        "BlackLivesMatter",
        "racism",
        "LGBT",
        "PoliceBrutality",
        "Diversity",
        "blacklivesmatter",
        "BlackLove",
        "LGBTQ",
        "BlackHistoryMonth",
        "BlackTwitter",
        "HumanRights",
        "blackexcellence",
        "BlackTwitterMovement",
        "police",
        "SayNoToRacism",
        "policebrutality",
        "Blacktwitter",
        "love",
        "BlackExcellence",
        "CHANGE",
        "Police",
        "Trump",
        "Africa",
        "racist",
        "TuesdayThoughts",
        "blackgirlsrock",
        "blackandproud",
        "women",
        "MondayMotivation",
        "blackhistorymonth",
        "black",
        "blackisbeautiful",
        "blackgirlmagic",
        "loveislove",
        "blacklove",
        "mondaythoughts",
        "TuesdayMotivation",
        "PoliceState",
        "girlpower",
        "FridayFeeling",
        "cops",
        "Sustainability",
        "BLM",
        "blacks",
        "blackhistory",
        "FridayThoughts",
        "ThursdayMotivation",
        "saynotoracism",
        "FridayMotivation",
        "WednesdayWisdom"
       ],
       "description": "Keywords",
       "index": [
        4
       ],
       "layout": "IPY_MODEL_dfb22b8e404d4956b613b46c6ede7411",
       "rows": 10,
       "style": "IPY_MODEL_4ee3688cf9a64adda3a1afe4ca35456a"
      }
     },
     "4e8c4a6e82f54332b96baa8866ab0b75": {
      "model_module": "@jupyter-widgets/controls",
      "model_module_version": "1.5.0",
      "model_name": "DescriptionStyleModel",
      "state": {
       "description_width": ""
      }
     },
     "4e9169e9e496480186e38c35775ec0d5": {
      "model_module": "@jupyter-widgets/controls",
      "model_module_version": "1.5.0",
      "model_name": "IntRangeSliderModel",
      "state": {
       "_model_name": "IntRangeSliderModel",
       "_view_name": "IntRangeSliderView",
       "continuous_update": false,
       "description": "Range:",
       "layout": "IPY_MODEL_7ee0cc7a5d174b61897500e7ba3e97c0",
       "max": 10,
       "style": "IPY_MODEL_fe2387fd803a43daa21a5d7c4baef930",
       "value": [
        0,
        10
       ]
      }
     },
     "4ee3688cf9a64adda3a1afe4ca35456a": {
      "model_module": "@jupyter-widgets/controls",
      "model_module_version": "1.5.0",
      "model_name": "DescriptionStyleModel",
      "state": {
       "description_width": ""
      }
     },
     "4f1064187d60423fb3ad88befe89a6bb": {
      "model_module": "@jupyter-widgets/controls",
      "model_module_version": "1.5.0",
      "model_name": "DescriptionStyleModel",
      "state": {
       "description_width": ""
      }
     },
     "4fe490d0143a4e99bafba7bb89816134": {
      "model_module": "@jupyter-widgets/controls",
      "model_module_version": "1.5.0",
      "model_name": "DescriptionStyleModel",
      "state": {
       "description_width": ""
      }
     },
     "50129132598541f99275563c64c5fa56": {
      "model_module": "@jupyter-widgets/base",
      "model_module_version": "1.2.0",
      "model_name": "LayoutModel",
      "state": {}
     },
     "507282f386754763bc654a60e9c792ef": {
      "model_module": "@jupyter-widgets/base",
      "model_module_version": "1.2.0",
      "model_name": "LayoutModel",
      "state": {}
     },
     "50b1ef2cabd74ff5a3af5f60b5049d82": {
      "model_module": "@jupyter-widgets/controls",
      "model_module_version": "1.5.0",
      "model_name": "TextModel",
      "state": {
       "description": "Hashtag:",
       "layout": "IPY_MODEL_d3b07721fbb14220a206961df1c3d818",
       "style": "IPY_MODEL_1a81ab85efdf413bbe07d501a92f7d59",
       "value": "blm"
      }
     },
     "50bb388596344b91a2bc24e56742c45f": {
      "model_module": "@jupyter-widgets/base",
      "model_module_version": "1.2.0",
      "model_name": "LayoutModel",
      "state": {}
     },
     "5147ea1359994a28b2487680584ebb7e": {
      "model_module": "@jupyter-widgets/controls",
      "model_module_version": "1.5.0",
      "model_name": "ButtonStyleModel",
      "state": {}
     },
     "515af8e85deb450993473fc8309d01cd": {
      "model_module": "@jupyter-widgets/controls",
      "model_module_version": "1.5.0",
      "model_name": "ButtonModel",
      "state": {
       "description": "Clear Output",
       "layout": "IPY_MODEL_3938baf8921c4cf4ba91f9cc3b2c24a1",
       "style": "IPY_MODEL_94bb8fd9cb024b72a2b8752caf683ad9"
      }
     },
     "5161f9561fba4fa1bf68eeb905666289": {
      "model_module": "@jupyter-widgets/base",
      "model_module_version": "1.2.0",
      "model_name": "LayoutModel",
      "state": {}
     },
     "51b9843e58084689988e000c0d9c1e58": {
      "model_module": "@jupyter-widgets/controls",
      "model_module_version": "1.5.0",
      "model_name": "SelectMultipleModel",
      "state": {
       "_options_labels": [
        "BlackLivesMatter",
        "racism",
        "LGBT",
        "PoliceBrutality",
        "Diversity",
        "blacklivesmatter",
        "BlackLove",
        "LGBTQ",
        "BlackHistoryMonth",
        "BlackTwitter",
        "HumanRights",
        "blackexcellence",
        "BlackTwitterMovement",
        "police",
        "SayNoToRacism",
        "policebrutality",
        "Blacktwitter",
        "love",
        "BlackExcellence",
        "CHANGE",
        "Police",
        "Trump",
        "Africa",
        "racist",
        "TuesdayThoughts",
        "blackgirlsrock",
        "blackandproud",
        "women",
        "MondayMotivation",
        "blackhistorymonth",
        "black",
        "blackisbeautiful",
        "blackgirlmagic",
        "loveislove",
        "blacklove",
        "mondaythoughts",
        "TuesdayMotivation",
        "PoliceState",
        "girlpower",
        "FridayFeeling",
        "cops",
        "Sustainability",
        "BLM",
        "blacks",
        "blackhistory",
        "FridayThoughts",
        "ThursdayMotivation",
        "saynotoracism",
        "FridayMotivation",
        "WednesdayWisdom"
       ],
       "description": "Keywords",
       "index": [
        44
       ],
       "layout": "IPY_MODEL_8235aff6855a4f39a2774f40bfd30a46",
       "rows": 10,
       "style": "IPY_MODEL_2509f041768b47a697b147db49463857"
      }
     },
     "52c7394ba3d34b149a37fbe5e77f3257": {
      "model_module": "@jupyter-widgets/controls",
      "model_module_version": "1.5.0",
      "model_name": "IntRangeSliderModel",
      "state": {
       "_model_name": "IntRangeSliderModel",
       "_view_name": "IntRangeSliderView",
       "continuous_update": false,
       "description": "Range:",
       "layout": "IPY_MODEL_e867b4a83a6e4715a8f00711d9513576",
       "max": 10,
       "style": "IPY_MODEL_be43386e13cd406c83de3fdbde7b5497",
       "value": [
        0,
        10
       ]
      }
     },
     "533123d449134aae8bc0e943b2e07774": {
      "model_module": "@jupyter-widgets/controls",
      "model_module_version": "1.5.0",
      "model_name": "DescriptionStyleModel",
      "state": {
       "description_width": ""
      }
     },
     "5383f95263eb4cf3b9ee10d4380a859c": {
      "model_module": "@jupyter-widgets/controls",
      "model_module_version": "1.5.0",
      "model_name": "SliderStyleModel",
      "state": {
       "description_width": ""
      }
     },
     "53eba785d1a542ee9d337e22d8eb8c14": {
      "model_module": "@jupyter-widgets/controls",
      "model_module_version": "1.5.0",
      "model_name": "DescriptionStyleModel",
      "state": {
       "description_width": ""
      }
     },
     "544e976533464892bc0531b341476d0e": {
      "model_module": "@jupyter-widgets/base",
      "model_module_version": "1.2.0",
      "model_name": "LayoutModel",
      "state": {}
     },
     "563b3a543a08489bac5405e14967cd91": {
      "model_module": "@jupyter-widgets/controls",
      "model_module_version": "1.5.0",
      "model_name": "DescriptionStyleModel",
      "state": {
       "description_width": ""
      }
     },
     "57ca3acc9ee342369f25050240f10318": {
      "model_module": "@jupyter-widgets/controls",
      "model_module_version": "1.5.0",
      "model_name": "DescriptionStyleModel",
      "state": {
       "description_width": ""
      }
     },
     "58aa90ab460340b0a106c1e5b886efeb": {
      "model_module": "@jupyter-widgets/controls",
      "model_module_version": "1.5.0",
      "model_name": "DescriptionStyleModel",
      "state": {
       "description_width": ""
      }
     },
     "598cf0c3e4a74cb98ba18f1cd0d2c0d0": {
      "model_module": "@jupyter-widgets/controls",
      "model_module_version": "1.5.0",
      "model_name": "SelectMultipleModel",
      "state": {
       "_options_labels": [
        "BlackLivesMatter",
        "racism",
        "LGBT",
        "PoliceBrutality",
        "Diversity",
        "blacklivesmatter",
        "BlackLove",
        "LGBTQ",
        "BlackHistoryMonth",
        "BlackTwitter",
        "HumanRights",
        "blackexcellence",
        "BlackTwitterMovement",
        "police",
        "SayNoToRacism",
        "policebrutality",
        "Blacktwitter",
        "love",
        "BlackExcellence",
        "CHANGE",
        "Police",
        "Trump",
        "Africa",
        "racist",
        "TuesdayThoughts",
        "blackgirlsrock",
        "blackandproud",
        "women",
        "MondayMotivation",
        "blackhistorymonth",
        "black",
        "blackisbeautiful",
        "blackgirlmagic",
        "loveislove",
        "blacklove",
        "mondaythoughts",
        "TuesdayMotivation",
        "PoliceState",
        "girlpower",
        "FridayFeeling",
        "cops",
        "Sustainability",
        "BLM",
        "blacks",
        "blackhistory",
        "FridayThoughts",
        "ThursdayMotivation",
        "saynotoracism",
        "FridayMotivation",
        "WednesdayWisdom"
       ],
       "description": "Keywords",
       "index": [
        2
       ],
       "layout": "IPY_MODEL_0f3f86802b4540a0a3f8424b8c0c053a",
       "rows": 10,
       "style": "IPY_MODEL_efb179bb01b94099946dd594bf57da91"
      }
     },
     "5998b3d5469640b1a45652b8f27d28f0": {
      "model_module": "@jupyter-widgets/controls",
      "model_module_version": "1.5.0",
      "model_name": "SelectMultipleModel",
      "state": {
       "_options_labels": [
        "BlackLivesMatter",
        "racism",
        "LGBT",
        "PoliceBrutality",
        "Diversity",
        "blacklivesmatter",
        "BlackLove",
        "LGBTQ",
        "BlackHistoryMonth",
        "BlackTwitter",
        "HumanRights",
        "blackexcellence",
        "BlackTwitterMovement",
        "police",
        "SayNoToRacism",
        "policebrutality",
        "Blacktwitter",
        "love",
        "BlackExcellence",
        "CHANGE",
        "Police",
        "Trump",
        "Africa",
        "racist",
        "TuesdayThoughts",
        "blackgirlsrock",
        "blackandproud",
        "women",
        "MondayMotivation",
        "blackhistorymonth",
        "black",
        "blackisbeautiful",
        "blackgirlmagic",
        "loveislove",
        "blacklove",
        "mondaythoughts",
        "TuesdayMotivation",
        "PoliceState",
        "girlpower",
        "FridayFeeling",
        "cops",
        "Sustainability",
        "BLM",
        "blacks",
        "blackhistory",
        "FridayThoughts",
        "ThursdayMotivation",
        "saynotoracism",
        "FridayMotivation",
        "WednesdayWisdom"
       ],
       "description": "Keywords",
       "index": [
        2
       ],
       "layout": "IPY_MODEL_8d1d4a77203445eab8279e3baf56207f",
       "rows": 10,
       "style": "IPY_MODEL_bd0faeedc68c41159d12c293c967a304"
      }
     },
     "59a09a2d53cd4f758a34051cf1b74fc8": {
      "model_module": "@jupyter-widgets/controls",
      "model_module_version": "1.5.0",
      "model_name": "IntRangeSliderModel",
      "state": {
       "_model_name": "IntRangeSliderModel",
       "_view_name": "IntRangeSliderView",
       "continuous_update": false,
       "description": "Range:",
       "layout": "IPY_MODEL_4528115effb34288815dbc8ff9ca485c",
       "max": 10,
       "style": "IPY_MODEL_5f8e8ac5f03142008c51799711a8577d",
       "value": [
        0,
        10
       ]
      }
     },
     "59adae6dd1984d05839daa40c884668a": {
      "model_module": "@jupyter-widgets/controls",
      "model_module_version": "1.5.0",
      "model_name": "SelectMultipleModel",
      "state": {
       "_options_labels": [
        "BlackLivesMatter",
        "racism",
        "LGBT",
        "PoliceBrutality",
        "Diversity",
        "blacklivesmatter",
        "BlackLove",
        "LGBTQ",
        "BlackHistoryMonth",
        "BlackTwitter"
       ],
       "description": "Keywords",
       "index": [
        0,
        1,
        2,
        3,
        4,
        5,
        6,
        7,
        8,
        9
       ],
       "layout": "IPY_MODEL_86816565069645bbad44168779ae1b0a",
       "rows": 10,
       "style": "IPY_MODEL_decf7302322c4a0d9bf18a5005bd63cf"
      }
     },
     "59cac9e125c54a008b874e51d1e94e78": {
      "model_module": "@jupyter-widgets/base",
      "model_module_version": "1.2.0",
      "model_name": "LayoutModel",
      "state": {}
     },
     "5a0e75317fa64062b793268bad32b96a": {
      "model_module": "@jupyter-widgets/controls",
      "model_module_version": "1.5.0",
      "model_name": "TextModel",
      "state": {
       "description": "Hashtag:",
       "layout": "IPY_MODEL_1335486f9b824417995a1738ca7d0758",
       "style": "IPY_MODEL_7bc34bc4cf7c4d5c8e8eebbed079bd10",
       "value": "blm"
      }
     },
     "5a5d7130fb2e4353bdb2ff61ea338655": {
      "model_module": "@jupyter-widgets/controls",
      "model_module_version": "1.5.0",
      "model_name": "ButtonModel",
      "state": {
       "description": "Clear Output",
       "layout": "IPY_MODEL_c803e859c97545ceb9e8b61c66c41d9f",
       "style": "IPY_MODEL_74f6ba5b5d434170a8b70f741b001977"
      }
     },
     "5b4cb5e0b62c44b3848b6e2c33328e92": {
      "model_module": "@jupyter-widgets/base",
      "model_module_version": "1.2.0",
      "model_name": "LayoutModel",
      "state": {}
     },
     "5b77760016b34a1cbf17b9eb6f0053ce": {
      "model_module": "@jupyter-widgets/controls",
      "model_module_version": "1.5.0",
      "model_name": "DescriptionStyleModel",
      "state": {
       "description_width": ""
      }
     },
     "5b87738bb3294e20bbb627277e52c4f5": {
      "model_module": "@jupyter-widgets/controls",
      "model_module_version": "1.5.0",
      "model_name": "TextModel",
      "state": {
       "description": "Hashtag:",
       "layout": "IPY_MODEL_48f9282903584c8fa9fe01df8414dfa9",
       "style": "IPY_MODEL_7768a3eafd544420a60a8d61305163b3",
       "value": "blm"
      }
     },
     "5ba6c6ad6cfa48299ee83c4f12d0d52f": {
      "model_module": "@jupyter-widgets/controls",
      "model_module_version": "1.5.0",
      "model_name": "SliderStyleModel",
      "state": {
       "description_width": ""
      }
     },
     "5c90f8ff391f4c9f94e9cc0dc7682a48": {
      "model_module": "@jupyter-widgets/controls",
      "model_module_version": "1.5.0",
      "model_name": "TextModel",
      "state": {
       "description": "Hashtag:",
       "layout": "IPY_MODEL_46dad00fabd94323ac76690b58d86719",
       "style": "IPY_MODEL_5b77760016b34a1cbf17b9eb6f0053ce",
       "value": "blm"
      }
     },
     "5c93b582c7964e2d90356d4be0d2d448": {
      "model_module": "@jupyter-widgets/controls",
      "model_module_version": "1.5.0",
      "model_name": "TextModel",
      "state": {
       "description": "Hashtag:",
       "layout": "IPY_MODEL_59cac9e125c54a008b874e51d1e94e78",
       "style": "IPY_MODEL_533123d449134aae8bc0e943b2e07774"
      }
     },
     "5ce0fdc3e7d546e1b8b002375f1f61d5": {
      "model_module": "@jupyter-widgets/controls",
      "model_module_version": "1.5.0",
      "model_name": "DescriptionStyleModel",
      "state": {
       "description_width": ""
      }
     },
     "5cf349d4256f4709ab36b56162356ba0": {
      "model_module": "@jupyter-widgets/controls",
      "model_module_version": "1.5.0",
      "model_name": "IntRangeSliderModel",
      "state": {
       "_model_name": "IntRangeSliderModel",
       "_view_name": "IntRangeSliderView",
       "continuous_update": false,
       "description": "Range:",
       "layout": "IPY_MODEL_822cd148084b4515ab8afe188e0c16fd",
       "max": 10,
       "style": "IPY_MODEL_993572ec69c24711b7094d039ee746ac",
       "value": [
        0,
        10
       ]
      }
     },
     "5d9d2a1d6ab549f28b6eee6f948cbd6e": {
      "model_module": "@jupyter-widgets/controls",
      "model_module_version": "1.5.0",
      "model_name": "ButtonModel",
      "state": {
       "description": "Clear Output",
       "layout": "IPY_MODEL_9dc40b7ff3b44477ba73b6d7d9b326ba",
       "style": "IPY_MODEL_d82c3ee030e1443e8d3095a3057cc560"
      }
     },
     "5deeecace81847c8a3dd2472f7344ff3": {
      "model_module": "@jupyter-widgets/controls",
      "model_module_version": "1.5.0",
      "model_name": "SliderStyleModel",
      "state": {
       "description_width": ""
      }
     },
     "5e1a5e17d01f436aa0468c33d98a3045": {
      "model_module": "@jupyter-widgets/controls",
      "model_module_version": "1.5.0",
      "model_name": "TextModel",
      "state": {
       "description": "Enter ID:",
       "layout": "IPY_MODEL_6245ab8b0dad4f999d87f9a8a39118ec",
       "style": "IPY_MODEL_17fce48c8c7c4578b232683a0bb746da",
       "value": "0biUYz0EYY+ffddjSD8tf7+drN978R+BsJ84PRzqqI="
      }
     },
     "5e6e923961f747c5bb1eec96b7668e0a": {
      "model_module": "@jupyter-widgets/controls",
      "model_module_version": "1.5.0",
      "model_name": "TextModel",
      "state": {
       "description": "Enter ID:",
       "layout": "IPY_MODEL_c4c75baa6734411db53c129971bcc684",
       "style": "IPY_MODEL_74631a6c75cc49ceb884e0e5d1b0bf7d",
       "value": "+dqWn63XKrwrFoWwXLd2+4J0ehNMZ5TIZ+6uhBMVGZE="
      }
     },
     "5f5cee0e2f424812bc42750acbdd316d": {
      "model_module": "@jupyter-widgets/base",
      "model_module_version": "1.2.0",
      "model_name": "LayoutModel",
      "state": {}
     },
     "5f5ecd411a7347a3aa6337abf3c9b19b": {
      "model_module": "@jupyter-widgets/controls",
      "model_module_version": "1.5.0",
      "model_name": "TextModel",
      "state": {
       "description": "Hashtag:",
       "layout": "IPY_MODEL_899afffe731d49168d60f656c8b8961a",
       "style": "IPY_MODEL_83e132a6c8704d49be710cca9c3bd7a3",
       "value": "Abba"
      }
     },
     "5f7d6dcd1da74dc3804130b4ab595d8d": {
      "model_module": "@jupyter-widgets/controls",
      "model_module_version": "1.5.0",
      "model_name": "SliderStyleModel",
      "state": {
       "description_width": ""
      }
     },
     "5f88b22c3f92467794ec97b5ce5d7a19": {
      "model_module": "@jupyter-widgets/controls",
      "model_module_version": "1.5.0",
      "model_name": "SliderStyleModel",
      "state": {
       "description_width": ""
      }
     },
     "5f8e8ac5f03142008c51799711a8577d": {
      "model_module": "@jupyter-widgets/controls",
      "model_module_version": "1.5.0",
      "model_name": "SliderStyleModel",
      "state": {
       "description_width": ""
      }
     },
     "5f9b77bcb9184aefaa8cedbbb9087866": {
      "model_module": "@jupyter-widgets/base",
      "model_module_version": "1.2.0",
      "model_name": "LayoutModel",
      "state": {}
     },
     "6025be2040d141f1a5f5782ce5def23d": {
      "model_module": "@jupyter-widgets/base",
      "model_module_version": "1.2.0",
      "model_name": "LayoutModel",
      "state": {}
     },
     "60dee82ed9eb4999b0ed9438fa6143d3": {
      "model_module": "@jupyter-widgets/base",
      "model_module_version": "1.2.0",
      "model_name": "LayoutModel",
      "state": {}
     },
     "6113150a6ef6481db5f90a8add05eb80": {
      "model_module": "@jupyter-widgets/base",
      "model_module_version": "1.2.0",
      "model_name": "LayoutModel",
      "state": {}
     },
     "6150fb8b32ba4bda9063def5376ae585": {
      "model_module": "@jupyter-widgets/controls",
      "model_module_version": "1.5.0",
      "model_name": "DescriptionStyleModel",
      "state": {
       "description_width": ""
      }
     },
     "6245ab8b0dad4f999d87f9a8a39118ec": {
      "model_module": "@jupyter-widgets/base",
      "model_module_version": "1.2.0",
      "model_name": "LayoutModel",
      "state": {}
     },
     "629eb9a2ed1b4946ad3adfe36cea32c2": {
      "model_module": "@jupyter-widgets/controls",
      "model_module_version": "1.5.0",
      "model_name": "ButtonModel",
      "state": {
       "description": "Clear Output",
       "layout": "IPY_MODEL_ea456eb82f624ded9051061460aca59e",
       "style": "IPY_MODEL_5147ea1359994a28b2487680584ebb7e"
      }
     },
     "63340458e2be44e588c1cc9f80645580": {
      "model_module": "@jupyter-widgets/controls",
      "model_module_version": "1.5.0",
      "model_name": "ButtonStyleModel",
      "state": {}
     },
     "634f45fae4c44a8193b706491204ab60": {
      "model_module": "@jupyter-widgets/controls",
      "model_module_version": "1.5.0",
      "model_name": "ButtonStyleModel",
      "state": {}
     },
     "63940ba302f64179b6be61bc4cfbdf1a": {
      "model_module": "@jupyter-widgets/controls",
      "model_module_version": "1.5.0",
      "model_name": "SliderStyleModel",
      "state": {
       "description_width": ""
      }
     },
     "63a23ac53369452693ff2d8f611ad688": {
      "model_module": "@jupyter-widgets/base",
      "model_module_version": "1.2.0",
      "model_name": "LayoutModel",
      "state": {}
     },
     "63d082b4ea5f4693a8ee3e175030714e": {
      "model_module": "@jupyter-widgets/controls",
      "model_module_version": "1.5.0",
      "model_name": "ButtonModel",
      "state": {
       "description": "Clear Output",
       "layout": "IPY_MODEL_46b92eadaeb64b32b51c1447dea61f0b",
       "style": "IPY_MODEL_1a45b1e8fb05489d80123e3816e67e2d"
      }
     },
     "63df5ac8a9254db39f16c80072643ed6": {
      "model_module": "@jupyter-widgets/controls",
      "model_module_version": "1.5.0",
      "model_name": "SelectMultipleModel",
      "state": {
       "_options_labels": [
        "BlackLivesMatter",
        "racism",
        "LGBT",
        "PoliceBrutality",
        "Diversity",
        "blacklivesmatter",
        "BlackLove",
        "LGBTQ",
        "BlackHistoryMonth",
        "BlackTwitter"
       ],
       "description": "Keywords",
       "index": [
        5
       ],
       "layout": "IPY_MODEL_48455f5d6fff47bca5aa8fe216e9e7fe",
       "rows": 10,
       "style": "IPY_MODEL_34d725703944446fbe53ca0761ce51fd"
      }
     },
     "63fc149e07bd4a7a90b8ba3d53954ce0": {
      "model_module": "@jupyter-widgets/base",
      "model_module_version": "1.2.0",
      "model_name": "LayoutModel",
      "state": {}
     },
     "645eb9528b874ee09446fa7052c8ce2f": {
      "model_module": "@jupyter-widgets/base",
      "model_module_version": "1.2.0",
      "model_name": "LayoutModel",
      "state": {}
     },
     "64a4a2f3cea94ee48a016e99666f2f33": {
      "model_module": "@jupyter-widgets/controls",
      "model_module_version": "1.5.0",
      "model_name": "SliderStyleModel",
      "state": {
       "description_width": ""
      }
     },
     "65ea19222a894cd8bff526e88e0e40ed": {
      "model_module": "@jupyter-widgets/controls",
      "model_module_version": "1.5.0",
      "model_name": "ButtonStyleModel",
      "state": {}
     },
     "6632272538df4dc1a91d97f594035c60": {
      "model_module": "@jupyter-widgets/controls",
      "model_module_version": "1.5.0",
      "model_name": "DescriptionStyleModel",
      "state": {
       "description_width": ""
      }
     },
     "676bce89d1d04f23b4c985321849a551": {
      "model_module": "@jupyter-widgets/controls",
      "model_module_version": "1.5.0",
      "model_name": "DescriptionStyleModel",
      "state": {
       "description_width": ""
      }
     },
     "688dd75edfc1421e91728fc2505e4990": {
      "model_module": "@jupyter-widgets/base",
      "model_module_version": "1.2.0",
      "model_name": "LayoutModel",
      "state": {}
     },
     "696c895a68fc46a48dcc2bc074fba17b": {
      "model_module": "@jupyter-widgets/controls",
      "model_module_version": "1.5.0",
      "model_name": "ButtonModel",
      "state": {
       "description": "Clear Output",
       "layout": "IPY_MODEL_c1663f0144c04c90bf7a7ce31045206b",
       "style": "IPY_MODEL_3525a43c8d9644cda42a3b3696fa6683"
      }
     },
     "699119e4dbd94179a67c58e1a477ee63": {
      "model_module": "@jupyter-widgets/base",
      "model_module_version": "1.2.0",
      "model_name": "LayoutModel",
      "state": {}
     },
     "69d008dc4a2c4aab906bf09062626393": {
      "model_module": "@jupyter-widgets/controls",
      "model_module_version": "1.5.0",
      "model_name": "TextModel",
      "state": {
       "description": "Hashtag:",
       "layout": "IPY_MODEL_463718fa9f684e2b9a56458ed0962d18",
       "style": "IPY_MODEL_563b3a543a08489bac5405e14967cd91",
       "value": "blm"
      }
     },
     "69fa64a7f5984d33adfa982609f018da": {
      "model_module": "@jupyter-widgets/controls",
      "model_module_version": "1.5.0",
      "model_name": "ButtonModel",
      "state": {
       "description": "Clear Output",
       "layout": "IPY_MODEL_0c081fac609d4abda0b16f8e9c7c45ad",
       "style": "IPY_MODEL_2fa3d0aa16fa4c57889e55ad12b8bfbe"
      }
     },
     "6a1f7d26fd29455bbe9e63fcd3dfe1dc": {
      "model_module": "@jupyter-widgets/base",
      "model_module_version": "1.2.0",
      "model_name": "LayoutModel",
      "state": {}
     },
     "6c806d98ae794ccba6b5ae37847b07a4": {
      "model_module": "@jupyter-widgets/controls",
      "model_module_version": "1.5.0",
      "model_name": "DescriptionStyleModel",
      "state": {
       "description_width": ""
      }
     },
     "6cf829a7d468464a99e43f125b771d3f": {
      "model_module": "@jupyter-widgets/controls",
      "model_module_version": "1.5.0",
      "model_name": "IntRangeSliderModel",
      "state": {
       "_model_name": "IntRangeSliderModel",
       "_view_name": "IntRangeSliderView",
       "continuous_update": false,
       "description": "Range:",
       "layout": "IPY_MODEL_b6b545c0f45e44a180ebd23afd8553d5",
       "max": 50,
       "style": "IPY_MODEL_2e4bf83da6a14c18aae96168a43fde1b",
       "value": [
        0,
        50
       ]
      }
     },
     "6e5fb6e0b3bc4930b3bb7fe96bae779c": {
      "model_module": "@jupyter-widgets/controls",
      "model_module_version": "1.5.0",
      "model_name": "SliderStyleModel",
      "state": {
       "description_width": ""
      }
     },
     "6f3d16fa8cb74aeaa6892bdbc6a68f90": {
      "model_module": "@jupyter-widgets/controls",
      "model_module_version": "1.5.0",
      "model_name": "SliderStyleModel",
      "state": {
       "description_width": ""
      }
     },
     "6f708f329297482591dde6730ea533d0": {
      "model_module": "@jupyter-widgets/controls",
      "model_module_version": "1.5.0",
      "model_name": "DescriptionStyleModel",
      "state": {
       "description_width": ""
      }
     },
     "6fdfaf793f8c4739861db648e2332b00": {
      "model_module": "@jupyter-widgets/controls",
      "model_module_version": "1.5.0",
      "model_name": "ButtonModel",
      "state": {
       "description": "Clear Output",
       "layout": "IPY_MODEL_b68ccb2b51ae4c65a8759cc89e41eb15",
       "style": "IPY_MODEL_a5bbd3bb23ab49008f02c820b522db31"
      }
     },
     "6ffe4bb27ae54525ae5f5d670e36e9f3": {
      "model_module": "@jupyter-widgets/base",
      "model_module_version": "1.2.0",
      "model_name": "LayoutModel",
      "state": {}
     },
     "70ea67d4dceb4109b7575b03993c5034": {
      "model_module": "@jupyter-widgets/controls",
      "model_module_version": "1.5.0",
      "model_name": "DescriptionStyleModel",
      "state": {
       "description_width": ""
      }
     },
     "710507a0bb304d79b8a4dea900d581e7": {
      "model_module": "@jupyter-widgets/controls",
      "model_module_version": "1.5.0",
      "model_name": "SliderStyleModel",
      "state": {
       "description_width": ""
      }
     },
     "7114e9e5a7444b3c95ec07aeb868a77d": {
      "model_module": "@jupyter-widgets/controls",
      "model_module_version": "1.5.0",
      "model_name": "DescriptionStyleModel",
      "state": {
       "description_width": ""
      }
     },
     "71c9876d2a1942ecb2fb2d4c03d655a0": {
      "model_module": "@jupyter-widgets/base",
      "model_module_version": "1.2.0",
      "model_name": "LayoutModel",
      "state": {}
     },
     "728ccfa3c14d4e5ab68650cfe9800653": {
      "model_module": "@jupyter-widgets/controls",
      "model_module_version": "1.5.0",
      "model_name": "IntRangeSliderModel",
      "state": {
       "_model_name": "IntRangeSliderModel",
       "_view_name": "IntRangeSliderView",
       "continuous_update": false,
       "description": "Range:",
       "layout": "IPY_MODEL_ac6e5188c34b4302a96c7aa8dfd7c716",
       "max": 10,
       "style": "IPY_MODEL_a474e92a07a741d3ad6098f04948b23f",
       "value": [
        2,
        10
       ]
      }
     },
     "728cecc4e1c24dc1bfb23abf8855e4f8": {
      "model_module": "@jupyter-widgets/controls",
      "model_module_version": "1.5.0",
      "model_name": "ButtonModel",
      "state": {
       "description": "Clear Output",
       "layout": "IPY_MODEL_fc377de04361460b918457ba5d4eee2e",
       "style": "IPY_MODEL_7c50c1a6cbdc4ea08fe1845dd45d6166"
      }
     },
     "73b3175e8f404935b6d26943fb4b4632": {
      "model_module": "@jupyter-widgets/controls",
      "model_module_version": "1.5.0",
      "model_name": "ButtonStyleModel",
      "state": {}
     },
     "74631a6c75cc49ceb884e0e5d1b0bf7d": {
      "model_module": "@jupyter-widgets/controls",
      "model_module_version": "1.5.0",
      "model_name": "DescriptionStyleModel",
      "state": {
       "description_width": ""
      }
     },
     "7465a3197fbf448789aa7497cfb70d89": {
      "model_module": "@jupyter-widgets/controls",
      "model_module_version": "1.5.0",
      "model_name": "TextModel",
      "state": {
       "description": "Hashtag:",
       "layout": "IPY_MODEL_f4dccb378d17422482ceffa1d53e3cc3",
       "style": "IPY_MODEL_4b90c65eb0f14c478650e2ede018c16d",
       "value": "BLM"
      }
     },
     "74afe3c67eff4b87acfaafe6a2fee059": {
      "model_module": "@jupyter-widgets/base",
      "model_module_version": "1.2.0",
      "model_name": "LayoutModel",
      "state": {}
     },
     "74f6ba5b5d434170a8b70f741b001977": {
      "model_module": "@jupyter-widgets/controls",
      "model_module_version": "1.5.0",
      "model_name": "ButtonStyleModel",
      "state": {}
     },
     "754c732f55524b6587090be52d91c3e5": {
      "model_module": "@jupyter-widgets/base",
      "model_module_version": "1.2.0",
      "model_name": "LayoutModel",
      "state": {}
     },
     "75d70d2bb234417a8bc62ca8d3bd4826": {
      "model_module": "@jupyter-widgets/base",
      "model_module_version": "1.2.0",
      "model_name": "LayoutModel",
      "state": {}
     },
     "76c19ce02ee54b31ae49d12a26205fec": {
      "model_module": "@jupyter-widgets/controls",
      "model_module_version": "1.5.0",
      "model_name": "ButtonModel",
      "state": {
       "description": "Clear Output",
       "layout": "IPY_MODEL_f82f9b26d2fa4ae1a5a2315fffd39828",
       "style": "IPY_MODEL_241bf27c792d4e2c9647f934beee62e4"
      }
     },
     "7702d105e1ff4e049f7e74fff3d69a95": {
      "model_module": "@jupyter-widgets/controls",
      "model_module_version": "1.5.0",
      "model_name": "ButtonStyleModel",
      "state": {}
     },
     "772a9bf4255b41dc853f54fc4d0c69a4": {
      "model_module": "@jupyter-widgets/controls",
      "model_module_version": "1.5.0",
      "model_name": "SliderStyleModel",
      "state": {
       "description_width": ""
      }
     },
     "7754bfddfe234bb79bc3dce0a325c468": {
      "model_module": "@jupyter-widgets/controls",
      "model_module_version": "1.5.0",
      "model_name": "DescriptionStyleModel",
      "state": {
       "description_width": ""
      }
     },
     "7768a3eafd544420a60a8d61305163b3": {
      "model_module": "@jupyter-widgets/controls",
      "model_module_version": "1.5.0",
      "model_name": "DescriptionStyleModel",
      "state": {
       "description_width": ""
      }
     },
     "77d60449e10b4b7d8499ffc70feff969": {
      "model_module": "@jupyter-widgets/controls",
      "model_module_version": "1.5.0",
      "model_name": "ButtonStyleModel",
      "state": {}
     },
     "780c273ed5a54f4aabb28431b9f52140": {
      "model_module": "@jupyter-widgets/base",
      "model_module_version": "1.2.0",
      "model_name": "LayoutModel",
      "state": {}
     },
     "7858187857e44c8c831f9ef86bcf59ac": {
      "model_module": "@jupyter-widgets/base",
      "model_module_version": "1.2.0",
      "model_name": "LayoutModel",
      "state": {}
     },
     "78895e5fe7c1481ea8ccc4b019a59098": {
      "model_module": "@jupyter-widgets/controls",
      "model_module_version": "1.5.0",
      "model_name": "TextModel",
      "state": {
       "description": "Hashtag:",
       "layout": "IPY_MODEL_0c6fdeb3de4e49339469296124c70777",
       "style": "IPY_MODEL_874a20e5c34240028fca6d3e25c4ae9f",
       "value": "Blackface"
      }
     },
     "7931a90caaa24543a3c40c1d73158db6": {
      "model_module": "@jupyter-widgets/controls",
      "model_module_version": "1.5.0",
      "model_name": "DescriptionStyleModel",
      "state": {
       "description_width": ""
      }
     },
     "7939ed5dac2b410f9a09523a885b877c": {
      "model_module": "@jupyter-widgets/base",
      "model_module_version": "1.2.0",
      "model_name": "LayoutModel",
      "state": {}
     },
     "7a4c71cc63a84e5282446226c1f1e729": {
      "model_module": "@jupyter-widgets/controls",
      "model_module_version": "1.5.0",
      "model_name": "DescriptionStyleModel",
      "state": {
       "description_width": ""
      }
     },
     "7adf139ba33844d08ebde57a9a608c90": {
      "model_module": "@jupyter-widgets/controls",
      "model_module_version": "1.5.0",
      "model_name": "ButtonModel",
      "state": {
       "description": "Clear Output",
       "layout": "IPY_MODEL_809f19344f9145739c5f7e537191172c",
       "style": "IPY_MODEL_d2730638c9264fb3a36341aa27be3c0c"
      }
     },
     "7afb16ed5a9643b2b1da4860d40e8e5c": {
      "model_module": "@jupyter-widgets/controls",
      "model_module_version": "1.5.0",
      "model_name": "DescriptionStyleModel",
      "state": {
       "description_width": ""
      }
     },
     "7bc34bc4cf7c4d5c8e8eebbed079bd10": {
      "model_module": "@jupyter-widgets/controls",
      "model_module_version": "1.5.0",
      "model_name": "DescriptionStyleModel",
      "state": {
       "description_width": ""
      }
     },
     "7bf7d2e0370d4522a7d16c04a6de2d14": {
      "model_module": "@jupyter-widgets/controls",
      "model_module_version": "1.5.0",
      "model_name": "ButtonStyleModel",
      "state": {}
     },
     "7c50c1a6cbdc4ea08fe1845dd45d6166": {
      "model_module": "@jupyter-widgets/controls",
      "model_module_version": "1.5.0",
      "model_name": "ButtonStyleModel",
      "state": {}
     },
     "7c91b7eb9be14c629b22ecce039197fa": {
      "model_module": "@jupyter-widgets/controls",
      "model_module_version": "1.5.0",
      "model_name": "SliderStyleModel",
      "state": {
       "description_width": ""
      }
     },
     "7d8931cd2e3b4a27b43664386c51c885": {
      "model_module": "@jupyter-widgets/base",
      "model_module_version": "1.2.0",
      "model_name": "LayoutModel",
      "state": {}
     },
     "7e05cfc92827447882f1b49b3899a6bc": {
      "model_module": "@jupyter-widgets/controls",
      "model_module_version": "1.5.0",
      "model_name": "ButtonStyleModel",
      "state": {}
     },
     "7e4867a791c2400ab93d05a7fcb6018a": {
      "model_module": "@jupyter-widgets/base",
      "model_module_version": "1.2.0",
      "model_name": "LayoutModel",
      "state": {}
     },
     "7e9f28d98589472cbda552c29498f31d": {
      "model_module": "@jupyter-widgets/controls",
      "model_module_version": "1.5.0",
      "model_name": "DescriptionStyleModel",
      "state": {
       "description_width": ""
      }
     },
     "7ebd1fb25af64bee850da931bf7e5b28": {
      "model_module": "@jupyter-widgets/controls",
      "model_module_version": "1.5.0",
      "model_name": "ButtonModel",
      "state": {
       "description": "Clear Output",
       "layout": "IPY_MODEL_0411e5878c8d4f0a86942a9a587e9e2e",
       "style": "IPY_MODEL_43bde92b651b4dc9aae3709be7bec2f9"
      }
     },
     "7ee0cc7a5d174b61897500e7ba3e97c0": {
      "model_module": "@jupyter-widgets/base",
      "model_module_version": "1.2.0",
      "model_name": "LayoutModel",
      "state": {}
     },
     "7f56bd28de0a4e44949a2b1b62750394": {
      "model_module": "@jupyter-widgets/controls",
      "model_module_version": "1.5.0",
      "model_name": "TextModel",
      "state": {
       "description": "Hashtag:",
       "layout": "IPY_MODEL_a6fabc0b98a748dea4dc97b9a30f7a8d",
       "style": "IPY_MODEL_38ddd83fa7144da6b21258e29b37df46",
       "value": "blm"
      }
     },
     "7fe19dedf2234768a36da76a5a3dbfbf": {
      "model_module": "@jupyter-widgets/base",
      "model_module_version": "1.2.0",
      "model_name": "LayoutModel",
      "state": {}
     },
     "8004e7caea744b4e873dc831b4cbd180": {
      "model_module": "@jupyter-widgets/controls",
      "model_module_version": "1.5.0",
      "model_name": "SliderStyleModel",
      "state": {
       "description_width": ""
      }
     },
     "809f19344f9145739c5f7e537191172c": {
      "model_module": "@jupyter-widgets/base",
      "model_module_version": "1.2.0",
      "model_name": "LayoutModel",
      "state": {}
     },
     "813db2cb4fad400eab0e6cdc580a43fd": {
      "model_module": "@jupyter-widgets/controls",
      "model_module_version": "1.5.0",
      "model_name": "SliderStyleModel",
      "state": {
       "description_width": ""
      }
     },
     "8185f6e7bc20443a9ced3ebf5056bc2a": {
      "model_module": "@jupyter-widgets/controls",
      "model_module_version": "1.5.0",
      "model_name": "SliderStyleModel",
      "state": {
       "description_width": ""
      }
     },
     "819c1106764a47a199b87b4524e64664": {
      "model_module": "@jupyter-widgets/base",
      "model_module_version": "1.2.0",
      "model_name": "LayoutModel",
      "state": {}
     },
     "822cd148084b4515ab8afe188e0c16fd": {
      "model_module": "@jupyter-widgets/base",
      "model_module_version": "1.2.0",
      "model_name": "LayoutModel",
      "state": {}
     },
     "8235aff6855a4f39a2774f40bfd30a46": {
      "model_module": "@jupyter-widgets/base",
      "model_module_version": "1.2.0",
      "model_name": "LayoutModel",
      "state": {}
     },
     "82c8d6e68d8d4fcc94943dcf4c722731": {
      "model_module": "@jupyter-widgets/controls",
      "model_module_version": "1.5.0",
      "model_name": "TextModel",
      "state": {
       "description": "Enter ID:",
       "layout": "IPY_MODEL_60dee82ed9eb4999b0ed9438fa6143d3",
       "style": "IPY_MODEL_4278429fdb7e4e5c804e37cf161b5d8d"
      }
     },
     "831ab34f14c1413fb81b92305182e420": {
      "model_module": "@jupyter-widgets/controls",
      "model_module_version": "1.5.0",
      "model_name": "TextModel",
      "state": {
       "description": "Enter ID:",
       "layout": "IPY_MODEL_36cddba36f09490786b889b37fd6c1d9",
       "style": "IPY_MODEL_99d825a0dfd14b83a4cea080cac3e60d",
       "value": "PvMtU8hSwydfwGdw7yuVC5yBPXjIE7+pZi0m0X7UtQ="
      }
     },
     "832cf5309cd04506b6acef6c21064903": {
      "model_module": "@jupyter-widgets/controls",
      "model_module_version": "1.5.0",
      "model_name": "DescriptionStyleModel",
      "state": {
       "description_width": ""
      }
     },
     "835f17e860e8467b872e97f39db2f993": {
      "model_module": "@jupyter-widgets/controls",
      "model_module_version": "1.5.0",
      "model_name": "DescriptionStyleModel",
      "state": {
       "description_width": ""
      }
     },
     "838cc4acc9234b66b3f792200d48205c": {
      "model_module": "@jupyter-widgets/controls",
      "model_module_version": "1.5.0",
      "model_name": "TextModel",
      "state": {
       "description": "Hashtag:",
       "layout": "IPY_MODEL_dff18db7c9aa4096b35ffe4bf7242ad4",
       "style": "IPY_MODEL_9a3c5bdca7d44f74a0b87f57c8aea06a",
       "value": "blm"
      }
     },
     "83e132a6c8704d49be710cca9c3bd7a3": {
      "model_module": "@jupyter-widgets/controls",
      "model_module_version": "1.5.0",
      "model_name": "DescriptionStyleModel",
      "state": {
       "description_width": ""
      }
     },
     "840fac04575f46a79b258b1e8ff4a71e": {
      "model_module": "@jupyter-widgets/controls",
      "model_module_version": "1.5.0",
      "model_name": "DescriptionStyleModel",
      "state": {
       "description_width": ""
      }
     },
     "8429efe7ca1b4961987d75000f1b592f": {
      "model_module": "@jupyter-widgets/base",
      "model_module_version": "1.2.0",
      "model_name": "LayoutModel",
      "state": {}
     },
     "8444268365aa406b81f652887acb912c": {
      "model_module": "@jupyter-widgets/controls",
      "model_module_version": "1.5.0",
      "model_name": "SliderStyleModel",
      "state": {
       "description_width": ""
      }
     },
     "84837ea9362c438aab0e232612fc853b": {
      "model_module": "@jupyter-widgets/base",
      "model_module_version": "1.2.0",
      "model_name": "LayoutModel",
      "state": {}
     },
     "84a247b13252472398fdd8bf90ec2225": {
      "model_module": "@jupyter-widgets/controls",
      "model_module_version": "1.5.0",
      "model_name": "ButtonModel",
      "state": {
       "description": "Clear Output",
       "layout": "IPY_MODEL_3d447ba63e184c9e8714c3f80285f5f7",
       "style": "IPY_MODEL_1c95a51cdd79436e8d030122aabcc86f"
      }
     },
     "84cc95673acd4e5f84ed93074bac86f5": {
      "model_module": "@jupyter-widgets/controls",
      "model_module_version": "1.5.0",
      "model_name": "DescriptionStyleModel",
      "state": {
       "description_width": ""
      }
     },
     "84ee326eb80b4127b8945c26c603e14e": {
      "model_module": "@jupyter-widgets/controls",
      "model_module_version": "1.5.0",
      "model_name": "TextModel",
      "state": {
       "description": "Hashtag:",
       "layout": "IPY_MODEL_3003ddd3541e4aed9408036185654c76",
       "style": "IPY_MODEL_7a4c71cc63a84e5282446226c1f1e729"
      }
     },
     "860873b506a6494cb655f27d45293b53": {
      "model_module": "@jupyter-widgets/controls",
      "model_module_version": "1.5.0",
      "model_name": "TextModel",
      "state": {
       "description": "Enter ID:",
       "layout": "IPY_MODEL_c74f3cc0d7604722a293acea4283fa63",
       "style": "IPY_MODEL_ff31f574192544e49d124ca533a02ffc",
       "value": "PvMtU8hSwydfwGdw7yuVC5yBPXjIE7+pZi0m0X7UtQ="
      }
     },
     "861cd7c71c3645b388f0126a8fec45f0": {
      "model_module": "@jupyter-widgets/controls",
      "model_module_version": "1.5.0",
      "model_name": "DescriptionStyleModel",
      "state": {
       "description_width": ""
      }
     },
     "865670ba8f5e41b396d58698c49087dd": {
      "model_module": "@jupyter-widgets/controls",
      "model_module_version": "1.5.0",
      "model_name": "DescriptionStyleModel",
      "state": {
       "description_width": ""
      }
     },
     "86816565069645bbad44168779ae1b0a": {
      "model_module": "@jupyter-widgets/base",
      "model_module_version": "1.2.0",
      "model_name": "LayoutModel",
      "state": {}
     },
     "86de37f2160c4cb3bc28bb6924f425c0": {
      "model_module": "@jupyter-widgets/controls",
      "model_module_version": "1.5.0",
      "model_name": "SelectMultipleModel",
      "state": {
       "_options_labels": [
        "BlackLivesMatter",
        "racism",
        "LGBT",
        "PoliceBrutality",
        "Diversity",
        "blacklivesmatter",
        "BlackLove",
        "LGBTQ",
        "BlackHistoryMonth",
        "BlackTwitter"
       ],
       "description": "Keywords",
       "index": [
        0,
        1,
        2,
        3,
        4,
        5,
        6,
        7
       ],
       "layout": "IPY_MODEL_8c88a30f74e34473a29cfb841ec226a4",
       "rows": 10,
       "style": "IPY_MODEL_ba01bd7e618143b98e0936d1288aae8b"
      }
     },
     "874a20e5c34240028fca6d3e25c4ae9f": {
      "model_module": "@jupyter-widgets/controls",
      "model_module_version": "1.5.0",
      "model_name": "DescriptionStyleModel",
      "state": {
       "description_width": ""
      }
     },
     "87c0cdc00ba5417cb0042a7253a77659": {
      "model_module": "@jupyter-widgets/controls",
      "model_module_version": "1.5.0",
      "model_name": "SelectMultipleModel",
      "state": {
       "_options_labels": [
        "BlackLivesMatter",
        "racism",
        "LGBT",
        "PoliceBrutality",
        "Diversity",
        "blacklivesmatter",
        "BlackLove",
        "LGBTQ",
        "BlackHistoryMonth",
        "BlackTwitter",
        "HumanRights",
        "blackexcellence",
        "BlackTwitterMovement",
        "police",
        "SayNoToRacism",
        "policebrutality",
        "Blacktwitter",
        "love",
        "BlackExcellence",
        "CHANGE",
        "Police",
        "Trump",
        "Africa",
        "racist",
        "TuesdayThoughts",
        "blackgirlsrock",
        "blackandproud",
        "women",
        "MondayMotivation",
        "blackhistorymonth",
        "black",
        "blackisbeautiful",
        "blackgirlmagic",
        "loveislove",
        "blacklove",
        "mondaythoughts",
        "TuesdayMotivation",
        "PoliceState",
        "girlpower",
        "FridayFeeling",
        "cops",
        "Sustainability",
        "BLM",
        "blacks",
        "blackhistory",
        "FridayThoughts",
        "ThursdayMotivation",
        "saynotoracism",
        "FridayMotivation",
        "WednesdayWisdom"
       ],
       "description": "Keywords",
       "index": [
        2
       ],
       "layout": "IPY_MODEL_e21a08e6fd5a4abb817c0dc921ca96e7",
       "rows": 10,
       "style": "IPY_MODEL_7114e9e5a7444b3c95ec07aeb868a77d"
      }
     },
     "87c696f1cb5c47c7a0167d87fa65b7a0": {
      "model_module": "@jupyter-widgets/controls",
      "model_module_version": "1.5.0",
      "model_name": "DescriptionStyleModel",
      "state": {
       "description_width": ""
      }
     },
     "8822ad7bb4ec43479f4bdcbe3e4ff427": {
      "model_module": "@jupyter-widgets/controls",
      "model_module_version": "1.5.0",
      "model_name": "SliderStyleModel",
      "state": {
       "description_width": ""
      }
     },
     "891f4080bb064710b4cae703c251ed53": {
      "model_module": "@jupyter-widgets/controls",
      "model_module_version": "1.5.0",
      "model_name": "TextModel",
      "state": {
       "description": "Enter ID:",
       "layout": "IPY_MODEL_84837ea9362c438aab0e232612fc853b",
       "style": "IPY_MODEL_aeac400082a14eb3b32c022497875a47",
       "value": "0biUYz0EYY+ffddjSD8tf7+drN978R+BsJ84PRzqqI="
      }
     },
     "897e8d28a2eb423884fcde2282df58f9": {
      "model_module": "@jupyter-widgets/controls",
      "model_module_version": "1.5.0",
      "model_name": "ButtonModel",
      "state": {
       "description": "Clear Output",
       "layout": "IPY_MODEL_44dd84c52ad64fbc90de6390970b3e0c",
       "style": "IPY_MODEL_d630f72f09ca482ba5cd54343e31e031"
      }
     },
     "899afffe731d49168d60f656c8b8961a": {
      "model_module": "@jupyter-widgets/base",
      "model_module_version": "1.2.0",
      "model_name": "LayoutModel",
      "state": {}
     },
     "89b52e283ff54fb692b7d58801b0d36b": {
      "model_module": "@jupyter-widgets/controls",
      "model_module_version": "1.5.0",
      "model_name": "IntRangeSliderModel",
      "state": {
       "_model_name": "IntRangeSliderModel",
       "_view_name": "IntRangeSliderView",
       "continuous_update": false,
       "description": "Range:",
       "layout": "IPY_MODEL_a48c0de4ba374ffb8efe335c4e9e27af",
       "max": 10,
       "style": "IPY_MODEL_24c351e54cac4fc8ade4677ebba69079",
       "value": [
        0,
        10
       ]
      }
     },
     "89df9d5ae19e4a8fac35e90fe97a941b": {
      "model_module": "@jupyter-widgets/base",
      "model_module_version": "1.2.0",
      "model_name": "LayoutModel",
      "state": {}
     },
     "8bd298d3adb24dd4a9a558819f5c6f53": {
      "model_module": "@jupyter-widgets/controls",
      "model_module_version": "1.5.0",
      "model_name": "DescriptionStyleModel",
      "state": {
       "description_width": ""
      }
     },
     "8c88a30f74e34473a29cfb841ec226a4": {
      "model_module": "@jupyter-widgets/base",
      "model_module_version": "1.2.0",
      "model_name": "LayoutModel",
      "state": {}
     },
     "8ccf5615de134144a9adb506a26e7e09": {
      "model_module": "@jupyter-widgets/controls",
      "model_module_version": "1.5.0",
      "model_name": "DescriptionStyleModel",
      "state": {
       "description_width": ""
      }
     },
     "8d1d4a77203445eab8279e3baf56207f": {
      "model_module": "@jupyter-widgets/base",
      "model_module_version": "1.2.0",
      "model_name": "LayoutModel",
      "state": {}
     },
     "8ddad961c7874365af33d2367ffc0ffa": {
      "model_module": "@jupyter-widgets/controls",
      "model_module_version": "1.5.0",
      "model_name": "TextModel",
      "state": {
       "description": "Hashtag:",
       "layout": "IPY_MODEL_d416496a89404184bbbbaf035347c805",
       "style": "IPY_MODEL_ac2d2222378e49ad94843ece65405935",
       "value": "blm"
      }
     },
     "8f033abe0040461a928400b0baa9bbd6": {
      "model_module": "@jupyter-widgets/base",
      "model_module_version": "1.2.0",
      "model_name": "LayoutModel",
      "state": {}
     },
     "8f3a3561716e4e3284ed78c75d3b796c": {
      "model_module": "@jupyter-widgets/base",
      "model_module_version": "1.2.0",
      "model_name": "LayoutModel",
      "state": {}
     },
     "9014a9c4bab04867ac4da8c28e0fbcf6": {
      "model_module": "@jupyter-widgets/controls",
      "model_module_version": "1.5.0",
      "model_name": "SelectMultipleModel",
      "state": {
       "_options_labels": [
        "BlackLivesMatter",
        "racism",
        "LGBT",
        "PoliceBrutality",
        "Diversity",
        "blacklivesmatter",
        "BlackLove",
        "LGBTQ",
        "BlackHistoryMonth",
        "BlackTwitter",
        "HumanRights",
        "blackexcellence",
        "BlackTwitterMovement",
        "police",
        "SayNoToRacism",
        "policebrutality",
        "Blacktwitter",
        "love",
        "BlackExcellence",
        "CHANGE",
        "Police",
        "Trump",
        "Africa",
        "racist",
        "TuesdayThoughts",
        "blackgirlsrock",
        "blackandproud",
        "women",
        "MondayMotivation",
        "blackhistorymonth",
        "black",
        "blackisbeautiful",
        "blackgirlmagic",
        "loveislove",
        "blacklove",
        "mondaythoughts",
        "TuesdayMotivation",
        "PoliceState",
        "girlpower",
        "FridayFeeling",
        "cops",
        "Sustainability",
        "BLM",
        "blacks",
        "blackhistory",
        "FridayThoughts",
        "ThursdayMotivation",
        "saynotoracism",
        "FridayMotivation",
        "WednesdayWisdom"
       ],
       "description": "Keywords",
       "index": [
        42
       ],
       "layout": "IPY_MODEL_4a38ed13e49b4b1facad7adad74b91b1",
       "rows": 10,
       "style": "IPY_MODEL_39b002adad834f4e858437695889bb48"
      }
     },
     "903c5189483d475289c4dbf867d0396e": {
      "model_module": "@jupyter-widgets/base",
      "model_module_version": "1.2.0",
      "model_name": "LayoutModel",
      "state": {}
     },
     "904156dd7983483cabf474e85303ebb9": {
      "model_module": "@jupyter-widgets/controls",
      "model_module_version": "1.5.0",
      "model_name": "TextModel",
      "state": {
       "description": "Enter ID:",
       "layout": "IPY_MODEL_3088f39ffa43400b9a825dcb4694bf40",
       "style": "IPY_MODEL_e4ecd04112e24195a11d2a514d4f74e3",
       "value": "0biUYz0EYY+ffddjSD8tf7+drN978R+BsJ84PRzqqI="
      }
     },
     "908dbb0907c940889eccee07210d70e6": {
      "model_module": "@jupyter-widgets/controls",
      "model_module_version": "1.5.0",
      "model_name": "SliderStyleModel",
      "state": {
       "description_width": ""
      }
     },
     "90c10448cbcb4a3eb1af304d6d23bec9": {
      "model_module": "@jupyter-widgets/controls",
      "model_module_version": "1.5.0",
      "model_name": "TextModel",
      "state": {
       "description": "Enter ID:",
       "layout": "IPY_MODEL_6ffe4bb27ae54525ae5f5d670e36e9f3",
       "style": "IPY_MODEL_e02e960fbc9a42e6a102f75ce5dc0660"
      }
     },
     "90c2f13aef8c4ea582b24ff966534e15": {
      "model_module": "@jupyter-widgets/controls",
      "model_module_version": "1.5.0",
      "model_name": "SelectMultipleModel",
      "state": {
       "_options_labels": [
        "BlackLivesMatter",
        "racism",
        "LGBT",
        "PoliceBrutality",
        "Diversity",
        "blacklivesmatter",
        "BlackLove",
        "LGBTQ",
        "BlackHistoryMonth",
        "BlackTwitter"
       ],
       "description": "Keywords",
       "index": [
        5
       ],
       "layout": "IPY_MODEL_457834f520cd4b79b44b6d1698280803",
       "rows": 10,
       "style": "IPY_MODEL_a008c834ee4043329ddcca3a9a097481"
      }
     },
     "9120d3df05214d58a1f8e5fc245beaa8": {
      "model_module": "@jupyter-widgets/controls",
      "model_module_version": "1.5.0",
      "model_name": "TextModel",
      "state": {
       "description": "Hashtag:",
       "layout": "IPY_MODEL_0981eed63793424088f8da787ae46806",
       "style": "IPY_MODEL_a3707222e9f84dd7b42c59af9115aa04",
       "value": "blm"
      }
     },
     "91a3367f80394ceeb6cfcc9a19688492": {
      "model_module": "@jupyter-widgets/base",
      "model_module_version": "1.2.0",
      "model_name": "LayoutModel",
      "state": {}
     },
     "92737125f81040e29d998cfd707546b7": {
      "model_module": "@jupyter-widgets/controls",
      "model_module_version": "1.5.0",
      "model_name": "ButtonModel",
      "state": {
       "description": "Clear Output",
       "layout": "IPY_MODEL_96d2b3befccc4968be7d1bf75fe35f51",
       "style": "IPY_MODEL_634f45fae4c44a8193b706491204ab60"
      }
     },
     "9417362f7e254dcb990688a6808fc2f1": {
      "model_module": "@jupyter-widgets/controls",
      "model_module_version": "1.5.0",
      "model_name": "IntRangeSliderModel",
      "state": {
       "_model_name": "IntRangeSliderModel",
       "_view_name": "IntRangeSliderView",
       "continuous_update": false,
       "description": "Range:",
       "layout": "IPY_MODEL_448fd530caee487c9f2d24ca0eab8dfb",
       "max": 10,
       "style": "IPY_MODEL_710507a0bb304d79b8a4dea900d581e7",
       "value": [
        0,
        10
       ]
      }
     },
     "945b7b00e7834151910e4eb91b27223d": {
      "model_module": "@jupyter-widgets/base",
      "model_module_version": "1.2.0",
      "model_name": "LayoutModel",
      "state": {}
     },
     "94bb8fd9cb024b72a2b8752caf683ad9": {
      "model_module": "@jupyter-widgets/controls",
      "model_module_version": "1.5.0",
      "model_name": "ButtonStyleModel",
      "state": {}
     },
     "9543e5a2e85f4a2f94069b21e27fed68": {
      "model_module": "@jupyter-widgets/base",
      "model_module_version": "1.2.0",
      "model_name": "LayoutModel",
      "state": {}
     },
     "9567c0e741d24cae909398f633793602": {
      "model_module": "@jupyter-widgets/controls",
      "model_module_version": "1.5.0",
      "model_name": "ButtonModel",
      "state": {
       "description": "Clear Output",
       "layout": "IPY_MODEL_37b9250b17e5493b974941627e965ab2",
       "style": "IPY_MODEL_320d1636585f4eb9a5c03c218b4a7f28"
      }
     },
     "9576451e844e42a5a9df61b0f210372a": {
      "model_module": "@jupyter-widgets/controls",
      "model_module_version": "1.5.0",
      "model_name": "ButtonStyleModel",
      "state": {}
     },
     "96d2b3befccc4968be7d1bf75fe35f51": {
      "model_module": "@jupyter-widgets/base",
      "model_module_version": "1.2.0",
      "model_name": "LayoutModel",
      "state": {}
     },
     "9852642a6d2a4840a2d36f3a5e8e9ee9": {
      "model_module": "@jupyter-widgets/controls",
      "model_module_version": "1.5.0",
      "model_name": "TextModel",
      "state": {
       "description": "Hashtag:",
       "layout": "IPY_MODEL_b4d0204ac5944a33946a61a35a627829",
       "style": "IPY_MODEL_2c44a16ecd514f34ad7d02b7ae2e7beb",
       "value": "BLM"
      }
     },
     "98a40f77198447088b5fdd09ee892b0c": {
      "model_module": "@jupyter-widgets/controls",
      "model_module_version": "1.5.0",
      "model_name": "SelectMultipleModel",
      "state": {
       "_options_labels": [
        "BlackLivesMatter",
        "racism",
        "LGBT",
        "PoliceBrutality",
        "Diversity",
        "blacklivesmatter",
        "BlackLove",
        "LGBTQ",
        "BlackHistoryMonth",
        "BlackTwitter",
        "HumanRights",
        "blackexcellence",
        "BlackTwitterMovement",
        "police",
        "SayNoToRacism",
        "policebrutality",
        "Blacktwitter",
        "love",
        "BlackExcellence",
        "CHANGE",
        "Police",
        "Trump",
        "Africa",
        "racist",
        "TuesdayThoughts",
        "blackgirlsrock",
        "blackandproud",
        "women",
        "MondayMotivation",
        "blackhistorymonth",
        "black",
        "blackisbeautiful",
        "blackgirlmagic",
        "loveislove",
        "blacklove",
        "mondaythoughts",
        "TuesdayMotivation",
        "PoliceState",
        "girlpower",
        "FridayFeeling",
        "cops",
        "Sustainability",
        "BLM",
        "blacks",
        "blackhistory",
        "FridayThoughts",
        "ThursdayMotivation",
        "saynotoracism",
        "FridayMotivation",
        "WednesdayWisdom"
       ],
       "description": "Keywords",
       "index": [
        1
       ],
       "layout": "IPY_MODEL_b141009b15814debb18d220dbc6b0b1c",
       "rows": 10,
       "style": "IPY_MODEL_4b676dc7556d479e9ef8f8ce4ea6c335"
      }
     },
     "98a959f9d2d84709a45b13e18413168e": {
      "model_module": "@jupyter-widgets/controls",
      "model_module_version": "1.5.0",
      "model_name": "TextModel",
      "state": {
       "description": "Enter ID:",
       "layout": "IPY_MODEL_91a3367f80394ceeb6cfcc9a19688492",
       "style": "IPY_MODEL_c2080b040fae4897a6f32ebf8f824060",
       "value": "+dqWn63XKrwrFoWwXLd2+4J0ehNMZ5TIZ+6uhBMVGZE="
      }
     },
     "98f619b423854b38ad53de3ae315a634": {
      "model_module": "@jupyter-widgets/controls",
      "model_module_version": "1.5.0",
      "model_name": "DescriptionStyleModel",
      "state": {
       "description_width": ""
      }
     },
     "993572ec69c24711b7094d039ee746ac": {
      "model_module": "@jupyter-widgets/controls",
      "model_module_version": "1.5.0",
      "model_name": "SliderStyleModel",
      "state": {
       "description_width": ""
      }
     },
     "99a19443363444569d9e4142914cf956": {
      "model_module": "@jupyter-widgets/base",
      "model_module_version": "1.2.0",
      "model_name": "LayoutModel",
      "state": {}
     },
     "99d825a0dfd14b83a4cea080cac3e60d": {
      "model_module": "@jupyter-widgets/controls",
      "model_module_version": "1.5.0",
      "model_name": "DescriptionStyleModel",
      "state": {
       "description_width": ""
      }
     },
     "99e83c7846934d018a2bbf43082b0fbe": {
      "model_module": "@jupyter-widgets/controls",
      "model_module_version": "1.5.0",
      "model_name": "SelectMultipleModel",
      "state": {
       "_options_labels": [
        "BlackLivesMatter",
        "racism",
        "LGBT",
        "PoliceBrutality",
        "Diversity",
        "blacklivesmatter",
        "BlackLove",
        "LGBTQ",
        "BlackHistoryMonth",
        "BlackTwitter"
       ],
       "description": "Keywords",
       "index": [
        7
       ],
       "layout": "IPY_MODEL_754c732f55524b6587090be52d91c3e5",
       "rows": 10,
       "style": "IPY_MODEL_832cf5309cd04506b6acef6c21064903"
      }
     },
     "9a3c5bdca7d44f74a0b87f57c8aea06a": {
      "model_module": "@jupyter-widgets/controls",
      "model_module_version": "1.5.0",
      "model_name": "DescriptionStyleModel",
      "state": {
       "description_width": ""
      }
     },
     "9a5b4a6922f94052b094045a175ef356": {
      "model_module": "@jupyter-widgets/base",
      "model_module_version": "1.2.0",
      "model_name": "LayoutModel",
      "state": {}
     },
     "9a656158e75941e590efc47bca2c76c1": {
      "model_module": "@jupyter-widgets/base",
      "model_module_version": "1.2.0",
      "model_name": "LayoutModel",
      "state": {}
     },
     "9aaee31310f34e7d939076cee230bf14": {
      "model_module": "@jupyter-widgets/base",
      "model_module_version": "1.2.0",
      "model_name": "LayoutModel",
      "state": {}
     },
     "9b346248edee454092085bacb8b7ac1b": {
      "model_module": "@jupyter-widgets/base",
      "model_module_version": "1.2.0",
      "model_name": "LayoutModel",
      "state": {}
     },
     "9b6538c475c94559a256d1d1ef8cceb9": {
      "model_module": "@jupyter-widgets/controls",
      "model_module_version": "1.5.0",
      "model_name": "SelectMultipleModel",
      "state": {
       "_options_labels": [
        "BlackLivesMatter",
        "racism",
        "LGBT",
        "PoliceBrutality",
        "Diversity",
        "blacklivesmatter",
        "BlackLove",
        "LGBTQ",
        "BlackHistoryMonth",
        "BlackTwitter",
        "HumanRights",
        "blackexcellence",
        "BlackTwitterMovement",
        "police",
        "SayNoToRacism",
        "policebrutality",
        "Blacktwitter",
        "love",
        "BlackExcellence",
        "CHANGE",
        "Police",
        "Trump",
        "Africa",
        "racist",
        "TuesdayThoughts",
        "blackgirlsrock",
        "blackandproud",
        "women",
        "MondayMotivation",
        "blackhistorymonth",
        "black",
        "blackisbeautiful",
        "blackgirlmagic",
        "loveislove",
        "blacklove",
        "mondaythoughts",
        "TuesdayMotivation",
        "PoliceState",
        "girlpower",
        "FridayFeeling",
        "cops",
        "Sustainability",
        "BLM",
        "blacks",
        "blackhistory",
        "FridayThoughts",
        "ThursdayMotivation",
        "saynotoracism",
        "FridayMotivation",
        "WednesdayWisdom"
       ],
       "description": "Keywords",
       "index": [
        32
       ],
       "layout": "IPY_MODEL_9543e5a2e85f4a2f94069b21e27fed68",
       "rows": 10,
       "style": "IPY_MODEL_6f708f329297482591dde6730ea533d0"
      }
     },
     "9b998fdc84df4237a67026382782cd55": {
      "model_module": "@jupyter-widgets/controls",
      "model_module_version": "1.5.0",
      "model_name": "TextModel",
      "state": {
       "description": "Enter ID:",
       "layout": "IPY_MODEL_c985172a26374938b4687acd51aae2a9",
       "style": "IPY_MODEL_dc1f56df01b944579bca9f8d4f10151d"
      }
     },
     "9c512d4abdf54b5c8701f5603f0e337e": {
      "model_module": "@jupyter-widgets/controls",
      "model_module_version": "1.5.0",
      "model_name": "TextModel",
      "state": {
       "description": "Enter ID:",
       "layout": "IPY_MODEL_9a5b4a6922f94052b094045a175ef356",
       "style": "IPY_MODEL_a31c300168ee4bc485a9dabc9b0b48d8"
      }
     },
     "9d6b2192aee14df6927ea5728bab55e3": {
      "model_module": "@jupyter-widgets/base",
      "model_module_version": "1.2.0",
      "model_name": "LayoutModel",
      "state": {}
     },
     "9d7102beca0741eb9dd1530464695d47": {
      "model_module": "@jupyter-widgets/controls",
      "model_module_version": "1.5.0",
      "model_name": "DescriptionStyleModel",
      "state": {
       "description_width": ""
      }
     },
     "9dc40b7ff3b44477ba73b6d7d9b326ba": {
      "model_module": "@jupyter-widgets/base",
      "model_module_version": "1.2.0",
      "model_name": "LayoutModel",
      "state": {}
     },
     "9ebba7e54d164c9d820a861cfc7d5bbe": {
      "model_module": "@jupyter-widgets/controls",
      "model_module_version": "1.5.0",
      "model_name": "ButtonModel",
      "state": {
       "description": "Clear Output",
       "layout": "IPY_MODEL_4ae0c7e6bbf649d785efebaed4c6cb0d",
       "style": "IPY_MODEL_26f40736dbda414686c46291e1bdb337"
      }
     },
     "9f6ea889894c4966afb7e1d11f0499bf": {
      "model_module": "@jupyter-widgets/base",
      "model_module_version": "1.2.0",
      "model_name": "LayoutModel",
      "state": {}
     },
     "9f74595edb0e401d8b683c8cddb7ae34": {
      "model_module": "@jupyter-widgets/controls",
      "model_module_version": "1.5.0",
      "model_name": "TextModel",
      "state": {
       "description": "Hashtag:",
       "layout": "IPY_MODEL_fe9dc2a7e330491598e806fd8fe75904",
       "style": "IPY_MODEL_bf966327c08e47ffa0f337a074c103f4",
       "value": "blm"
      }
     },
     "9f982d4093084e3c9622cd09d7e66803": {
      "model_module": "@jupyter-widgets/base",
      "model_module_version": "1.2.0",
      "model_name": "LayoutModel",
      "state": {}
     },
     "a008c834ee4043329ddcca3a9a097481": {
      "model_module": "@jupyter-widgets/controls",
      "model_module_version": "1.5.0",
      "model_name": "DescriptionStyleModel",
      "state": {
       "description_width": ""
      }
     },
     "a127c8eb84c4497bba2c376b7d7cbc8e": {
      "model_module": "@jupyter-widgets/base",
      "model_module_version": "1.2.0",
      "model_name": "LayoutModel",
      "state": {}
     },
     "a14278e906fe43a69df86cfe2635b8c4": {
      "model_module": "@jupyter-widgets/base",
      "model_module_version": "1.2.0",
      "model_name": "LayoutModel",
      "state": {}
     },
     "a162862f75d347caadcb836cc9749bf5": {
      "model_module": "@jupyter-widgets/base",
      "model_module_version": "1.2.0",
      "model_name": "LayoutModel",
      "state": {}
     },
     "a1fd70b725034fca886c1fa12471981a": {
      "model_module": "@jupyter-widgets/controls",
      "model_module_version": "1.5.0",
      "model_name": "IntRangeSliderModel",
      "state": {
       "_model_name": "IntRangeSliderModel",
       "_view_name": "IntRangeSliderView",
       "continuous_update": false,
       "description": "Range:",
       "layout": "IPY_MODEL_db5d07c771254910b05b0fa3514e7d59",
       "max": 10,
       "style": "IPY_MODEL_5f88b22c3f92467794ec97b5ce5d7a19",
       "value": [
        0,
        10
       ]
      }
     },
     "a27a6a5ff94b4bd4bb305fd6643b1cae": {
      "model_module": "@jupyter-widgets/base",
      "model_module_version": "1.2.0",
      "model_name": "LayoutModel",
      "state": {}
     },
     "a29ada3ac20c4e98be602ab60dcbf859": {
      "model_module": "@jupyter-widgets/base",
      "model_module_version": "1.2.0",
      "model_name": "LayoutModel",
      "state": {}
     },
     "a2c185edd68543a993e25693acea9f68": {
      "model_module": "@jupyter-widgets/controls",
      "model_module_version": "1.5.0",
      "model_name": "ButtonModel",
      "state": {
       "description": "Clear Output",
       "layout": "IPY_MODEL_a4dffeb9d6c840279287bb85e22182ab",
       "style": "IPY_MODEL_411bb69cd0c748198ea03c791f85d78c"
      }
     },
     "a2fefbc6844f4ec59ad02237fe4eb226": {
      "model_module": "@jupyter-widgets/base",
      "model_module_version": "1.2.0",
      "model_name": "LayoutModel",
      "state": {}
     },
     "a31c300168ee4bc485a9dabc9b0b48d8": {
      "model_module": "@jupyter-widgets/controls",
      "model_module_version": "1.5.0",
      "model_name": "DescriptionStyleModel",
      "state": {
       "description_width": ""
      }
     },
     "a34148bf1f5646c7beba2a196b6080ab": {
      "model_module": "@jupyter-widgets/controls",
      "model_module_version": "1.5.0",
      "model_name": "TextModel",
      "state": {
       "description": "Hashtag:",
       "layout": "IPY_MODEL_8f033abe0040461a928400b0baa9bbd6",
       "style": "IPY_MODEL_a6f411b47bdd4c7b87f22add508eb439",
       "value": "blm"
      }
     },
     "a3707222e9f84dd7b42c59af9115aa04": {
      "model_module": "@jupyter-widgets/controls",
      "model_module_version": "1.5.0",
      "model_name": "DescriptionStyleModel",
      "state": {
       "description_width": ""
      }
     },
     "a3999a21b9094dbba3ac46fcb0b40f41": {
      "model_module": "@jupyter-widgets/controls",
      "model_module_version": "1.5.0",
      "model_name": "DescriptionStyleModel",
      "state": {
       "description_width": ""
      }
     },
     "a405a5ea911b47cfa9b0fa02485accb7": {
      "model_module": "@jupyter-widgets/controls",
      "model_module_version": "1.5.0",
      "model_name": "DescriptionStyleModel",
      "state": {
       "description_width": ""
      }
     },
     "a474e92a07a741d3ad6098f04948b23f": {
      "model_module": "@jupyter-widgets/controls",
      "model_module_version": "1.5.0",
      "model_name": "SliderStyleModel",
      "state": {
       "description_width": ""
      }
     },
     "a48c0de4ba374ffb8efe335c4e9e27af": {
      "model_module": "@jupyter-widgets/base",
      "model_module_version": "1.2.0",
      "model_name": "LayoutModel",
      "state": {}
     },
     "a4dffeb9d6c840279287bb85e22182ab": {
      "model_module": "@jupyter-widgets/base",
      "model_module_version": "1.2.0",
      "model_name": "LayoutModel",
      "state": {}
     },
     "a54d57f6ce7a410491efe80b27a9373c": {
      "model_module": "@jupyter-widgets/controls",
      "model_module_version": "1.5.0",
      "model_name": "TextModel",
      "state": {
       "description": "Enter ID:",
       "layout": "IPY_MODEL_2d52291e8e9d420ab749e75f51e177f0",
       "style": "IPY_MODEL_84cc95673acd4e5f84ed93074bac86f5",
       "value": "iterrows"
      }
     },
     "a5bbd3bb23ab49008f02c820b522db31": {
      "model_module": "@jupyter-widgets/controls",
      "model_module_version": "1.5.0",
      "model_name": "ButtonStyleModel",
      "state": {}
     },
     "a5dd8d083f734ebd8b09de800cfebdd6": {
      "model_module": "@jupyter-widgets/base",
      "model_module_version": "1.2.0",
      "model_name": "LayoutModel",
      "state": {}
     },
     "a6ba11052e5f44ba81e794aeb0189228": {
      "model_module": "@jupyter-widgets/controls",
      "model_module_version": "1.5.0",
      "model_name": "IntRangeSliderModel",
      "state": {
       "_model_name": "IntRangeSliderModel",
       "_view_name": "IntRangeSliderView",
       "continuous_update": false,
       "description": "Range:",
       "layout": "IPY_MODEL_7e4867a791c2400ab93d05a7fcb6018a",
       "max": 10,
       "style": "IPY_MODEL_813db2cb4fad400eab0e6cdc580a43fd",
       "value": [
        0,
        10
       ]
      }
     },
     "a6cebc6a5097496d8325420018e4ddde": {
      "model_module": "@jupyter-widgets/controls",
      "model_module_version": "1.5.0",
      "model_name": "ButtonStyleModel",
      "state": {}
     },
     "a6f411b47bdd4c7b87f22add508eb439": {
      "model_module": "@jupyter-widgets/controls",
      "model_module_version": "1.5.0",
      "model_name": "DescriptionStyleModel",
      "state": {
       "description_width": ""
      }
     },
     "a6fabc0b98a748dea4dc97b9a30f7a8d": {
      "model_module": "@jupyter-widgets/base",
      "model_module_version": "1.2.0",
      "model_name": "LayoutModel",
      "state": {}
     },
     "a74bd52da94a408494fd9afd3aa4cb61": {
      "model_module": "@jupyter-widgets/controls",
      "model_module_version": "1.5.0",
      "model_name": "IntRangeSliderModel",
      "state": {
       "_model_name": "IntRangeSliderModel",
       "_view_name": "IntRangeSliderView",
       "continuous_update": false,
       "description": "Range:",
       "layout": "IPY_MODEL_c475659fff5f45049649595104012311",
       "max": 10,
       "style": "IPY_MODEL_5f7d6dcd1da74dc3804130b4ab595d8d",
       "value": [
        0,
        10
       ]
      }
     },
     "a81818010ba046188a7df828bbc4edb5": {
      "model_module": "@jupyter-widgets/controls",
      "model_module_version": "1.5.0",
      "model_name": "DescriptionStyleModel",
      "state": {
       "description_width": ""
      }
     },
     "a82276768d9a45e39e7544c8afdbc251": {
      "model_module": "@jupyter-widgets/controls",
      "model_module_version": "1.5.0",
      "model_name": "IntRangeSliderModel",
      "state": {
       "_model_name": "IntRangeSliderModel",
       "_view_name": "IntRangeSliderView",
       "continuous_update": false,
       "description": "Range:",
       "layout": "IPY_MODEL_41784a453aba4b709dde1d32d2fba8b6",
       "max": 10,
       "style": "IPY_MODEL_b134c51243df4e78b82472c86eb77b72",
       "value": [
        0,
        10
       ]
      }
     },
     "a88c3e75feb64f0389f02afe9b662071": {
      "model_module": "@jupyter-widgets/controls",
      "model_module_version": "1.5.0",
      "model_name": "DescriptionStyleModel",
      "state": {
       "description_width": ""
      }
     },
     "a9136dbe876f48fc9e2b5f9710c626db": {
      "model_module": "@jupyter-widgets/controls",
      "model_module_version": "1.5.0",
      "model_name": "DescriptionStyleModel",
      "state": {
       "description_width": ""
      }
     },
     "a95e25e288d94b7b9bfae5d5aaf1f907": {
      "model_module": "@jupyter-widgets/controls",
      "model_module_version": "1.5.0",
      "model_name": "IntRangeSliderModel",
      "state": {
       "_model_name": "IntRangeSliderModel",
       "_view_name": "IntRangeSliderView",
       "continuous_update": false,
       "description": "Range:",
       "layout": "IPY_MODEL_c7fd50157ebf4936867c7b889b8d0e9b",
       "max": 10,
       "style": "IPY_MODEL_b27d8939132e417bbee9887774a63a93",
       "value": [
        0,
        10
       ]
      }
     },
     "aa582b596ac049e589ed2bb9f61b1ace": {
      "model_module": "@jupyter-widgets/controls",
      "model_module_version": "1.5.0",
      "model_name": "IntRangeSliderModel",
      "state": {
       "_model_name": "IntRangeSliderModel",
       "_view_name": "IntRangeSliderView",
       "continuous_update": false,
       "description": "Range:",
       "layout": "IPY_MODEL_2b48bd84b5e04e20b9a906a585856333",
       "max": 50,
       "style": "IPY_MODEL_27d5c4bcdf5849fb95888f543dc4752d",
       "value": [
        0,
        15
       ]
      }
     },
     "aa6cdc1539b54a28b2b6753d15d5fd10": {
      "model_module": "@jupyter-widgets/controls",
      "model_module_version": "1.5.0",
      "model_name": "ButtonStyleModel",
      "state": {}
     },
     "aad852161ad941cbb58ef5d88d9deabb": {
      "model_module": "@jupyter-widgets/base",
      "model_module_version": "1.2.0",
      "model_name": "LayoutModel",
      "state": {}
     },
     "ab4e50e302f644a4bd9bde258afce86b": {
      "model_module": "@jupyter-widgets/base",
      "model_module_version": "1.2.0",
      "model_name": "LayoutModel",
      "state": {}
     },
     "abcc8667872340a498a6d95ceec420a6": {
      "model_module": "@jupyter-widgets/controls",
      "model_module_version": "1.5.0",
      "model_name": "DescriptionStyleModel",
      "state": {
       "description_width": ""
      }
     },
     "ac2d2222378e49ad94843ece65405935": {
      "model_module": "@jupyter-widgets/controls",
      "model_module_version": "1.5.0",
      "model_name": "DescriptionStyleModel",
      "state": {
       "description_width": ""
      }
     },
     "ac6e5188c34b4302a96c7aa8dfd7c716": {
      "model_module": "@jupyter-widgets/base",
      "model_module_version": "1.2.0",
      "model_name": "LayoutModel",
      "state": {}
     },
     "adff90f587464ef187992cc2f89c8dc8": {
      "model_module": "@jupyter-widgets/controls",
      "model_module_version": "1.5.0",
      "model_name": "DescriptionStyleModel",
      "state": {
       "description_width": ""
      }
     },
     "ae17c9ea0d294f608455ebac7e9e96f4": {
      "model_module": "@jupyter-widgets/controls",
      "model_module_version": "1.5.0",
      "model_name": "IntRangeSliderModel",
      "state": {
       "_model_name": "IntRangeSliderModel",
       "_view_name": "IntRangeSliderView",
       "continuous_update": false,
       "description": "Range:",
       "layout": "IPY_MODEL_21fbed8eb8934eb4aaf5791b0ef5e027",
       "max": 10,
       "style": "IPY_MODEL_8822ad7bb4ec43479f4bdcbe3e4ff427",
       "value": [
        0,
        10
       ]
      }
     },
     "aeac400082a14eb3b32c022497875a47": {
      "model_module": "@jupyter-widgets/controls",
      "model_module_version": "1.5.0",
      "model_name": "DescriptionStyleModel",
      "state": {
       "description_width": ""
      }
     },
     "afc3f4f3ce8548d8ba8515ca61cca3db": {
      "model_module": "@jupyter-widgets/controls",
      "model_module_version": "1.5.0",
      "model_name": "DescriptionStyleModel",
      "state": {
       "description_width": ""
      }
     },
     "b02ffcefadc74da9bebd76db1d61054e": {
      "model_module": "@jupyter-widgets/base",
      "model_module_version": "1.2.0",
      "model_name": "LayoutModel",
      "state": {}
     },
     "b082c8d5ab214a2fac78f75d873bee32": {
      "model_module": "@jupyter-widgets/controls",
      "model_module_version": "1.5.0",
      "model_name": "ButtonModel",
      "state": {
       "description": "Clear Output",
       "layout": "IPY_MODEL_a27a6a5ff94b4bd4bb305fd6643b1cae",
       "style": "IPY_MODEL_e34589ef6fa74be0bdc1c9f3b4d460d8"
      }
     },
     "b0b50775a2ff4a87a5484aca729a3984": {
      "model_module": "@jupyter-widgets/controls",
      "model_module_version": "1.5.0",
      "model_name": "SelectMultipleModel",
      "state": {
       "_options_labels": [
        "BlackLivesMatter",
        "racism",
        "LGBT",
        "PoliceBrutality",
        "Diversity",
        "blacklivesmatter",
        "BlackLove",
        "LGBTQ",
        "BlackHistoryMonth",
        "BlackTwitter"
       ],
       "description": "Keywords",
       "index": [
        1
       ],
       "layout": "IPY_MODEL_273b1aa577a546aaa1b28a023ec8f827",
       "rows": 10,
       "style": "IPY_MODEL_2ebb484d75f14531b31a12d9440c13d0"
      }
     },
     "b0b6e79bcb1c4667a21840341b120767": {
      "model_module": "@jupyter-widgets/controls",
      "model_module_version": "1.5.0",
      "model_name": "TextModel",
      "state": {
       "description": "Enter ID:",
       "layout": "IPY_MODEL_02e454a8bf3f435fb063227ef3985337",
       "style": "IPY_MODEL_57ca3acc9ee342369f25050240f10318",
       "value": "0biUYz0EYY+ffddjSD8tf7+drN978R+BsJ84PRzqqI="
      }
     },
     "b0e8d523ae724df78a1f0e2f861efbc9": {
      "model_module": "@jupyter-widgets/base",
      "model_module_version": "1.2.0",
      "model_name": "LayoutModel",
      "state": {}
     },
     "b134c51243df4e78b82472c86eb77b72": {
      "model_module": "@jupyter-widgets/controls",
      "model_module_version": "1.5.0",
      "model_name": "SliderStyleModel",
      "state": {
       "description_width": ""
      }
     },
     "b141009b15814debb18d220dbc6b0b1c": {
      "model_module": "@jupyter-widgets/base",
      "model_module_version": "1.2.0",
      "model_name": "LayoutModel",
      "state": {}
     },
     "b1e0ff5ada804b0ab4f60a2f3eb60388": {
      "model_module": "@jupyter-widgets/controls",
      "model_module_version": "1.5.0",
      "model_name": "SliderStyleModel",
      "state": {
       "description_width": ""
      }
     },
     "b1f8bb307dbb49b8b91f8bbc3527ab1e": {
      "model_module": "@jupyter-widgets/controls",
      "model_module_version": "1.5.0",
      "model_name": "TextModel",
      "state": {
       "description": "Enter ID:",
       "layout": "IPY_MODEL_9b346248edee454092085bacb8b7ac1b",
       "style": "IPY_MODEL_70ea67d4dceb4109b7575b03993c5034",
       "value": "0biUYz0EYY+ffddjSD8tf7+drN978R+BsJ84PRzqqI="
      }
     },
     "b27d8939132e417bbee9887774a63a93": {
      "model_module": "@jupyter-widgets/controls",
      "model_module_version": "1.5.0",
      "model_name": "SliderStyleModel",
      "state": {
       "description_width": ""
      }
     },
     "b391dc8a38174205852d3abf466286d5": {
      "model_module": "@jupyter-widgets/base",
      "model_module_version": "1.2.0",
      "model_name": "LayoutModel",
      "state": {}
     },
     "b48ee8dc107d44a8ab1eff0131d8eb8f": {
      "model_module": "@jupyter-widgets/base",
      "model_module_version": "1.2.0",
      "model_name": "LayoutModel",
      "state": {}
     },
     "b49f507287e14e408ab721afddaf27b7": {
      "model_module": "@jupyter-widgets/controls",
      "model_module_version": "1.5.0",
      "model_name": "IntRangeSliderModel",
      "state": {
       "_model_name": "IntRangeSliderModel",
       "_view_name": "IntRangeSliderView",
       "continuous_update": false,
       "description": "Range:",
       "layout": "IPY_MODEL_03de69ae54eb40bd92580e12d90dd4a6",
       "max": 10,
       "style": "IPY_MODEL_772a9bf4255b41dc853f54fc4d0c69a4",
       "value": [
        0,
        10
       ]
      }
     },
     "b4d0204ac5944a33946a61a35a627829": {
      "model_module": "@jupyter-widgets/base",
      "model_module_version": "1.2.0",
      "model_name": "LayoutModel",
      "state": {}
     },
     "b68ccb2b51ae4c65a8759cc89e41eb15": {
      "model_module": "@jupyter-widgets/base",
      "model_module_version": "1.2.0",
      "model_name": "LayoutModel",
      "state": {}
     },
     "b6b545c0f45e44a180ebd23afd8553d5": {
      "model_module": "@jupyter-widgets/base",
      "model_module_version": "1.2.0",
      "model_name": "LayoutModel",
      "state": {}
     },
     "b713db3effbb46898396e30d9027030f": {
      "model_module": "@jupyter-widgets/base",
      "model_module_version": "1.2.0",
      "model_name": "LayoutModel",
      "state": {}
     },
     "b7559118bff84c44bb7e8594797663cf": {
      "model_module": "@jupyter-widgets/controls",
      "model_module_version": "1.5.0",
      "model_name": "ButtonModel",
      "state": {
       "description": "Clear Output",
       "layout": "IPY_MODEL_d64b40fa1a2d4fd5bff1953325ede397",
       "style": "IPY_MODEL_1d81913cf53842529aa6de363feb82f9"
      }
     },
     "b763adb4db79449bac90733d98f60a3b": {
      "model_module": "@jupyter-widgets/controls",
      "model_module_version": "1.5.0",
      "model_name": "IntRangeSliderModel",
      "state": {
       "_model_name": "IntRangeSliderModel",
       "_view_name": "IntRangeSliderView",
       "continuous_update": false,
       "description": "Range:",
       "layout": "IPY_MODEL_7939ed5dac2b410f9a09523a885b877c",
       "max": 10,
       "style": "IPY_MODEL_1b3e45b7fb2c4d71af38f035057f5881",
       "value": [
        0,
        10
       ]
      }
     },
     "b9638ba520c44f73b8258c293dff0f1e": {
      "model_module": "@jupyter-widgets/controls",
      "model_module_version": "1.5.0",
      "model_name": "TextModel",
      "state": {
       "description": "Enter ID:",
       "layout": "IPY_MODEL_7d8931cd2e3b4a27b43664386c51c885",
       "style": "IPY_MODEL_e02744fc253242a8a37a740417d2b3bb",
       "value": "+dqWn63XKrwrFoWwXLd2+4J0ehNMZ5TIZ+6uhBMVGZE="
      }
     },
     "b96f5df204874218883bc56a46516249": {
      "model_module": "@jupyter-widgets/base",
      "model_module_version": "1.2.0",
      "model_name": "LayoutModel",
      "state": {}
     },
     "ba01bd7e618143b98e0936d1288aae8b": {
      "model_module": "@jupyter-widgets/controls",
      "model_module_version": "1.5.0",
      "model_name": "DescriptionStyleModel",
      "state": {
       "description_width": ""
      }
     },
     "ba637a052b6f458da13a44f285126b50": {
      "model_module": "@jupyter-widgets/controls",
      "model_module_version": "1.5.0",
      "model_name": "DescriptionStyleModel",
      "state": {
       "description_width": ""
      }
     },
     "ba70cfb3f0c348ef841f090c94a11359": {
      "model_module": "@jupyter-widgets/controls",
      "model_module_version": "1.5.0",
      "model_name": "SliderStyleModel",
      "state": {
       "description_width": ""
      }
     },
     "baa66af6efda4471b904149307570cfe": {
      "model_module": "@jupyter-widgets/controls",
      "model_module_version": "1.5.0",
      "model_name": "SelectMultipleModel",
      "state": {
       "_options_labels": [
        "BlackLivesMatter",
        "racism",
        "LGBT",
        "PoliceBrutality",
        "Diversity",
        "blacklivesmatter",
        "BlackLove",
        "LGBTQ",
        "BlackHistoryMonth",
        "BlackTwitter"
       ],
       "description": "Keywords",
       "index": [
        4
       ],
       "layout": "IPY_MODEL_ca5fff98bfd84215814e0fe289a2bb11",
       "rows": 10,
       "style": "IPY_MODEL_676bce89d1d04f23b4c985321849a551"
      }
     },
     "bd0faeedc68c41159d12c293c967a304": {
      "model_module": "@jupyter-widgets/controls",
      "model_module_version": "1.5.0",
      "model_name": "DescriptionStyleModel",
      "state": {
       "description_width": ""
      }
     },
     "bd60cedf57e643abbd891c137520199e": {
      "model_module": "@jupyter-widgets/controls",
      "model_module_version": "1.5.0",
      "model_name": "TextModel",
      "state": {
       "description": "Hashtag:",
       "layout": "IPY_MODEL_e8211962bdea4ab680094f1f0264a419",
       "style": "IPY_MODEL_c7b3f6804fe54cf2b3b6b20d01bb8e24",
       "value": "ABBA"
      }
     },
     "be0dad718bf4482c9a5902d03a180ac4": {
      "model_module": "@jupyter-widgets/controls",
      "model_module_version": "1.5.0",
      "model_name": "SelectMultipleModel",
      "state": {
       "_options_labels": [
        "BlackLivesMatter",
        "racism",
        "LGBT",
        "PoliceBrutality",
        "Diversity",
        "blacklivesmatter",
        "BlackLove",
        "LGBTQ",
        "BlackHistoryMonth",
        "BlackTwitter"
       ],
       "description": "Keywords",
       "index": [
        1
       ],
       "layout": "IPY_MODEL_5161f9561fba4fa1bf68eeb905666289",
       "rows": 10,
       "style": "IPY_MODEL_7afb16ed5a9643b2b1da4860d40e8e5c"
      }
     },
     "be33c4fdea0e4b669bcd9350e2a3a501": {
      "model_module": "@jupyter-widgets/controls",
      "model_module_version": "1.5.0",
      "model_name": "DescriptionStyleModel",
      "state": {
       "description_width": ""
      }
     },
     "be43386e13cd406c83de3fdbde7b5497": {
      "model_module": "@jupyter-widgets/controls",
      "model_module_version": "1.5.0",
      "model_name": "SliderStyleModel",
      "state": {
       "description_width": ""
      }
     },
     "be7cc5c229ef4581805ed2706839801e": {
      "model_module": "@jupyter-widgets/controls",
      "model_module_version": "1.5.0",
      "model_name": "DescriptionStyleModel",
      "state": {
       "description_width": ""
      }
     },
     "be911a404d7749bd97023fbc942dda79": {
      "model_module": "@jupyter-widgets/controls",
      "model_module_version": "1.5.0",
      "model_name": "SliderStyleModel",
      "state": {
       "description_width": ""
      }
     },
     "bec8efab80f54bd0a01232738268895b": {
      "model_module": "@jupyter-widgets/controls",
      "model_module_version": "1.5.0",
      "model_name": "SliderStyleModel",
      "state": {
       "description_width": ""
      }
     },
     "bf966327c08e47ffa0f337a074c103f4": {
      "model_module": "@jupyter-widgets/controls",
      "model_module_version": "1.5.0",
      "model_name": "DescriptionStyleModel",
      "state": {
       "description_width": ""
      }
     },
     "c005fc9f1fab48f7833b846b4a08a8d3": {
      "model_module": "@jupyter-widgets/controls",
      "model_module_version": "1.5.0",
      "model_name": "DescriptionStyleModel",
      "state": {
       "description_width": ""
      }
     },
     "c03140c484e94154b8337c76ad19ef19": {
      "model_module": "@jupyter-widgets/controls",
      "model_module_version": "1.5.0",
      "model_name": "IntRangeSliderModel",
      "state": {
       "_model_name": "IntRangeSliderModel",
       "_view_name": "IntRangeSliderView",
       "continuous_update": false,
       "description": "Range:",
       "layout": "IPY_MODEL_ffb232e2b667482e8973196061985610",
       "max": 10,
       "style": "IPY_MODEL_2df3db36e9e24073816e22df083a9385",
       "value": [
        0,
        10
       ]
      }
     },
     "c0edb97ba2744adbab75a7dd6775e431": {
      "model_module": "@jupyter-widgets/controls",
      "model_module_version": "1.5.0",
      "model_name": "IntRangeSliderModel",
      "state": {
       "_model_name": "IntRangeSliderModel",
       "_view_name": "IntRangeSliderView",
       "continuous_update": false,
       "description": "Range:",
       "layout": "IPY_MODEL_dbec9d32d56140c1bdc145cc194e2fd7",
       "max": 10,
       "style": "IPY_MODEL_5ba6c6ad6cfa48299ee83c4f12d0d52f",
       "value": [
        0,
        10
       ]
      }
     },
     "c1018a7545b34d159cd0087cb0fe2460": {
      "model_module": "@jupyter-widgets/controls",
      "model_module_version": "1.5.0",
      "model_name": "TextModel",
      "state": {
       "description": "Enter ID:",
       "layout": "IPY_MODEL_494b22fda27e49719248f925d34ce832",
       "style": "IPY_MODEL_c994ab94a9284ac4aec57d1c7fd16410",
       "value": "PvMtU8hSwydfwGdw7yuVC5yBPXjIE7+pZi0m0X7UtQ="
      }
     },
     "c1663f0144c04c90bf7a7ce31045206b": {
      "model_module": "@jupyter-widgets/base",
      "model_module_version": "1.2.0",
      "model_name": "LayoutModel",
      "state": {}
     },
     "c2080b040fae4897a6f32ebf8f824060": {
      "model_module": "@jupyter-widgets/controls",
      "model_module_version": "1.5.0",
      "model_name": "DescriptionStyleModel",
      "state": {
       "description_width": ""
      }
     },
     "c307eb47a931462ea58811133da386fb": {
      "model_module": "@jupyter-widgets/controls",
      "model_module_version": "1.5.0",
      "model_name": "ButtonStyleModel",
      "state": {}
     },
     "c458058493c84c9493647cd1bd5f7716": {
      "model_module": "@jupyter-widgets/controls",
      "model_module_version": "1.5.0",
      "model_name": "DescriptionStyleModel",
      "state": {
       "description_width": ""
      }
     },
     "c475659fff5f45049649595104012311": {
      "model_module": "@jupyter-widgets/base",
      "model_module_version": "1.2.0",
      "model_name": "LayoutModel",
      "state": {}
     },
     "c4c75baa6734411db53c129971bcc684": {
      "model_module": "@jupyter-widgets/base",
      "model_module_version": "1.2.0",
      "model_name": "LayoutModel",
      "state": {}
     },
     "c689de6fcf904bf79db41abdaa6388ff": {
      "model_module": "@jupyter-widgets/controls",
      "model_module_version": "1.5.0",
      "model_name": "TextModel",
      "state": {
       "description": "Enter ID:",
       "layout": "IPY_MODEL_6113150a6ef6481db5f90a8add05eb80",
       "style": "IPY_MODEL_27ae967845524daeb608e1598790ae50",
       "value": "+dqWn63XKrwrFoWwXLd2+4J0ehNMZ5TIZ+6uhBMVGZE="
      }
     },
     "c6fec024d2af49c1b405704f56fa202b": {
      "model_module": "@jupyter-widgets/controls",
      "model_module_version": "1.5.0",
      "model_name": "ButtonModel",
      "state": {
       "description": "Clear Output",
       "layout": "IPY_MODEL_da2c380f41c04237a46e79ac2faf4a97",
       "style": "IPY_MODEL_7bf7d2e0370d4522a7d16c04a6de2d14"
      }
     },
     "c74f3cc0d7604722a293acea4283fa63": {
      "model_module": "@jupyter-widgets/base",
      "model_module_version": "1.2.0",
      "model_name": "LayoutModel",
      "state": {}
     },
     "c7b3f6804fe54cf2b3b6b20d01bb8e24": {
      "model_module": "@jupyter-widgets/controls",
      "model_module_version": "1.5.0",
      "model_name": "DescriptionStyleModel",
      "state": {
       "description_width": ""
      }
     },
     "c7fcba309e96418ebc6287eb4334f1f4": {
      "model_module": "@jupyter-widgets/controls",
      "model_module_version": "1.5.0",
      "model_name": "TextModel",
      "state": {
       "description": "Hashtag:",
       "layout": "IPY_MODEL_688dd75edfc1421e91728fc2505e4990",
       "style": "IPY_MODEL_4e8c4a6e82f54332b96baa8866ab0b75",
       "value": "BLM"
      }
     },
     "c7fd50157ebf4936867c7b889b8d0e9b": {
      "model_module": "@jupyter-widgets/base",
      "model_module_version": "1.2.0",
      "model_name": "LayoutModel",
      "state": {}
     },
     "c803e859c97545ceb9e8b61c66c41d9f": {
      "model_module": "@jupyter-widgets/base",
      "model_module_version": "1.2.0",
      "model_name": "LayoutModel",
      "state": {}
     },
     "c878c394649d46188fe0c5e4261d4da2": {
      "model_module": "@jupyter-widgets/base",
      "model_module_version": "1.2.0",
      "model_name": "LayoutModel",
      "state": {}
     },
     "c974abe8a5244f83a11c20f1bebb2c44": {
      "model_module": "@jupyter-widgets/controls",
      "model_module_version": "1.5.0",
      "model_name": "TextModel",
      "state": {
       "description": "Hashtag:",
       "layout": "IPY_MODEL_ff53ea8b97eb47daa6a4ed0a3423ba6e",
       "style": "IPY_MODEL_1ac7a1cbb6b444839a53839629a6e195",
       "value": "blm"
      }
     },
     "c985172a26374938b4687acd51aae2a9": {
      "model_module": "@jupyter-widgets/base",
      "model_module_version": "1.2.0",
      "model_name": "LayoutModel",
      "state": {}
     },
     "c994ab94a9284ac4aec57d1c7fd16410": {
      "model_module": "@jupyter-widgets/controls",
      "model_module_version": "1.5.0",
      "model_name": "DescriptionStyleModel",
      "state": {
       "description_width": ""
      }
     },
     "c9b2c10b1f2b4ddf9817c54e61456fe7": {
      "model_module": "@jupyter-widgets/controls",
      "model_module_version": "1.5.0",
      "model_name": "ButtonModel",
      "state": {
       "description": "Clear Output",
       "layout": "IPY_MODEL_cc84860f71b347378bd4fad545d32ffb",
       "style": "IPY_MODEL_f04460369b2440b4bb3e24c02a8fbf6a"
      }
     },
     "ca5fff98bfd84215814e0fe289a2bb11": {
      "model_module": "@jupyter-widgets/base",
      "model_module_version": "1.2.0",
      "model_name": "LayoutModel",
      "state": {}
     },
     "ca73c65a51eb40a9952c1be89a2640c4": {
      "model_module": "@jupyter-widgets/controls",
      "model_module_version": "1.5.0",
      "model_name": "TextModel",
      "state": {
       "description": "Enter ID:",
       "layout": "IPY_MODEL_07da63dfd1b94b4680aaf3b31e39f7f3",
       "style": "IPY_MODEL_c005fc9f1fab48f7833b846b4a08a8d3",
       "value": "0biUYz0EYY+ffddjSD8tf7+drN978R+BsJ84PRzqqI="
      }
     },
     "cc0d714e990b4869bd7a18b247084a58": {
      "model_module": "@jupyter-widgets/controls",
      "model_module_version": "1.5.0",
      "model_name": "IntRangeSliderModel",
      "state": {
       "_model_name": "IntRangeSliderModel",
       "_view_name": "IntRangeSliderView",
       "continuous_update": false,
       "description": "Range:",
       "layout": "IPY_MODEL_699119e4dbd94179a67c58e1a477ee63",
       "max": 10,
       "style": "IPY_MODEL_3348459f206743c7a59e3f4c87f17b06",
       "value": [
        0,
        10
       ]
      }
     },
     "cc6aa767ef1449bc979834d6e4da0a76": {
      "model_module": "@jupyter-widgets/base",
      "model_module_version": "1.2.0",
      "model_name": "LayoutModel",
      "state": {}
     },
     "cc84860f71b347378bd4fad545d32ffb": {
      "model_module": "@jupyter-widgets/base",
      "model_module_version": "1.2.0",
      "model_name": "LayoutModel",
      "state": {}
     },
     "d106dc610622432e9ad0ee882e2f83bb": {
      "model_module": "@jupyter-widgets/controls",
      "model_module_version": "1.5.0",
      "model_name": "DescriptionStyleModel",
      "state": {
       "description_width": ""
      }
     },
     "d1b39098414a4a6398d884ba4f4cb7e1": {
      "model_module": "@jupyter-widgets/controls",
      "model_module_version": "1.5.0",
      "model_name": "ButtonModel",
      "state": {
       "description": "Clear Output",
       "layout": "IPY_MODEL_09bd8e9165554d30941f1a8d97a1e4da",
       "style": "IPY_MODEL_e78a135968774269a3d0d78403660f41"
      }
     },
     "d2730638c9264fb3a36341aa27be3c0c": {
      "model_module": "@jupyter-widgets/controls",
      "model_module_version": "1.5.0",
      "model_name": "ButtonStyleModel",
      "state": {}
     },
     "d35601d4dad34d58873093f35ee21425": {
      "model_module": "@jupyter-widgets/base",
      "model_module_version": "1.2.0",
      "model_name": "LayoutModel",
      "state": {}
     },
     "d3b07721fbb14220a206961df1c3d818": {
      "model_module": "@jupyter-widgets/base",
      "model_module_version": "1.2.0",
      "model_name": "LayoutModel",
      "state": {}
     },
     "d416496a89404184bbbbaf035347c805": {
      "model_module": "@jupyter-widgets/base",
      "model_module_version": "1.2.0",
      "model_name": "LayoutModel",
      "state": {}
     },
     "d4d95a76b3f14994a5a39f6d22e2c8c8": {
      "model_module": "@jupyter-widgets/base",
      "model_module_version": "1.2.0",
      "model_name": "LayoutModel",
      "state": {}
     },
     "d630f72f09ca482ba5cd54343e31e031": {
      "model_module": "@jupyter-widgets/controls",
      "model_module_version": "1.5.0",
      "model_name": "ButtonStyleModel",
      "state": {}
     },
     "d64b40fa1a2d4fd5bff1953325ede397": {
      "model_module": "@jupyter-widgets/base",
      "model_module_version": "1.2.0",
      "model_name": "LayoutModel",
      "state": {}
     },
     "d6c9f080c40241c28f95a1b9ac607ec4": {
      "model_module": "@jupyter-widgets/controls",
      "model_module_version": "1.5.0",
      "model_name": "ButtonStyleModel",
      "state": {}
     },
     "d6df7848d5f648deb3ceef1345efcfa4": {
      "model_module": "@jupyter-widgets/base",
      "model_module_version": "1.2.0",
      "model_name": "LayoutModel",
      "state": {}
     },
     "d6fc3bc468ba49efb2d65529f9b02670": {
      "model_module": "@jupyter-widgets/controls",
      "model_module_version": "1.5.0",
      "model_name": "SelectMultipleModel",
      "state": {
       "_options_labels": [
        "tweetid",
        "userid",
        "user_display_name",
        "user_screen_name",
        "user_reported_location",
        "user_profile_description",
        "user_profile_url",
        "follower_count",
        "following_count",
        "account_creation_date",
        "account_language",
        "tweet_language",
        "tweet_text",
        "tweet_time",
        "tweet_client_name",
        "in_reply_to_userid",
        "in_reply_to_tweetid",
        "quoted_tweet_tweetid",
        "is_retweet",
        "retweet_userid",
        "retweet_tweetid",
        "latitude",
        "longitude",
        "quote_count",
        "reply_count",
        "like_count",
        "retweet_count",
        "hashtags",
        "urls",
        "user_mentions",
        "poll_choices"
       ],
       "description": "Keywords",
       "index": [
        0
       ],
       "layout": "IPY_MODEL_f3bc861318e84a26b836c4ec85168082",
       "rows": 10,
       "style": "IPY_MODEL_d90cc66809d749a6bf6b109df5f18034"
      }
     },
     "d811546bff1646df98d1b967b2079882": {
      "model_module": "@jupyter-widgets/controls",
      "model_module_version": "1.5.0",
      "model_name": "SelectMultipleModel",
      "state": {
       "_options_labels": [
        "BlackLivesMatter",
        "racism",
        "LGBT",
        "PoliceBrutality",
        "Diversity",
        "blacklivesmatter",
        "BlackLove",
        "LGBTQ",
        "BlackHistoryMonth",
        "BlackTwitter",
        "HumanRights",
        "blackexcellence",
        "BlackTwitterMovement",
        "police",
        "SayNoToRacism",
        "policebrutality",
        "Blacktwitter",
        "love",
        "BlackExcellence",
        "CHANGE",
        "Police",
        "Trump",
        "Africa",
        "racist",
        "TuesdayThoughts",
        "blackgirlsrock",
        "blackandproud",
        "women",
        "MondayMotivation",
        "blackhistorymonth",
        "black",
        "blackisbeautiful",
        "blackgirlmagic",
        "loveislove",
        "blacklove",
        "mondaythoughts",
        "TuesdayMotivation",
        "PoliceState",
        "girlpower",
        "FridayFeeling",
        "cops",
        "Sustainability",
        "BLM",
        "blacks",
        "blackhistory",
        "FridayThoughts",
        "ThursdayMotivation",
        "saynotoracism",
        "FridayMotivation",
        "WednesdayWisdom"
       ],
       "description": "Keywords",
       "index": [
        1
       ],
       "layout": "IPY_MODEL_ffa1707af1ea4e318501649617183033",
       "rows": 10,
       "style": "IPY_MODEL_6150fb8b32ba4bda9063def5376ae585"
      }
     },
     "d82c3ee030e1443e8d3095a3057cc560": {
      "model_module": "@jupyter-widgets/controls",
      "model_module_version": "1.5.0",
      "model_name": "ButtonStyleModel",
      "state": {}
     },
     "d89d76e1bb5f4191a43011bbd4c4cc29": {
      "model_module": "@jupyter-widgets/controls",
      "model_module_version": "1.5.0",
      "model_name": "ButtonModel",
      "state": {
       "description": "Clear Output",
       "layout": "IPY_MODEL_8f3a3561716e4e3284ed78c75d3b796c",
       "style": "IPY_MODEL_ea2348cb66c8429f9a799f29b9b8e099"
      }
     },
     "d90cc66809d749a6bf6b109df5f18034": {
      "model_module": "@jupyter-widgets/controls",
      "model_module_version": "1.5.0",
      "model_name": "DescriptionStyleModel",
      "state": {
       "description_width": ""
      }
     },
     "da2c380f41c04237a46e79ac2faf4a97": {
      "model_module": "@jupyter-widgets/base",
      "model_module_version": "1.2.0",
      "model_name": "LayoutModel",
      "state": {}
     },
     "da8c6bed27754c7eaadf0ebf68c05773": {
      "model_module": "@jupyter-widgets/controls",
      "model_module_version": "1.5.0",
      "model_name": "IntRangeSliderModel",
      "state": {
       "_model_name": "IntRangeSliderModel",
       "_view_name": "IntRangeSliderView",
       "continuous_update": false,
       "description": "Range:",
       "layout": "IPY_MODEL_945b7b00e7834151910e4eb91b27223d",
       "max": 50,
       "style": "IPY_MODEL_5deeecace81847c8a3dd2472f7344ff3",
       "value": [
        0,
        21
       ]
      }
     },
     "daa5e65f75a64e3a98dba7236282bdce": {
      "model_module": "@jupyter-widgets/base",
      "model_module_version": "1.2.0",
      "model_name": "LayoutModel",
      "state": {}
     },
     "db5d07c771254910b05b0fa3514e7d59": {
      "model_module": "@jupyter-widgets/base",
      "model_module_version": "1.2.0",
      "model_name": "LayoutModel",
      "state": {}
     },
     "db850c140a4042099788cb503f877b72": {
      "model_module": "@jupyter-widgets/controls",
      "model_module_version": "1.5.0",
      "model_name": "TextModel",
      "state": {
       "description": "Hashtag:",
       "layout": "IPY_MODEL_0e6d482d995c46388d68e151cc997dbe",
       "style": "IPY_MODEL_a81818010ba046188a7df828bbc4edb5",
       "value": "blm"
      }
     },
     "dba0179d5fcf4d98b5db2e81db71ed2e": {
      "model_module": "@jupyter-widgets/controls",
      "model_module_version": "1.5.0",
      "model_name": "ButtonModel",
      "state": {
       "description": "Clear Output",
       "layout": "IPY_MODEL_8429efe7ca1b4961987d75000f1b592f",
       "style": "IPY_MODEL_10d48c483ff04ae9b2fbff73559ee94c"
      }
     },
     "dbac099ee5ff45fe989ff30378ac0957": {
      "model_module": "@jupyter-widgets/controls",
      "model_module_version": "1.5.0",
      "model_name": "ButtonModel",
      "state": {
       "description": "Clear Output",
       "layout": "IPY_MODEL_99a19443363444569d9e4142914cf956",
       "style": "IPY_MODEL_77d60449e10b4b7d8499ffc70feff969"
      }
     },
     "dbec9d32d56140c1bdc145cc194e2fd7": {
      "model_module": "@jupyter-widgets/base",
      "model_module_version": "1.2.0",
      "model_name": "LayoutModel",
      "state": {}
     },
     "dc1f56df01b944579bca9f8d4f10151d": {
      "model_module": "@jupyter-widgets/controls",
      "model_module_version": "1.5.0",
      "model_name": "DescriptionStyleModel",
      "state": {
       "description_width": ""
      }
     },
     "dc35e968ccb9418c814a57514dfd3bea": {
      "model_module": "@jupyter-widgets/base",
      "model_module_version": "1.2.0",
      "model_name": "LayoutModel",
      "state": {}
     },
     "dd283e9b2b7149d4abaa63e1e21ed3ee": {
      "model_module": "@jupyter-widgets/controls",
      "model_module_version": "1.5.0",
      "model_name": "DescriptionStyleModel",
      "state": {
       "description_width": ""
      }
     },
     "de54b7544923462fabcc3c08b46e8191": {
      "model_module": "@jupyter-widgets/controls",
      "model_module_version": "1.5.0",
      "model_name": "SelectMultipleModel",
      "state": {
       "_options_labels": [
        "BlackLivesMatter",
        "racism",
        "LGBT",
        "PoliceBrutality",
        "Diversity",
        "blacklivesmatter",
        "BlackLove",
        "LGBTQ",
        "BlackHistoryMonth",
        "BlackTwitter",
        "HumanRights",
        "blackexcellence",
        "BlackTwitterMovement",
        "police",
        "SayNoToRacism",
        "policebrutality",
        "Blacktwitter",
        "love",
        "BlackExcellence",
        "CHANGE",
        "Police",
        "Trump",
        "Africa",
        "racist",
        "TuesdayThoughts",
        "blackgirlsrock",
        "blackandproud",
        "women",
        "MondayMotivation",
        "blackhistorymonth",
        "black",
        "blackisbeautiful",
        "blackgirlmagic",
        "loveislove",
        "blacklove",
        "mondaythoughts",
        "TuesdayMotivation",
        "PoliceState",
        "girlpower",
        "FridayFeeling",
        "cops",
        "Sustainability",
        "BLM",
        "blacks",
        "blackhistory",
        "FridayThoughts",
        "ThursdayMotivation",
        "saynotoracism",
        "FridayMotivation",
        "WednesdayWisdom"
       ],
       "description": "Keywords",
       "index": [
        4
       ],
       "layout": "IPY_MODEL_89df9d5ae19e4a8fac35e90fe97a941b",
       "rows": 10,
       "style": "IPY_MODEL_0f405496f25840fabdb4fb00ddb549b0"
      }
     },
     "decf7302322c4a0d9bf18a5005bd63cf": {
      "model_module": "@jupyter-widgets/controls",
      "model_module_version": "1.5.0",
      "model_name": "DescriptionStyleModel",
      "state": {
       "description_width": ""
      }
     },
     "df9996ea909549ed825d23aace86c4ad": {
      "model_module": "@jupyter-widgets/controls",
      "model_module_version": "1.5.0",
      "model_name": "SelectMultipleModel",
      "state": {
       "_options_labels": [
        "BlackLivesMatter",
        "racism",
        "LGBT",
        "PoliceBrutality",
        "Diversity",
        "blacklivesmatter",
        "BlackLove",
        "LGBTQ",
        "BlackHistoryMonth",
        "BlackTwitter"
       ],
       "description": "Keywords",
       "index": [
        2
       ],
       "layout": "IPY_MODEL_ab4e50e302f644a4bd9bde258afce86b",
       "rows": 10,
       "style": "IPY_MODEL_2e19cfc1d1f9409380b2e5be916b623a"
      }
     },
     "dfb22b8e404d4956b613b46c6ede7411": {
      "model_module": "@jupyter-widgets/base",
      "model_module_version": "1.2.0",
      "model_name": "LayoutModel",
      "state": {}
     },
     "dff18db7c9aa4096b35ffe4bf7242ad4": {
      "model_module": "@jupyter-widgets/base",
      "model_module_version": "1.2.0",
      "model_name": "LayoutModel",
      "state": {}
     },
     "e02744fc253242a8a37a740417d2b3bb": {
      "model_module": "@jupyter-widgets/controls",
      "model_module_version": "1.5.0",
      "model_name": "DescriptionStyleModel",
      "state": {
       "description_width": ""
      }
     },
     "e02972619f15437bb626f805e336a9c3": {
      "model_module": "@jupyter-widgets/controls",
      "model_module_version": "1.5.0",
      "model_name": "TextModel",
      "state": {
       "description": "Hashtag:",
       "layout": "IPY_MODEL_2bd2f4d23e9f4a919eaffbbff4c66c86",
       "style": "IPY_MODEL_f6b36d299b804756a8eb3b54d61617d9",
       "value": "BLm"
      }
     },
     "e02e960fbc9a42e6a102f75ce5dc0660": {
      "model_module": "@jupyter-widgets/controls",
      "model_module_version": "1.5.0",
      "model_name": "DescriptionStyleModel",
      "state": {
       "description_width": ""
      }
     },
     "e0314755138a49c7bc226fadf91a2d87": {
      "model_module": "@jupyter-widgets/base",
      "model_module_version": "1.2.0",
      "model_name": "LayoutModel",
      "state": {}
     },
     "e1c877f01ef143bd88fc3822a0fa5ea6": {
      "model_module": "@jupyter-widgets/base",
      "model_module_version": "1.2.0",
      "model_name": "LayoutModel",
      "state": {}
     },
     "e211b9b9c1e248089eaa376c88772bac": {
      "model_module": "@jupyter-widgets/controls",
      "model_module_version": "1.5.0",
      "model_name": "SelectMultipleModel",
      "state": {
       "_options_labels": [
        "tweetid",
        "userid",
        "user_display_name",
        "user_screen_name",
        "user_reported_location",
        "user_profile_description",
        "user_profile_url",
        "follower_count",
        "following_count",
        "account_creation_date",
        "account_language",
        "tweet_language",
        "tweet_text",
        "tweet_time",
        "tweet_client_name",
        "in_reply_to_userid",
        "in_reply_to_tweetid",
        "quoted_tweet_tweetid",
        "is_retweet",
        "retweet_userid",
        "retweet_tweetid",
        "latitude",
        "longitude",
        "quote_count",
        "reply_count",
        "like_count",
        "retweet_count",
        "hashtags",
        "urls",
        "user_mentions",
        "poll_choices"
       ],
       "description": "Keywords",
       "index": [
        8
       ],
       "layout": "IPY_MODEL_71c9876d2a1942ecb2fb2d4c03d655a0",
       "rows": 10,
       "style": "IPY_MODEL_4fe490d0143a4e99bafba7bb89816134"
      }
     },
     "e21a08e6fd5a4abb817c0dc921ca96e7": {
      "model_module": "@jupyter-widgets/base",
      "model_module_version": "1.2.0",
      "model_name": "LayoutModel",
      "state": {}
     },
     "e2dfd1e8657348f2ae2270fc6671f7ad": {
      "model_module": "@jupyter-widgets/controls",
      "model_module_version": "1.5.0",
      "model_name": "SelectMultipleModel",
      "state": {
       "_options_labels": [
        "BlackLivesMatter",
        "racism",
        "LGBT",
        "PoliceBrutality",
        "Diversity",
        "blacklivesmatter",
        "BlackLove",
        "LGBTQ",
        "BlackHistoryMonth",
        "BlackTwitter",
        "HumanRights",
        "blackexcellence",
        "BlackTwitterMovement",
        "police",
        "SayNoToRacism",
        "policebrutality",
        "Blacktwitter",
        "love",
        "BlackExcellence",
        "CHANGE",
        "Police",
        "Trump",
        "Africa",
        "racist",
        "TuesdayThoughts",
        "blackgirlsrock",
        "blackandproud",
        "women",
        "MondayMotivation",
        "blackhistorymonth",
        "black",
        "blackisbeautiful",
        "blackgirlmagic",
        "loveislove",
        "blacklove",
        "mondaythoughts",
        "TuesdayMotivation",
        "PoliceState",
        "girlpower",
        "FridayFeeling",
        "cops",
        "Sustainability",
        "BLM",
        "blacks",
        "blackhistory",
        "FridayThoughts",
        "ThursdayMotivation",
        "saynotoracism",
        "FridayMotivation",
        "WednesdayWisdom"
       ],
       "description": "Keywords",
       "index": [
        41,
        43
       ],
       "layout": "IPY_MODEL_50129132598541f99275563c64c5fa56",
       "rows": 10,
       "style": "IPY_MODEL_dd283e9b2b7149d4abaa63e1e21ed3ee"
      }
     },
     "e3449e5d8b744ce59cbb4a7000a02140": {
      "model_module": "@jupyter-widgets/controls",
      "model_module_version": "1.5.0",
      "model_name": "TextModel",
      "state": {
       "description": "Hashtag:",
       "layout": "IPY_MODEL_fa8ea08812724979995ee69ef12e60c5",
       "style": "IPY_MODEL_6c806d98ae794ccba6b5ae37847b07a4",
       "value": "blm"
      }
     },
     "e34589ef6fa74be0bdc1c9f3b4d460d8": {
      "model_module": "@jupyter-widgets/controls",
      "model_module_version": "1.5.0",
      "model_name": "ButtonStyleModel",
      "state": {}
     },
     "e362477d2e784b46a7420046758036b3": {
      "model_module": "@jupyter-widgets/controls",
      "model_module_version": "1.5.0",
      "model_name": "IntRangeSliderModel",
      "state": {
       "_model_name": "IntRangeSliderModel",
       "_view_name": "IntRangeSliderView",
       "continuous_update": false,
       "description": "Range:",
       "layout": "IPY_MODEL_1055537fe03c4d22814ef69e3141ea27",
       "max": 10,
       "style": "IPY_MODEL_ffcd40e771d3429aa4897e59d607867e",
       "value": [
        0,
        10
       ]
      }
     },
     "e3bffa4e38934bbaa52cf3809b4a81eb": {
      "model_module": "@jupyter-widgets/controls",
      "model_module_version": "1.5.0",
      "model_name": "ButtonModel",
      "state": {
       "description": "Clear Output",
       "layout": "IPY_MODEL_08cc605d39754799ae43637176429611",
       "style": "IPY_MODEL_7e05cfc92827447882f1b49b3899a6bc"
      }
     },
     "e41c18de72f845de9f357d8b7c524b52": {
      "model_module": "@jupyter-widgets/controls",
      "model_module_version": "1.5.0",
      "model_name": "DescriptionStyleModel",
      "state": {
       "description_width": ""
      }
     },
     "e497d50c4edb406aa57c671d96df1a0a": {
      "model_module": "@jupyter-widgets/controls",
      "model_module_version": "1.5.0",
      "model_name": "SelectMultipleModel",
      "state": {
       "_options_labels": [
        "BlackLivesMatter",
        "racism",
        "LGBT",
        "PoliceBrutality",
        "Diversity",
        "blacklivesmatter",
        "BlackLove",
        "LGBTQ",
        "BlackHistoryMonth",
        "BlackTwitter",
        "HumanRights",
        "blackexcellence",
        "BlackTwitterMovement",
        "police",
        "SayNoToRacism",
        "policebrutality",
        "Blacktwitter",
        "love",
        "BlackExcellence",
        "CHANGE",
        "Police",
        "Trump",
        "Africa",
        "racist",
        "TuesdayThoughts",
        "blackgirlsrock",
        "blackandproud",
        "women",
        "MondayMotivation",
        "blackhistorymonth",
        "black",
        "blackisbeautiful",
        "blackgirlmagic",
        "loveislove",
        "blacklove",
        "mondaythoughts",
        "TuesdayMotivation",
        "PoliceState",
        "girlpower",
        "FridayFeeling",
        "cops",
        "Sustainability",
        "BLM",
        "blacks",
        "blackhistory",
        "FridayThoughts",
        "ThursdayMotivation",
        "saynotoracism",
        "FridayMotivation",
        "WednesdayWisdom"
       ],
       "description": "Keywords",
       "index": [
        39,
        40,
        41,
        42,
        43,
        44,
        45,
        46,
        47,
        48
       ],
       "layout": "IPY_MODEL_50bb388596344b91a2bc24e56742c45f",
       "rows": 10,
       "style": "IPY_MODEL_30c09a45af1b4cbc8d82c2a2ffb8925e"
      }
     },
     "e4aac5d0ddd149fabeb24cf0d095c4c3": {
      "model_module": "@jupyter-widgets/controls",
      "model_module_version": "1.5.0",
      "model_name": "SelectMultipleModel",
      "state": {
       "_options_labels": [
        "BlackLivesMatter",
        "racism",
        "LGBT",
        "PoliceBrutality",
        "Diversity",
        "blacklivesmatter",
        "BlackLove",
        "LGBTQ",
        "BlackHistoryMonth",
        "BlackTwitter",
        "HumanRights",
        "blackexcellence",
        "BlackTwitterMovement",
        "police",
        "SayNoToRacism",
        "policebrutality",
        "Blacktwitter",
        "love",
        "BlackExcellence",
        "CHANGE",
        "Police",
        "Trump",
        "Africa",
        "racist",
        "TuesdayThoughts",
        "blackgirlsrock",
        "blackandproud",
        "women",
        "MondayMotivation",
        "blackhistorymonth",
        "black",
        "blackisbeautiful",
        "blackgirlmagic",
        "loveislove",
        "blacklove",
        "mondaythoughts",
        "TuesdayMotivation",
        "PoliceState",
        "girlpower",
        "FridayFeeling",
        "cops",
        "Sustainability",
        "BLM",
        "blacks",
        "blackhistory",
        "FridayThoughts",
        "ThursdayMotivation",
        "saynotoracism",
        "FridayMotivation",
        "WednesdayWisdom"
       ],
       "description": "Keywords",
       "index": [
        42
       ],
       "layout": "IPY_MODEL_d35601d4dad34d58873093f35ee21425",
       "rows": 10,
       "style": "IPY_MODEL_835f17e860e8467b872e97f39db2f993"
      }
     },
     "e4ecd04112e24195a11d2a514d4f74e3": {
      "model_module": "@jupyter-widgets/controls",
      "model_module_version": "1.5.0",
      "model_name": "DescriptionStyleModel",
      "state": {
       "description_width": ""
      }
     },
     "e546e211af8e446cb9b031d3e042d194": {
      "model_module": "@jupyter-widgets/controls",
      "model_module_version": "1.5.0",
      "model_name": "ButtonModel",
      "state": {
       "description": "Clear Output",
       "layout": "IPY_MODEL_cc6aa767ef1449bc979834d6e4da0a76",
       "style": "IPY_MODEL_c307eb47a931462ea58811133da386fb"
      }
     },
     "e564bd2bdd41495790fac0323cecbd15": {
      "model_module": "@jupyter-widgets/controls",
      "model_module_version": "1.5.0",
      "model_name": "SelectMultipleModel",
      "state": {
       "_options_labels": [
        "BlackLivesMatter",
        "racism",
        "LGBT",
        "PoliceBrutality",
        "Diversity",
        "blacklivesmatter",
        "BlackLove",
        "LGBTQ",
        "BlackHistoryMonth",
        "BlackTwitter"
       ],
       "description": "Keywords",
       "index": [
        5
       ],
       "layout": "IPY_MODEL_1fb6bd3d80fb460e9dce33fe1c15e4d5",
       "rows": 10,
       "style": "IPY_MODEL_840fac04575f46a79b258b1e8ff4a71e"
      }
     },
     "e590880ab71148cbbd44e367792f8006": {
      "model_module": "@jupyter-widgets/controls",
      "model_module_version": "1.5.0",
      "model_name": "SelectMultipleModel",
      "state": {
       "_options_labels": [
        "BlackLivesMatter",
        "racism",
        "LGBT",
        "PoliceBrutality",
        "Diversity",
        "blacklivesmatter",
        "BlackLove",
        "LGBTQ",
        "BlackHistoryMonth",
        "BlackTwitter",
        "HumanRights",
        "blackexcellence",
        "BlackTwitterMovement",
        "police",
        "SayNoToRacism",
        "policebrutality",
        "Blacktwitter",
        "love",
        "BlackExcellence",
        "CHANGE",
        "Police",
        "Trump",
        "Africa",
        "racist",
        "TuesdayThoughts",
        "blackgirlsrock",
        "blackandproud",
        "women",
        "MondayMotivation",
        "blackhistorymonth",
        "black",
        "blackisbeautiful",
        "blackgirlmagic",
        "loveislove",
        "blacklove",
        "mondaythoughts",
        "TuesdayMotivation",
        "PoliceState",
        "girlpower",
        "FridayFeeling",
        "cops",
        "Sustainability",
        "BLM",
        "blacks",
        "blackhistory",
        "FridayThoughts",
        "ThursdayMotivation",
        "saynotoracism",
        "FridayMotivation",
        "WednesdayWisdom"
       ],
       "description": "Keywords",
       "index": [
        3
       ],
       "layout": "IPY_MODEL_63a23ac53369452693ff2d8f611ad688",
       "rows": 10,
       "style": "IPY_MODEL_afc3f4f3ce8548d8ba8515ca61cca3db"
      }
     },
     "e6366778b8924eb1ace83fd93697f5a2": {
      "model_module": "@jupyter-widgets/controls",
      "model_module_version": "1.5.0",
      "model_name": "ButtonModel",
      "state": {
       "description": "Clear Output",
       "layout": "IPY_MODEL_3f93fcd56a0049c49b804c3e393922e5",
       "style": "IPY_MODEL_65ea19222a894cd8bff526e88e0e40ed"
      }
     },
     "e68aff357e244d8793de29f2daf1271b": {
      "model_module": "@jupyter-widgets/controls",
      "model_module_version": "1.5.0",
      "model_name": "SelectMultipleModel",
      "state": {
       "_options_labels": [
        "BlackLivesMatter",
        "racism",
        "LGBT",
        "PoliceBrutality",
        "Diversity",
        "blacklivesmatter",
        "BlackLove",
        "LGBTQ",
        "BlackHistoryMonth",
        "BlackTwitter",
        "HumanRights",
        "blackexcellence",
        "BlackTwitterMovement",
        "police",
        "SayNoToRacism",
        "policebrutality",
        "Blacktwitter",
        "love",
        "BlackExcellence",
        "CHANGE",
        "Police",
        "Trump",
        "Africa",
        "racist",
        "TuesdayThoughts",
        "blackgirlsrock",
        "blackandproud",
        "women",
        "MondayMotivation",
        "blackhistorymonth",
        "black",
        "blackisbeautiful",
        "blackgirlmagic",
        "loveislove",
        "blacklove",
        "mondaythoughts",
        "TuesdayMotivation",
        "PoliceState",
        "girlpower",
        "FridayFeeling",
        "cops",
        "Sustainability",
        "BLM",
        "blacks",
        "blackhistory",
        "FridayThoughts",
        "ThursdayMotivation",
        "saynotoracism",
        "FridayMotivation",
        "WednesdayWisdom"
       ],
       "description": "Keywords",
       "index": [
        27
       ],
       "layout": "IPY_MODEL_1939ac5c6a394b7ba9ccfdf93bfae98d",
       "rows": 10,
       "style": "IPY_MODEL_e41c18de72f845de9f357d8b7c524b52"
      }
     },
     "e6d33bb8fc5a4c768c17aa010a68de0a": {
      "model_module": "@jupyter-widgets/controls",
      "model_module_version": "1.5.0",
      "model_name": "IntRangeSliderModel",
      "state": {
       "_model_name": "IntRangeSliderModel",
       "_view_name": "IntRangeSliderView",
       "continuous_update": false,
       "description": "Range:",
       "layout": "IPY_MODEL_645eb9528b874ee09446fa7052c8ce2f",
       "max": 10,
       "style": "IPY_MODEL_b1e0ff5ada804b0ab4f60a2f3eb60388",
       "value": [
        0,
        10
       ]
      }
     },
     "e6e004cfb90c4c46a9515082b4e02301": {
      "model_module": "@jupyter-widgets/controls",
      "model_module_version": "1.5.0",
      "model_name": "ButtonStyleModel",
      "state": {}
     },
     "e78a135968774269a3d0d78403660f41": {
      "model_module": "@jupyter-widgets/controls",
      "model_module_version": "1.5.0",
      "model_name": "ButtonStyleModel",
      "state": {}
     },
     "e78b5b79126a4efbbc339bd25bb452dc": {
      "model_module": "@jupyter-widgets/controls",
      "model_module_version": "1.5.0",
      "model_name": "IntRangeSliderModel",
      "state": {
       "_model_name": "IntRangeSliderModel",
       "_view_name": "IntRangeSliderView",
       "continuous_update": false,
       "description": "Range:",
       "layout": "IPY_MODEL_7fe19dedf2234768a36da76a5a3dbfbf",
       "max": 10,
       "style": "IPY_MODEL_8004e7caea744b4e873dc831b4cbd180",
       "value": [
        3,
        10
       ]
      }
     },
     "e8211962bdea4ab680094f1f0264a419": {
      "model_module": "@jupyter-widgets/base",
      "model_module_version": "1.2.0",
      "model_name": "LayoutModel",
      "state": {}
     },
     "e867b4a83a6e4715a8f00711d9513576": {
      "model_module": "@jupyter-widgets/base",
      "model_module_version": "1.2.0",
      "model_name": "LayoutModel",
      "state": {}
     },
     "e9a3c13d6662401aba72b676db1e45a6": {
      "model_module": "@jupyter-widgets/controls",
      "model_module_version": "1.5.0",
      "model_name": "ButtonModel",
      "state": {
       "description": "Clear Output",
       "layout": "IPY_MODEL_9f6ea889894c4966afb7e1d11f0499bf",
       "style": "IPY_MODEL_63340458e2be44e588c1cc9f80645580"
      }
     },
     "ea2348cb66c8429f9a799f29b9b8e099": {
      "model_module": "@jupyter-widgets/controls",
      "model_module_version": "1.5.0",
      "model_name": "ButtonStyleModel",
      "state": {}
     },
     "ea456eb82f624ded9051061460aca59e": {
      "model_module": "@jupyter-widgets/base",
      "model_module_version": "1.2.0",
      "model_name": "LayoutModel",
      "state": {}
     },
     "eaec56eb199540269710d802580bdbc3": {
      "model_module": "@jupyter-widgets/controls",
      "model_module_version": "1.5.0",
      "model_name": "DescriptionStyleModel",
      "state": {
       "description_width": ""
      }
     },
     "ec174b2532b2469893e6be65490d9708": {
      "model_module": "@jupyter-widgets/controls",
      "model_module_version": "1.5.0",
      "model_name": "TextModel",
      "state": {
       "description": "Hashtag:",
       "layout": "IPY_MODEL_2ebdc05f456048789a93f6999ba2f22f",
       "style": "IPY_MODEL_47723a2a34e44de59d9b68d7d03a523c",
       "value": "BLM"
      }
     },
     "ec3ced2a97d14a1b96658f22585fb180": {
      "model_module": "@jupyter-widgets/base",
      "model_module_version": "1.2.0",
      "model_name": "LayoutModel",
      "state": {}
     },
     "ec6450f76fec4d7abd1caf3e02a2b3a7": {
      "model_module": "@jupyter-widgets/controls",
      "model_module_version": "1.5.0",
      "model_name": "DescriptionStyleModel",
      "state": {
       "description_width": ""
      }
     },
     "ecaafdb8dcdb47888f87f3f850e23485": {
      "model_module": "@jupyter-widgets/base",
      "model_module_version": "1.2.0",
      "model_name": "LayoutModel",
      "state": {}
     },
     "ecc30ed3d4cd40f8afff939c8dc044d7": {
      "model_module": "@jupyter-widgets/controls",
      "model_module_version": "1.5.0",
      "model_name": "TextModel",
      "state": {
       "description": "Hashtag:",
       "layout": "IPY_MODEL_6025be2040d141f1a5f5782ce5def23d",
       "style": "IPY_MODEL_58aa90ab460340b0a106c1e5b886efeb",
       "value": "BLM"
      }
     },
     "ed3f7e1ede80498a84e31ba191bb8630": {
      "model_module": "@jupyter-widgets/controls",
      "model_module_version": "1.5.0",
      "model_name": "SelectMultipleModel",
      "state": {
       "_options_labels": [
        "BlackLivesMatter",
        "racism",
        "LGBT",
        "PoliceBrutality",
        "Diversity",
        "blacklivesmatter",
        "BlackLove",
        "LGBTQ",
        "BlackHistoryMonth",
        "BlackTwitter",
        "HumanRights",
        "blackexcellence",
        "BlackTwitterMovement",
        "police",
        "SayNoToRacism",
        "policebrutality",
        "Blacktwitter",
        "love",
        "BlackExcellence",
        "CHANGE",
        "Police",
        "Trump",
        "Africa",
        "racist",
        "TuesdayThoughts",
        "blackgirlsrock",
        "blackandproud",
        "women",
        "MondayMotivation",
        "blackhistorymonth",
        "black",
        "blackisbeautiful",
        "blackgirlmagic",
        "loveislove",
        "blacklove",
        "mondaythoughts",
        "TuesdayMotivation",
        "PoliceState",
        "girlpower",
        "FridayFeeling",
        "cops",
        "Sustainability",
        "BLM",
        "blacks",
        "blackhistory",
        "FridayThoughts",
        "ThursdayMotivation",
        "saynotoracism",
        "FridayMotivation",
        "WednesdayWisdom"
       ],
       "description": "Keywords",
       "index": [
        3
       ],
       "layout": "IPY_MODEL_7858187857e44c8c831f9ef86bcf59ac",
       "rows": 10,
       "style": "IPY_MODEL_a88c3e75feb64f0389f02afe9b662071"
      }
     },
     "edb79b77c20944a98e9ca3993ec7b256": {
      "model_module": "@jupyter-widgets/controls",
      "model_module_version": "1.5.0",
      "model_name": "SelectMultipleModel",
      "state": {
       "_options_labels": [
        "BlackLivesMatter",
        "racism",
        "LGBT",
        "PoliceBrutality",
        "Diversity",
        "blacklivesmatter",
        "BlackLove",
        "LGBTQ",
        "BlackHistoryMonth",
        "BlackTwitter",
        "HumanRights",
        "blackexcellence",
        "BlackTwitterMovement",
        "police",
        "SayNoToRacism",
        "policebrutality",
        "Blacktwitter",
        "love",
        "BlackExcellence",
        "CHANGE",
        "Police",
        "Trump",
        "Africa",
        "racist",
        "TuesdayThoughts",
        "blackgirlsrock",
        "blackandproud",
        "women",
        "MondayMotivation",
        "blackhistorymonth",
        "black",
        "blackisbeautiful",
        "blackgirlmagic",
        "loveislove",
        "blacklove",
        "mondaythoughts",
        "TuesdayMotivation",
        "PoliceState",
        "girlpower",
        "FridayFeeling",
        "cops",
        "Sustainability",
        "BLM",
        "blacks",
        "blackhistory",
        "FridayThoughts",
        "ThursdayMotivation",
        "saynotoracism",
        "FridayMotivation",
        "WednesdayWisdom"
       ],
       "description": "Keywords",
       "index": [
        0
       ],
       "layout": "IPY_MODEL_9a656158e75941e590efc47bca2c76c1",
       "rows": 10,
       "style": "IPY_MODEL_9d7102beca0741eb9dd1530464695d47"
      }
     },
     "ee1192d43c144dc0a11b61f248e96228": {
      "model_module": "@jupyter-widgets/controls",
      "model_module_version": "1.5.0",
      "model_name": "ButtonModel",
      "state": {
       "description": "Clear Output",
       "layout": "IPY_MODEL_03b0342921d542ac8417376698427b29",
       "style": "IPY_MODEL_048757702f334a38af53445381a7b4d4"
      }
     },
     "efb179bb01b94099946dd594bf57da91": {
      "model_module": "@jupyter-widgets/controls",
      "model_module_version": "1.5.0",
      "model_name": "DescriptionStyleModel",
      "state": {
       "description_width": ""
      }
     },
     "eff1b55eea554c5389c3bbfe971ceab8": {
      "model_module": "@jupyter-widgets/controls",
      "model_module_version": "1.5.0",
      "model_name": "TextModel",
      "state": {
       "description": "Hashtag:",
       "layout": "IPY_MODEL_544e976533464892bc0531b341476d0e",
       "style": "IPY_MODEL_f1a65baede144b81a3c1543e0115d99a",
       "value": "BLM"
      }
     },
     "f04460369b2440b4bb3e24c02a8fbf6a": {
      "model_module": "@jupyter-widgets/controls",
      "model_module_version": "1.5.0",
      "model_name": "ButtonStyleModel",
      "state": {}
     },
     "f1a65baede144b81a3c1543e0115d99a": {
      "model_module": "@jupyter-widgets/controls",
      "model_module_version": "1.5.0",
      "model_name": "DescriptionStyleModel",
      "state": {
       "description_width": ""
      }
     },
     "f2d48046054045dcac347d2388cba208": {
      "model_module": "@jupyter-widgets/controls",
      "model_module_version": "1.5.0",
      "model_name": "DescriptionStyleModel",
      "state": {
       "description_width": ""
      }
     },
     "f30ef6a503be4269b9d5f7691d7f84e5": {
      "model_module": "@jupyter-widgets/base",
      "model_module_version": "1.2.0",
      "model_name": "LayoutModel",
      "state": {}
     },
     "f399668ad0e24b6cb753e4966bd2a84f": {
      "model_module": "@jupyter-widgets/base",
      "model_module_version": "1.2.0",
      "model_name": "LayoutModel",
      "state": {}
     },
     "f3bc861318e84a26b836c4ec85168082": {
      "model_module": "@jupyter-widgets/base",
      "model_module_version": "1.2.0",
      "model_name": "LayoutModel",
      "state": {}
     },
     "f3e4079c741d48cb863bebaefbb44176": {
      "model_module": "@jupyter-widgets/controls",
      "model_module_version": "1.5.0",
      "model_name": "SelectMultipleModel",
      "state": {
       "_options_labels": [
        "BlackLivesMatter",
        "racism",
        "LGBT",
        "PoliceBrutality",
        "Diversity",
        "blacklivesmatter",
        "BlackLove",
        "LGBTQ",
        "BlackHistoryMonth",
        "BlackTwitter",
        "HumanRights",
        "blackexcellence",
        "BlackTwitterMovement",
        "police",
        "SayNoToRacism",
        "policebrutality",
        "Blacktwitter",
        "love",
        "BlackExcellence",
        "CHANGE",
        "Police",
        "Trump",
        "Africa",
        "racist",
        "TuesdayThoughts",
        "blackgirlsrock",
        "blackandproud",
        "women",
        "MondayMotivation",
        "blackhistorymonth",
        "black",
        "blackisbeautiful",
        "blackgirlmagic",
        "loveislove",
        "blacklove",
        "mondaythoughts",
        "TuesdayMotivation",
        "PoliceState",
        "girlpower",
        "FridayFeeling",
        "cops",
        "Sustainability",
        "BLM",
        "blacks",
        "blackhistory",
        "FridayThoughts",
        "ThursdayMotivation",
        "saynotoracism",
        "FridayMotivation",
        "WednesdayWisdom"
       ],
       "description": "Keywords",
       "index": [
        4
       ],
       "layout": "IPY_MODEL_c878c394649d46188fe0c5e4261d4da2",
       "rows": 10,
       "style": "IPY_MODEL_09c9a3e49e6a469694981d2c9fa24393"
      }
     },
     "f4139c48eaf8415680fcc4e210a62cfa": {
      "model_module": "@jupyter-widgets/controls",
      "model_module_version": "1.5.0",
      "model_name": "IntRangeSliderModel",
      "state": {
       "_model_name": "IntRangeSliderModel",
       "_view_name": "IntRangeSliderView",
       "continuous_update": false,
       "description": "Range:",
       "layout": "IPY_MODEL_4b5ec593e3614fee9a253f631a9637e4",
       "max": 10,
       "style": "IPY_MODEL_be911a404d7749bd97023fbc942dda79",
       "value": [
        0,
        10
       ]
      }
     },
     "f4dccb378d17422482ceffa1d53e3cc3": {
      "model_module": "@jupyter-widgets/base",
      "model_module_version": "1.2.0",
      "model_name": "LayoutModel",
      "state": {}
     },
     "f4e77648ef1a4096b5cf15d3f1752c5b": {
      "model_module": "@jupyter-widgets/controls",
      "model_module_version": "1.5.0",
      "model_name": "IntRangeSliderModel",
      "state": {
       "_model_name": "IntRangeSliderModel",
       "_view_name": "IntRangeSliderView",
       "continuous_update": false,
       "description": "Range:",
       "layout": "IPY_MODEL_375736c5d4ee4b82ae37b4ea8406b738",
       "max": 50,
       "style": "IPY_MODEL_6f3d16fa8cb74aeaa6892bdbc6a68f90",
       "value": [
        0,
        50
       ]
      }
     },
     "f50dd1e7fa2943b59e62676dae82dcfc": {
      "model_module": "@jupyter-widgets/controls",
      "model_module_version": "1.5.0",
      "model_name": "DescriptionStyleModel",
      "state": {
       "description_width": ""
      }
     },
     "f57f31014e6e44549a6db7fe293cbdc2": {
      "model_module": "@jupyter-widgets/base",
      "model_module_version": "1.2.0",
      "model_name": "LayoutModel",
      "state": {}
     },
     "f5c6964136b94172a159704acf0015ee": {
      "model_module": "@jupyter-widgets/controls",
      "model_module_version": "1.5.0",
      "model_name": "TextModel",
      "state": {
       "description": "Enter ID:",
       "layout": "IPY_MODEL_491801881d9246b4851118c631997199",
       "style": "IPY_MODEL_4f1064187d60423fb3ad88befe89a6bb"
      }
     },
     "f60fcaa3608e41938e57e07f65026cb7": {
      "model_module": "@jupyter-widgets/controls",
      "model_module_version": "1.5.0",
      "model_name": "ButtonModel",
      "state": {
       "description": "Clear Output",
       "layout": "IPY_MODEL_15aabdcd4973417da3a7d2ac371dc1d1",
       "style": "IPY_MODEL_9576451e844e42a5a9df61b0f210372a"
      }
     },
     "f6b36d299b804756a8eb3b54d61617d9": {
      "model_module": "@jupyter-widgets/controls",
      "model_module_version": "1.5.0",
      "model_name": "DescriptionStyleModel",
      "state": {
       "description_width": ""
      }
     },
     "f6df6410afb14a44a15d8523b8cd9d7d": {
      "model_module": "@jupyter-widgets/controls",
      "model_module_version": "1.5.0",
      "model_name": "TextModel",
      "state": {
       "description": "Hashtag:",
       "layout": "IPY_MODEL_149aaa4e05284dd3835f2f85faed8a18",
       "style": "IPY_MODEL_ec6450f76fec4d7abd1caf3e02a2b3a7",
       "value": "BLM"
      }
     },
     "f6f949a920bb47efa22cc131c79eeda8": {
      "model_module": "@jupyter-widgets/controls",
      "model_module_version": "1.5.0",
      "model_name": "SelectMultipleModel",
      "state": {
       "_options_labels": [
        "BlackLivesMatter",
        "racism",
        "LGBT",
        "PoliceBrutality",
        "Diversity",
        "blacklivesmatter",
        "BlackLove",
        "LGBTQ",
        "BlackHistoryMonth",
        "BlackTwitter"
       ],
       "description": "Keywords",
       "index": [
        1
       ],
       "layout": "IPY_MODEL_0935152384dc421e870bc28d10183a13",
       "rows": 10,
       "style": "IPY_MODEL_be7cc5c229ef4581805ed2706839801e"
      }
     },
     "f7388b2340f340debb3c4b476ff42394": {
      "model_module": "@jupyter-widgets/controls",
      "model_module_version": "1.5.0",
      "model_name": "TextModel",
      "state": {
       "description": "Hashtag:",
       "layout": "IPY_MODEL_e1c877f01ef143bd88fc3822a0fa5ea6",
       "style": "IPY_MODEL_36ef67b7ee2a42f2810167c8ef43b7c1",
       "value": "BLM"
      }
     },
     "f82f9b26d2fa4ae1a5a2315fffd39828": {
      "model_module": "@jupyter-widgets/base",
      "model_module_version": "1.2.0",
      "model_name": "LayoutModel",
      "state": {}
     },
     "f856e570a5514927ae3554bc34dc67b0": {
      "model_module": "@jupyter-widgets/base",
      "model_module_version": "1.2.0",
      "model_name": "LayoutModel",
      "state": {}
     },
     "f8e242d2f18b4243ba5f210d5f12a48f": {
      "model_module": "@jupyter-widgets/controls",
      "model_module_version": "1.5.0",
      "model_name": "ButtonStyleModel",
      "state": {}
     },
     "fa8ea08812724979995ee69ef12e60c5": {
      "model_module": "@jupyter-widgets/base",
      "model_module_version": "1.2.0",
      "model_name": "LayoutModel",
      "state": {}
     },
     "fa8eceb9f3274af98a3349c7484f8089": {
      "model_module": "@jupyter-widgets/base",
      "model_module_version": "1.2.0",
      "model_name": "LayoutModel",
      "state": {}
     },
     "fadff8e7ff2a435ab7e362c1901f188c": {
      "model_module": "@jupyter-widgets/controls",
      "model_module_version": "1.5.0",
      "model_name": "IntRangeSliderModel",
      "state": {
       "_model_name": "IntRangeSliderModel",
       "_view_name": "IntRangeSliderView",
       "continuous_update": false,
       "description": "Range:",
       "layout": "IPY_MODEL_819c1106764a47a199b87b4524e64664",
       "max": 10,
       "style": "IPY_MODEL_14a92590d954491cb03a673562636c66",
       "value": [
        0,
        10
       ]
      }
     },
     "fb8467567fc4492b880c5a5766f54d02": {
      "model_module": "@jupyter-widgets/controls",
      "model_module_version": "1.5.0",
      "model_name": "IntRangeSliderModel",
      "state": {
       "_model_name": "IntRangeSliderModel",
       "_view_name": "IntRangeSliderView",
       "continuous_update": false,
       "description": "Range:",
       "layout": "IPY_MODEL_6a1f7d26fd29455bbe9e63fcd3dfe1dc",
       "max": 50,
       "style": "IPY_MODEL_37ca871af7f8440d8a4ea67d67c1782e",
       "value": [
        0,
        50
       ]
      }
     },
     "fc377de04361460b918457ba5d4eee2e": {
      "model_module": "@jupyter-widgets/base",
      "model_module_version": "1.2.0",
      "model_name": "LayoutModel",
      "state": {}
     },
     "fcae234df5704057bed180feb666cfd1": {
      "model_module": "@jupyter-widgets/base",
      "model_module_version": "1.2.0",
      "model_name": "LayoutModel",
      "state": {}
     },
     "fcb790690d1c46d394878002e918e967": {
      "model_module": "@jupyter-widgets/controls",
      "model_module_version": "1.5.0",
      "model_name": "ButtonModel",
      "state": {
       "description": "Clear Output",
       "layout": "IPY_MODEL_0fcf461fc44c484a904c1c32175cbdd3",
       "style": "IPY_MODEL_d6c9f080c40241c28f95a1b9ac607ec4"
      }
     },
     "fd95b6ef54a541329ada23060b3e61bb": {
      "model_module": "@jupyter-widgets/controls",
      "model_module_version": "1.5.0",
      "model_name": "ButtonModel",
      "state": {
       "description": "Clear Output",
       "layout": "IPY_MODEL_b48ee8dc107d44a8ab1eff0131d8eb8f",
       "style": "IPY_MODEL_377b5a777aa04409bb1841524ebbebb3"
      }
     },
     "fe2387fd803a43daa21a5d7c4baef930": {
      "model_module": "@jupyter-widgets/controls",
      "model_module_version": "1.5.0",
      "model_name": "SliderStyleModel",
      "state": {
       "description_width": ""
      }
     },
     "fe9dc2a7e330491598e806fd8fe75904": {
      "model_module": "@jupyter-widgets/base",
      "model_module_version": "1.2.0",
      "model_name": "LayoutModel",
      "state": {}
     },
     "feb9b67059914c66acbf0df80d516a61": {
      "model_module": "@jupyter-widgets/controls",
      "model_module_version": "1.5.0",
      "model_name": "TextModel",
      "state": {
       "description": "Hashtag:",
       "layout": "IPY_MODEL_29c8a6162722447691e2f6528f45bcdd",
       "style": "IPY_MODEL_7754bfddfe234bb79bc3dce0a325c468",
       "value": "racism"
      }
     },
     "ff1d8c4f40c44f89838f6e033fec7b27": {
      "model_module": "@jupyter-widgets/controls",
      "model_module_version": "1.5.0",
      "model_name": "IntRangeSliderModel",
      "state": {
       "_model_name": "IntRangeSliderModel",
       "_view_name": "IntRangeSliderView",
       "continuous_update": false,
       "description": "Range:",
       "layout": "IPY_MODEL_b02ffcefadc74da9bebd76db1d61054e",
       "max": 50,
       "style": "IPY_MODEL_64a4a2f3cea94ee48a016e99666f2f33",
       "value": [
        0,
        50
       ]
      }
     },
     "ff27c1a8303d4450a998a8997a2deb44": {
      "model_module": "@jupyter-widgets/controls",
      "model_module_version": "1.5.0",
      "model_name": "IntRangeSliderModel",
      "state": {
       "_model_name": "IntRangeSliderModel",
       "_view_name": "IntRangeSliderView",
       "continuous_update": false,
       "description": "Range:",
       "layout": "IPY_MODEL_4533493475df476b94d2cba719e5a2e8",
       "max": 10,
       "style": "IPY_MODEL_63940ba302f64179b6be61bc4cfbdf1a",
       "value": [
        0,
        10
       ]
      }
     },
     "ff31f574192544e49d124ca533a02ffc": {
      "model_module": "@jupyter-widgets/controls",
      "model_module_version": "1.5.0",
      "model_name": "DescriptionStyleModel",
      "state": {
       "description_width": ""
      }
     },
     "ff53ea8b97eb47daa6a4ed0a3423ba6e": {
      "model_module": "@jupyter-widgets/base",
      "model_module_version": "1.2.0",
      "model_name": "LayoutModel",
      "state": {}
     },
     "ffa1707af1ea4e318501649617183033": {
      "model_module": "@jupyter-widgets/base",
      "model_module_version": "1.2.0",
      "model_name": "LayoutModel",
      "state": {}
     },
     "ffb232e2b667482e8973196061985610": {
      "model_module": "@jupyter-widgets/base",
      "model_module_version": "1.2.0",
      "model_name": "LayoutModel",
      "state": {}
     },
     "ffcd40e771d3429aa4897e59d607867e": {
      "model_module": "@jupyter-widgets/controls",
      "model_module_version": "1.5.0",
      "model_name": "SliderStyleModel",
      "state": {
       "description_width": ""
      }
     }
    },
    "version_major": 2,
    "version_minor": 0
   }
  }
 },
 "nbformat": 4,
 "nbformat_minor": 4
}
